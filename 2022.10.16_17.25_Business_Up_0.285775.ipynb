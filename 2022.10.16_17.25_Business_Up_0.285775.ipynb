{
 "cells": [
  {
   "cell_type": "markdown",
   "id": "a05ef205",
   "metadata": {},
   "source": []
  },
  {
   "cell_type": "markdown",
   "id": "b35dbd18",
   "metadata": {
    "toc": true
   },
   "source": [
    "<h1>Table of Contents<span class=\"tocSkip\"></span></h1>\n",
    "<div class=\"toc\"><ul class=\"toc-item\"><li><span><a href=\"#Введение\" data-toc-modified-id=\"Введение-1\"><span class=\"toc-item-num\">1&nbsp;&nbsp;</span>Введение</a></span></li><li><span><a href=\"#Описание-входных-значений\" data-toc-modified-id=\"Описание-входных-значений-2\"><span class=\"toc-item-num\">2&nbsp;&nbsp;</span>Описание входных значений</a></span></li><li><span><a href=\"#Пояснение-к-данным\" data-toc-modified-id=\"Пояснение-к-данным-3\"><span class=\"toc-item-num\">3&nbsp;&nbsp;</span>Пояснение к данным</a></span><ul class=\"toc-item\"><li><span><a href=\"#План-по-выполнению-проекта\" data-toc-modified-id=\"План-по-выполнению-проекта-3.1\"><span class=\"toc-item-num\">3.1&nbsp;&nbsp;</span>План по выполнению проекта</a></span></li></ul></li><li><span><a href=\"#Загрузка-данных\" data-toc-modified-id=\"Загрузка-данных-4\"><span class=\"toc-item-num\">4&nbsp;&nbsp;</span>Загрузка данных</a></span></li><li><span><a href=\"#Анализ-датасета\" data-toc-modified-id=\"Анализ-датасета-5\"><span class=\"toc-item-num\">5&nbsp;&nbsp;</span>Анализ датасета</a></span></li><li><span><a href=\"#RandomForestClassifier\" data-toc-modified-id=\"RandomForestClassifier-6\"><span class=\"toc-item-num\">6&nbsp;&nbsp;</span>RandomForestClassifier</a></span><ul class=\"toc-item\"><li><span><a href=\"#Подготовка-признаков\" data-toc-modified-id=\"Подготовка-признаков-6.1\"><span class=\"toc-item-num\">6.1&nbsp;&nbsp;</span>Подготовка признаков</a></span></li><li><span><a href=\"#Обучение-модели\" data-toc-modified-id=\"Обучение-модели-6.2\"><span class=\"toc-item-num\">6.2&nbsp;&nbsp;</span>Обучение модели</a></span></li><li><span><a href=\"#Оценка-точности-RandomForestClassifier\" data-toc-modified-id=\"Оценка-точности-RandomForestClassifier-6.3\"><span class=\"toc-item-num\">6.3&nbsp;&nbsp;</span>Оценка точности RandomForestClassifier</a></span></li><li><span><a href=\"#Предсказание-для-sample_solution.csv\" data-toc-modified-id=\"Предсказание-для-sample_solution.csv-6.4\"><span class=\"toc-item-num\">6.4&nbsp;&nbsp;</span>Предсказание для sample_solution.csv</a></span></li><li><span><a href=\"#LogisticRegression\" data-toc-modified-id=\"LogisticRegression-6.5\"><span class=\"toc-item-num\">6.5&nbsp;&nbsp;</span>LogisticRegression</a></span></li><li><span><a href=\"#RandomForestClassifier\" data-toc-modified-id=\"RandomForestClassifier-6.6\"><span class=\"toc-item-num\">6.6&nbsp;&nbsp;</span>RandomForestClassifier</a></span></li><li><span><a href=\"#LightGBM\" data-toc-modified-id=\"LightGBM-6.7\"><span class=\"toc-item-num\">6.7&nbsp;&nbsp;</span>LightGBM</a></span></li><li><span><a href=\"#CatBoostClassifier:-вариант-№1-(признаки-подготовлены-через-OneHotEncoder-и-StandartScaller)\" data-toc-modified-id=\"CatBoostClassifier:-вариант-№1-(признаки-подготовлены-через-OneHotEncoder-и-StandartScaller)-6.8\"><span class=\"toc-item-num\">6.8&nbsp;&nbsp;</span>CatBoostClassifier: вариант №1 (признаки подготовлены через OneHotEncoder и StandartScaller)</a></span></li><li><span><a href=\"#CatBoostClassifier:-вариант-№2-(категориальные-признаки-переданы-через-встроенный-метод-&quot;cat_features=categories&quot;)\" data-toc-modified-id=\"CatBoostClassifier:-вариант-№2-(категориальные-признаки-переданы-через-встроенный-метод-&quot;cat_features=categories&quot;)-6.9\"><span class=\"toc-item-num\">6.9&nbsp;&nbsp;</span>CatBoostClassifier: вариант №2 (категориальные признаки переданы через встроенный метод \"cat_features=categories\")</a></span></li></ul></li><li><span><a href=\"#Тестирование\" data-toc-modified-id=\"Тестирование-7\"><span class=\"toc-item-num\">7&nbsp;&nbsp;</span>Тестирование</a></span><ul class=\"toc-item\"><li><span><a href=\"#Тестирование-лучшей-модели\" data-toc-modified-id=\"Тестирование-лучшей-модели-7.1\"><span class=\"toc-item-num\">7.1&nbsp;&nbsp;</span>Тестирование лучшей модели</a></span></li><li><span><a href=\"#Дополнительно:-Тестирование-лучшей-модели-по-параметрам,-подобранным-через-CatBoost-_-optuna\" data-toc-modified-id=\"Дополнительно:-Тестирование-лучшей-модели-по-параметрам,-подобранным-через-CatBoost-_-optuna-7.2\"><span class=\"toc-item-num\">7.2&nbsp;&nbsp;</span>Дополнительно: Тестирование лучшей модели по параметрам, подобранным через CatBoost _ optuna</a></span></li><li><span><a href=\"#Проверка-модели-на-адекватность\" data-toc-modified-id=\"Проверка-модели-на-адекватность-7.3\"><span class=\"toc-item-num\">7.3&nbsp;&nbsp;</span>Проверка модели на адекватность</a></span></li></ul></li><li><span><a href=\"#Вывод\" data-toc-modified-id=\"Вывод-8\"><span class=\"toc-item-num\">8&nbsp;&nbsp;</span>Вывод</a></span><ul class=\"toc-item\"><li><span><a href=\"#Вывод-по-исследованию\" data-toc-modified-id=\"Вывод-по-исследованию-8.1\"><span class=\"toc-item-num\">8.1&nbsp;&nbsp;</span>Вывод по исследованию</a></span></li></ul></li><li><span><a href=\"#Отчёт-по-проекту\" data-toc-modified-id=\"Отчёт-по-проекту-9\"><span class=\"toc-item-num\">9&nbsp;&nbsp;</span>Отчёт по проекту</a></span><ul class=\"toc-item\"><li><span><a href=\"#Сравнение-плановых-и-фактических-работ-по-проекту\" data-toc-modified-id=\"Сравнение-плановых-и-фактических-работ-по-проекту-9.1\"><span class=\"toc-item-num\">9.1&nbsp;&nbsp;</span>Сравнение плановых и фактических работ по проекту</a></span></li><li><span><a href=\"#Трудности,-возникшие-при-выполнении-проекта,-и-способы-их-преодоления\" data-toc-modified-id=\"Трудности,-возникшие-при-выполнении-проекта,-и-способы-их-преодоления-9.2\"><span class=\"toc-item-num\">9.2&nbsp;&nbsp;</span>Трудности, возникшие при выполнении проекта, и способы их преодоления</a></span></li><li><span><a href=\"#Ключевые-шаги\" data-toc-modified-id=\"Ключевые-шаги-9.3\"><span class=\"toc-item-num\">9.3&nbsp;&nbsp;</span>Ключевые шаги</a></span></li><li><span><a href=\"#Итоговая-модель\" data-toc-modified-id=\"Итоговая-модель-9.4\"><span class=\"toc-item-num\">9.4&nbsp;&nbsp;</span>Итоговая модель</a></span></li></ul></li></ul></div>"
   ]
  },
  {
   "cell_type": "markdown",
   "id": "7e500bde",
   "metadata": {},
   "source": [
    "# Задача «Алгоритм для определения уровня навыков игрока на основе анализа результатов бизнес-симуляции»\n",
    "\n",
    "## Введение\n",
    "В последние несколько лет большое внимание уделяется развитию\n",
    "малого и среднего бизнеса. Одной из мер поддержки является\n",
    "дополнительное образование для предпринимателей в формате курсов,\n",
    "лекций, тематических игр и бизнес-симуляций.\n",
    "Проект Business UP — игровая образовательная платформа,\n",
    "предназначенная для повышения уровня компетенций, необходимых для\n",
    "ведения бизнеса. Включает в себя тематические игры по различным\n",
    "направлениям (бизнес-симуляции). По игровым достижениям строится\n",
    "цифровой профиль пользователя. Бизнес-симуляция представляет собой\n",
    "игровое решение, где игроки берут под управление небольшое\n",
    "предприятие и развивают его, используя знания в таких областях, как общий\n",
    "менеджмент, управление финансами, маркетингом, персоналом,\n",
    "производством и логистикой.\n",
    "Условие задачи\n",
    "Разработать и обучить модель машинного обучения на основе\n",
    "метаданных поведения пользователя в игре (лог принятых решений\n",
    "пользователей в играх) и его итоговой экспертной оценки. В будущем это\n",
    "позволит проставлять оценки участникам симуляции без привлечения\n",
    "экспертов.\n",
    "Немного об игре: участники объединяются в команды, и\n",
    "регистрируются в чемпионате, который проходит в бизнес-симуляции. В\n",
    "ходе игры они принимают собственные решения и выставляют значения\n",
    "игровых показателей, которые разделены на группы: маркетинг, финансы,\n",
    "персонал и т.д. Каждый игровой этап завершается оценкой принятых\n",
    "решений команды (выставленных значений показателей) и подсчетом\n",
    "итоговых бизнес результатов. В ходе игры за участниками наблюдают\n",
    "эксперты по оценке компетенций. По завершении игры на основании\n",
    "действий и поведения пользователей в ходе чемпионата эксперты проводит\n",
    "оценку компетенций и формируют итоговый отчет с результатами проверки.\n",
    "В качестве исходных данных вам предоставлены история действий\n",
    "участников чемпионатов, результаты их команд целиком и экспертные\n",
    "оценки.\n",
    "Вам необходимо по истории игровых решений провести оценку\n",
    "участников по четырем навыкам:\n",
    "- системное мышление,\n",
    "- аналитическое мышление,\n",
    "- адаптивность и открытость к изменениям,\n",
    "- нацеленность на достижение амбициозных результатов.\n",
    "\n",
    "## Описание входных значений\n",
    "user.csv — таблица, где хранится информация об участнике\n",
    "● user_id — уникальный номер участника\n",
    "● game_id — уникальный номер игры, в которой принимали участие\n",
    "● team_id — уникальный номер команды участника\n",
    "user decision.csv — таблица с действиями игрока за время игры\n",
    "● user_id — уникальный номер участника\n",
    "● period_id — номер периода игры (стадии)\n",
    "● decision_id — номер действия, которое совершил участник\n",
    "team_point.csv — таблица с баллами команд\n",
    "● team_id — уникальный номер команды\n",
    "● category_id — номер категории, с точки зрении которой оцениваются\n",
    "команды\n",
    "● period_id — номер периода игры (стадии)\n",
    "● score — баллы команды\n",
    "● place — рейтинговый номер команды в конкретном периоде\n",
    "decision — таблица с расшифровкой действий участников\n",
    "● decision_id — уникальный номер действия\n",
    "● decision_name — имя действия\n",
    "train.csv — файл, содержащий данные игроков для тренировки\n",
    "submission.csv — пример файла для отправки, содержит id игроков, для\n",
    "которых требуется предсказать значения\n",
    "\n",
    "## Пояснение к данным\n",
    "В таблице user decision, присутствует столбец period_id, он означает стадии\n",
    "игры и принимает значения от 1 до 4.\n",
    "В таблице team point, присутствует столбец category_id, он принимает\n",
    "значения от 1 до 6, где\n",
    "1) Owner\n",
    "2) Financial and economic activity\n",
    "3) Financial discipline\n",
    "4) Investment appeal\n",
    "5) Prospect\n",
    "6) Final result\n",
    "Совет для участников\n",
    "Вам дается много данных для анализа, размещенных в разных таблицах. Для\n",
    "начала попробуйте предсказать итоговые оценки участника на основе его\n",
    "индивидуальных действий в игре. После скорректируйте оценку за счет\n",
    "действий команды, в которой состоял участник.\n",
    "Метрика\n",
    "В качестве метрики выступает сумма Recall по четырем навыкам::\n",
    "𝑅𝑒𝑠𝑢𝑙𝑡 = 0. 25 * 𝑅𝑒𝑐𝑎𝑙𝑙𝐴𝑛𝑎𝑙𝑦𝑡𝑖𝑐𝑎𝑙 𝑡ℎ𝑖𝑛𝑘𝑖𝑛𝑔 + 0. 25 * 𝑅𝑒𝑐𝑎𝑙𝑙𝑆𝑦𝑠𝑡𝑒𝑚𝑖𝑐 𝑡ℎ𝑖𝑛𝑘𝑖𝑛𝑔\n",
    "+ 0. 25 * 𝑅𝑒𝑐𝑎𝑙𝑙𝐴𝑑𝑎𝑝𝑡𝑎𝑏𝑖𝑙𝑖𝑡𝑦 + 0. 25 * 𝑅𝑒𝑐𝑎𝑙𝑙𝐹𝑜𝑐𝑢𝑠\n",
    "Recall считается как:\n",
    "где:\n",
    "TP (True Positive) — количество верно угаданных значений одного класса\n",
    "FN (False Negative) — количество не правильно угаданных значений класса\n",
    "Правила чемпионата:\n",
    "1. С момента открытия датасета до момента завершения приема решений\n",
    "репозиторий участника, в котором он ведет разработку по задаче текущего\n",
    "чемпионата, должен оставаться закрытым.\n",
    "2. Участник обязан открыть доступ к репозиторию на чтение по ссылке\n",
    "(которая была прикреплена в ЛК в поле «Ссылка на код (гитхаб)») не позднее\n",
    "чем в течение 12 часов с момента окончания дедлайна отправки решений на\n",
    "региональном чемпионате.\n",
    "3. Согласно п. 5.8 Положения в процессе верификации решений\n",
    "организаторы и технические эксперты, проверяющие решения участников, в\n",
    "праве назначить интервью с участниками чемпионата. Участник получит\n",
    "приглашение и ссылку на интервью не позднее чем за 12 часов до\n",
    "публикации итогового лидерборда. Пропуск интервью участником является\n",
    "поводом для дисквалификации.\n",
    "4. Организаторы вправе исключить участника из призовых позиций\n",
    "лидерборда за непредоставление одного из артефактов решения задачи:\n",
    "тизера, скринкаста, презентации, ссылки на репозиторий.\n",
    "5. Организаторы вправе дисквалифицировать участника в случае выявление\n",
    "плагиата кода или несоблюдение Положения конкурса.\n",
    "6. Участник, получивший 2 дисквалификации за сезон конкурса, попадает в\n",
    "чёрный список с дальнейшим отстранением от участия в чемпионатах до\n",
    "конца сезона."
   ]
  },
  {
   "cell_type": "markdown",
   "id": "85110b64",
   "metadata": {},
   "source": [
    "<b><font size=5>Описание данных</font></b>\n",
    "\n",
    "\n",
    "**Описание признаков**\n",
    "\n",
    "В `contract.csv` представлена информация о договорах:\n",
    "* `customerID` - уникальный ID клиента\n",
    "* `BeginDate` - дата начала пользования услугами\n",
    "* `EndDate` - дата окончания пользования услугами\n",
    "* `Type` - тип оплаты: ежемесячный, годовой и тд\n",
    "* `PaperlessBilling` - безналичный расчет\n",
    "* `PaymentMethod` - способ оплаты\n",
    "* `MonthlyCharges` - ежемесячные траты на услуги\n",
    "* `TotalCharges` - всего потрачено денег на услуги\n",
    "\n",
    "В `personal.csv` представлена информация о клиентах:\n",
    "* `customerID` - уникальный ID клиента\n",
    "* `gender` - пол клиента\n",
    "* `Partner` - наличие супруга(и)\n",
    "* `Dependents` - наличие иждивенцев\n",
    "* `SeniorCitizen` –наличие пенсионного статуса по возрасту\n",
    "\n",
    "В `internet.csv`представлена информация об интернет-услугах:\n",
    "* `customerID` - уникальный ID клиента\n",
    "* `InternetService` - варианты подключения интернета\n",
    "* `OnlineSecurity` - услуга файервола/антивируса \n",
    "* `OnlineBackup` - услуга облачного резервирования (Backup)\n",
    "* `DeviceProtection` - наличие услуги защиты устройства\n",
    "* `TechSupport` - услуга выделенной линии техподдержки\n",
    "* `StreamingTV` - услуга стримингового TV\n",
    "* `StreamingMovies` - услуга стриминговых фильмов \n",
    "\n",
    "В `phone.csv` представлена информация об услугах телефонии:\n",
    "* `customerID` - уникальный ID клиента\n",
    "* `MultipleLines` - наличие возможности ведения параллельных линий во время звонка"
   ]
  },
  {
   "cell_type": "markdown",
   "id": "26c990b6",
   "metadata": {},
   "source": [
    "### План по выполнению проекта\n",
    "\n",
    "**1. Загрузка данных.**\n",
    "\n",
    "    Открыть файлы с данными и изучить их по следующим пунктам: \n",
    "    - изучить датасеты методом info() \n",
    "\n",
    "**2. Исследовательский анализ данных**. \n",
    "\n",
    "    Провести исследовательский анализ данных по следующим пунктам: \n",
    "    - объединить таблицы по customerID (первичный ключ для всех таблиц),\n",
    "    - изучить полученный датасет методом info(),\n",
    "    - проверить наличие дубликатов, в случае необходимости - удалить,\n",
    "    - заполнить пропуски соответствующим методом,\n",
    "    - преобразовать данные в нужные типы (в т.ч. для экономии памяти),  \n",
    "    - сгенерировать дополнительные признаки (например, количество дней с момента заключения контракта),\n",
    "    - посмотреть статистики методом describe(),\n",
    "    - проверить корреляцию библиотекой phik,\n",
    "    - построить гистограммы распределения / boxplot для выбранных признаков (в случае небольшого количества объектов удалять аномалии не рекомендуется)\n",
    "\n",
    "**3. Обучение моделей** \n",
    "     \n",
    "     Исследовать качество разных моделей, меняя гиперпараметры:\n",
    "     - исследовать баланс классов и сбалансировать в случае необходимости\n",
    "     - для обучающей и тестовой выборок сформировать столбец с целевым признаком (использовать для этого признак EndDate),\n",
    "     - разделить данные на обучающую и тестовую выборки,\n",
    "     - использовать OneHotEncoder для кодирования категориальных признаков, \n",
    "     - обучить модели LinearRegression, LightGBM (градиентный бустинг) и RandomForestClassifier (случайный лес), используя GridSearchCV и/или RandomizedSearchCV для подбора гиперпараметров во всех моделях, кроме LinearRegression, \n",
    "     - в случае недостижения требуемого результата метрики AUC-ROC обучить другие модели градиентного бустинга (CatBoostClassifier) и \"деревьев решений\" (DecisionTreeClassifier)\n",
    "\n",
    "**4. Тестирование лучшей по метрике AUC-ROC модели** \n",
    "     \n",
    "     Провести тестирование лучшей модели\n",
    "    - выбрать лучшую по метрике AUC-ROC модель и протестировать ее на тестовой выборке по подобранным в п. 3 гиперпараметрам\n",
    "    - убедиться, что значение метрики AUC-ROC существенно не отличается на обучающей и тестовой выборке (переобучение модели!)\n",
    "\n",
    "**5. Сформулировать выводы по проекту**\n",
    "    \n",
    "    - убедиться, что задача проекта выполнена\n",
    "    - указать модель и гиперпараметры, при которых достигнута максимальная метрика AUC-ROC\n",
    "    - отметить в выводе иные важные детали, полученные в результате работы над проектом  "
   ]
  },
  {
   "cell_type": "markdown",
   "id": "68c44c4b",
   "metadata": {},
   "source": [
    "## Загрузка данных"
   ]
  },
  {
   "cell_type": "code",
   "execution_count": 1,
   "id": "4616d9d8",
   "metadata": {},
   "outputs": [],
   "source": [
    "# импортируем библиотеки \n",
    "import os\n",
    "import math\n",
    "import time\n",
    "import itertools \n",
    "import urllib.request\n",
    "import numpy as np\n",
    "import pandas as pd\n",
    "import seaborn as sns\n",
    "import matplotlib.pyplot as plt\n",
    "from pathlib import Path\n",
    "\n",
    "#import category_encoders as ce\n",
    "from sklearn.preprocessing import OneHotEncoder\n",
    "from sklearn.preprocessing import StandardScaler\n",
    "\n",
    "from sklearn.model_selection import GridSearchCV\n",
    "from sklearn.model_selection import RandomizedSearchCV\n",
    "from sklearn.model_selection import train_test_split\n",
    "from sklearn.model_selection import cross_val_score\n",
    "\n",
    "from sklearn.pipeline import Pipeline\n",
    "\n",
    "from sklearn.metrics import confusion_matrix\n",
    "from sklearn.metrics import roc_auc_score\n",
    "from sklearn.metrics import roc_curve\n",
    "from sklearn.metrics import accuracy_score\n",
    "\n",
    "from sklearn.linear_model import LogisticRegression \n",
    "from sklearn.ensemble import RandomForestClassifier\n",
    "from lightgbm import LGBMClassifier\n",
    "from catboost import CatBoostClassifier, Pool\n",
    "from sklearn.dummy import DummyClassifier\n",
    "\n",
    "import phik\n",
    "from phik.report import plot_correlation_matrix\n",
    "from phik import report\n",
    "\n",
    "import warnings\n",
    "warnings.filterwarnings('ignore')"
   ]
  },
  {
   "cell_type": "code",
   "execution_count": 2,
   "id": "fc66854d",
   "metadata": {},
   "outputs": [],
   "source": [
    "# импортируем библиотеки для catboost\n",
    "import numpy as np\n",
    "import pandas as pd\n",
    "import matplotlib.pyplot as plt\n",
    "from sklearn.metrics import accuracy_score # to get the accuracy score from predicted and real value\n",
    "from sklearn.metrics import confusion_matrix\n",
    "from catboost import CatBoostClassifier, Pool\n",
    "from sklearn.model_selection import cross_val_score\n",
    "\n",
    "import pandas as pd\n",
    "import seaborn as sns\n",
    "import matplotlib.pyplot as plt\n",
    "from sklearn.model_selection import train_test_split\n",
    "from sklearn.ensemble import RandomForestClassifier\n",
    "from sklearn import tree\n",
    "import numpy as np\n",
    "from sklearn.metrics import recall_score, precision_score\n",
    "\n",
    "%matplotlib inline\n",
    "\n",
    "# импортируем библиотеки \n",
    "import os\n",
    "import math\n",
    "import time\n",
    "import itertools \n",
    "import urllib.request\n",
    "import numpy as np\n",
    "import pandas as pd\n",
    "import seaborn as sns\n",
    "import matplotlib.pyplot as plt\n",
    "from pathlib import Path\n",
    "\n",
    "#import category_encoders as ce\n",
    "from sklearn.preprocessing import OneHotEncoder\n",
    "from sklearn.preprocessing import StandardScaler\n",
    "\n",
    "from sklearn.model_selection import GridSearchCV\n",
    "from sklearn.model_selection import RandomizedSearchCV\n",
    "from sklearn.model_selection import train_test_split\n",
    "from sklearn.model_selection import cross_val_score\n",
    "\n",
    "from sklearn.pipeline import Pipeline\n",
    "\n",
    "from sklearn.metrics import confusion_matrix\n",
    "from sklearn.metrics import roc_auc_score\n",
    "from sklearn.metrics import roc_curve\n",
    "from sklearn.metrics import accuracy_score\n",
    "\n",
    "from sklearn.linear_model import LogisticRegression \n",
    "from sklearn.ensemble import RandomForestClassifier\n",
    "from lightgbm import LGBMClassifier\n",
    "from catboost import CatBoostClassifier, Pool\n",
    "from sklearn.dummy import DummyClassifier\n",
    "\n",
    "import phik\n",
    "from phik.report import plot_correlation_matrix\n",
    "from phik import report\n",
    "\n",
    "import warnings\n",
    "warnings.filterwarnings('ignore')"
   ]
  },
  {
   "cell_type": "code",
   "execution_count": 3,
   "id": "c15b4b39",
   "metadata": {},
   "outputs": [],
   "source": [
    "# зададим глобальные константы для всего проекта\n",
    "RANDOM_STATE=120922\n",
    "TEST_SIZE=0.25"
   ]
  },
  {
   "cell_type": "code",
   "execution_count": 4,
   "id": "6080a5ce",
   "metadata": {},
   "outputs": [],
   "source": [
    "# создадим класс DataScience для заполнения пропусков, подсчета пустых и нулевых значений\n",
    "\n",
    "class DataScience:\n",
    "\n",
    "    def path_to_files(self, path, link):\n",
    "        Path('datasets').mkdir(parents=True, exist_ok=True)\n",
    "        def get_file(file_name, url):\n",
    "            if not os.path.exists(file_name):\n",
    "                print(file_name, 'файл не найден, будет загружен из сети')\n",
    "                _ = urllib.request.urlretrieve(url, file_name)\n",
    "        urls = {\n",
    "            'datasets': (path, link)\n",
    "        }\n",
    "        [get_file(*urls[k]) for k in urls]\n",
    "        data = pd.read_csv(urls['datasets'][0])\n",
    "        return data\n",
    "\n",
    "    def corr_diagram(self, x):\n",
    "        plt.figure(figsize=(12, 10), dpi=80)\n",
    "        sns.heatmap(x.corr(), xticklabels=x.corr().columns, yticklabels=x.corr().columns, cmap='RdYlGn', center=0,\n",
    "                    annot=True)\n",
    "        plt.title('Диаграмма корреляции', fontsize=22)\n",
    "        plt.xticks(fontsize=12)\n",
    "        plt.yticks(fontsize=12)\n",
    "        plt.show()\n",
    "\n",
    "    def clean_dataset(self, df):\n",
    "        assert isinstance(df, pd.DataFrame), \"df needs to be a pd.DataFrame\"\n",
    "        df.dropna(inplace=True)\n",
    "        indices_to_keep = ~df.isin([np.nan, np.inf, -np.inf]).any(1)\n",
    "\n",
    "        return df[indices_to_keep].astype(np.float64)\n",
    "\n",
    "    def missing_zero_values_table(self, df):\n",
    "        zero_val = (df == 0.00).astype(int).sum(axis=0)\n",
    "        mis_val = df.isnull().sum()\n",
    "        mis_val_percent = 100 * df.isnull().sum() / len(df)\n",
    "        mz_table = pd.concat([zero_val, mis_val, mis_val_percent], axis=1)\n",
    "        mz_table = mz_table.rename(\n",
    "            columns={0: 'Zero Values', 1: 'Missing Values', 2: '% of Total Values'})\n",
    "        mz_table['Total Zero and Missing Values'] = mz_table['Zero Values'] + mz_table['Missing Values']\n",
    "        mz_table['% Total Zero and Missing Values'] = 100 * mz_table['Total Zero and Missing Values'] / len(df)\n",
    "        mz_table['Data Type'] = df.dtypes\n",
    "        mz_table = mz_table[mz_table.iloc[:, 1] != 0].sort_values('% of Total Values', ascending=False).round(1)\n",
    "        print(\"Your selected dataframe has \" + str(df.shape[1]) + \" columns and \" + str(df.shape[0]) + \" Rows.\\n\"\n",
    "           \"There are \" + str(mz_table.shape[0]) +\n",
    "              \" columns that have missing values.\") \n",
    "        print(\"Number of rows that have at least one NaN\", df.isnull().any(axis=1).sum(), \" or \",  f\"{df.isnull().any(axis=1).sum() / len(df):.1%}\")        \n",
    "        return mz_table\n",
    "\n",
    "    def fill_with_mode(self, column, column1, column2):\n",
    "        df[column] = df.groupby([column1, column2])[column].transform(lambda x: x.fillna((x.mode()[0] if not x.mode().empty else \"Empty\")))  "
   ]
  },
  {
   "cell_type": "code",
   "execution_count": 5,
   "id": "9d7baf5b",
   "metadata": {},
   "outputs": [],
   "source": [
    "# присвоим переменной ds созданный класс DataScience\n",
    "ds = DataScience()"
   ]
  },
  {
   "cell_type": "code",
   "execution_count": 6,
   "id": "f5977e9b",
   "metadata": {},
   "outputs": [],
   "source": [
    "df_train = pd.read_csv(\"E:/Чемпионат ИИ 2022/Московская область _ Business UP/content/train_dataset_train.csv\")\n",
    "df_user_decision = pd.read_csv(\"E:/Чемпионат ИИ 2022/Московская область _ Business UP/content/user_decision.csv\")\n",
    "df_user = pd.read_csv(\"E:/Чемпионат ИИ 2022/Московская область _ Business UP/content/user.csv\")\n",
    "#df_decision = pd.read_excel(\"E:/Чемпионат ИИ 2022/Московская область _ Business UP/content/decision.xlsx\", sheet_name='decision')\n",
    "df_sample_solution = pd.read_csv(\"E:/Чемпионат ИИ 2022/Московская область _ Business UP/content/sample_solution.csv\")\n",
    "df_team_point = pd.read_csv(\"E:/Чемпионат ИИ 2022/Московская область _ Business UP/content/team_point.csv\")"
   ]
  },
  {
   "cell_type": "markdown",
   "id": "53cbc160",
   "metadata": {},
   "source": [
    "## Анализ датасета"
   ]
  },
  {
   "cell_type": "code",
   "execution_count": 7,
   "id": "2e5118ec",
   "metadata": {},
   "outputs": [
    {
     "name": "stdout",
     "output_type": "stream",
     "text": [
      "<class 'pandas.core.frame.DataFrame'>\n",
      "RangeIndex: 680 entries, 0 to 679\n",
      "Data columns (total 5 columns):\n",
      " #   Column               Non-Null Count  Dtype  \n",
      "---  ------               --------------  -----  \n",
      " 0   user_id              680 non-null    int64  \n",
      " 1   Analytical thinking  680 non-null    float64\n",
      " 2   Systemic thinking    680 non-null    float64\n",
      " 3   Adaptability         680 non-null    float64\n",
      " 4   Focus                680 non-null    float64\n",
      "dtypes: float64(4), int64(1)\n",
      "memory usage: 26.7 KB\n"
     ]
    },
    {
     "data": {
      "text/html": [
       "<div>\n",
       "<style scoped>\n",
       "    .dataframe tbody tr th:only-of-type {\n",
       "        vertical-align: middle;\n",
       "    }\n",
       "\n",
       "    .dataframe tbody tr th {\n",
       "        vertical-align: top;\n",
       "    }\n",
       "\n",
       "    .dataframe thead th {\n",
       "        text-align: right;\n",
       "    }\n",
       "</style>\n",
       "<table border=\"1\" class=\"dataframe\">\n",
       "  <thead>\n",
       "    <tr style=\"text-align: right;\">\n",
       "      <th></th>\n",
       "      <th>user_id</th>\n",
       "      <th>Analytical thinking</th>\n",
       "      <th>Systemic thinking</th>\n",
       "      <th>Adaptability</th>\n",
       "      <th>Focus</th>\n",
       "    </tr>\n",
       "  </thead>\n",
       "  <tbody>\n",
       "    <tr>\n",
       "      <th>0</th>\n",
       "      <td>10884</td>\n",
       "      <td>4.0</td>\n",
       "      <td>4.0</td>\n",
       "      <td>4.0</td>\n",
       "      <td>4.0</td>\n",
       "    </tr>\n",
       "    <tr>\n",
       "      <th>1</th>\n",
       "      <td>10106</td>\n",
       "      <td>5.0</td>\n",
       "      <td>4.0</td>\n",
       "      <td>5.0</td>\n",
       "      <td>5.0</td>\n",
       "    </tr>\n",
       "    <tr>\n",
       "      <th>2</th>\n",
       "      <td>10438</td>\n",
       "      <td>6.0</td>\n",
       "      <td>5.0</td>\n",
       "      <td>5.0</td>\n",
       "      <td>5.0</td>\n",
       "    </tr>\n",
       "    <tr>\n",
       "      <th>3</th>\n",
       "      <td>10130</td>\n",
       "      <td>5.0</td>\n",
       "      <td>4.0</td>\n",
       "      <td>5.0</td>\n",
       "      <td>5.0</td>\n",
       "    </tr>\n",
       "    <tr>\n",
       "      <th>4</th>\n",
       "      <td>10667</td>\n",
       "      <td>4.0</td>\n",
       "      <td>5.0</td>\n",
       "      <td>5.0</td>\n",
       "      <td>5.0</td>\n",
       "    </tr>\n",
       "    <tr>\n",
       "      <th>...</th>\n",
       "      <td>...</td>\n",
       "      <td>...</td>\n",
       "      <td>...</td>\n",
       "      <td>...</td>\n",
       "      <td>...</td>\n",
       "    </tr>\n",
       "    <tr>\n",
       "      <th>675</th>\n",
       "      <td>10563</td>\n",
       "      <td>5.0</td>\n",
       "      <td>4.0</td>\n",
       "      <td>5.0</td>\n",
       "      <td>4.0</td>\n",
       "    </tr>\n",
       "    <tr>\n",
       "      <th>676</th>\n",
       "      <td>10386</td>\n",
       "      <td>5.0</td>\n",
       "      <td>4.0</td>\n",
       "      <td>5.0</td>\n",
       "      <td>5.0</td>\n",
       "    </tr>\n",
       "    <tr>\n",
       "      <th>677</th>\n",
       "      <td>10675</td>\n",
       "      <td>5.0</td>\n",
       "      <td>4.0</td>\n",
       "      <td>5.0</td>\n",
       "      <td>4.0</td>\n",
       "    </tr>\n",
       "    <tr>\n",
       "      <th>678</th>\n",
       "      <td>10366</td>\n",
       "      <td>4.0</td>\n",
       "      <td>4.0</td>\n",
       "      <td>4.0</td>\n",
       "      <td>4.0</td>\n",
       "    </tr>\n",
       "    <tr>\n",
       "      <th>679</th>\n",
       "      <td>10340</td>\n",
       "      <td>4.0</td>\n",
       "      <td>4.0</td>\n",
       "      <td>4.0</td>\n",
       "      <td>4.0</td>\n",
       "    </tr>\n",
       "  </tbody>\n",
       "</table>\n",
       "<p>680 rows × 5 columns</p>\n",
       "</div>"
      ],
      "text/plain": [
       "     user_id  Analytical thinking  Systemic thinking  Adaptability  Focus\n",
       "0      10884                  4.0                4.0           4.0    4.0\n",
       "1      10106                  5.0                4.0           5.0    5.0\n",
       "2      10438                  6.0                5.0           5.0    5.0\n",
       "3      10130                  5.0                4.0           5.0    5.0\n",
       "4      10667                  4.0                5.0           5.0    5.0\n",
       "..       ...                  ...                ...           ...    ...\n",
       "675    10563                  5.0                4.0           5.0    4.0\n",
       "676    10386                  5.0                4.0           5.0    5.0\n",
       "677    10675                  5.0                4.0           5.0    4.0\n",
       "678    10366                  4.0                4.0           4.0    4.0\n",
       "679    10340                  4.0                4.0           4.0    4.0\n",
       "\n",
       "[680 rows x 5 columns]"
      ]
     },
     "metadata": {},
     "output_type": "display_data"
    }
   ],
   "source": [
    "# Переименуем колонку для универсальности (создания первичного ключа) над всеми датасетами\n",
    "df_train.rename(columns = {'id' : 'user_id'}, inplace = True)\n",
    "df_train.info()\n",
    "display(df_train)\n",
    "#df_train['user_id'].unique()"
   ]
  },
  {
   "cell_type": "code",
   "execution_count": 8,
   "id": "330b1a09",
   "metadata": {},
   "outputs": [
    {
     "name": "stdout",
     "output_type": "stream",
     "text": [
      "<class 'pandas.core.frame.DataFrame'>\n",
      "RangeIndex: 60228 entries, 0 to 60227\n",
      "Data columns (total 3 columns):\n",
      " #   Column       Non-Null Count  Dtype\n",
      "---  ------       --------------  -----\n",
      " 0   user_id      60228 non-null  int64\n",
      " 1   period       60228 non-null  int64\n",
      " 2   decision_id  60228 non-null  int64\n",
      "dtypes: int64(3)\n",
      "memory usage: 1.4 MB\n"
     ]
    },
    {
     "data": {
      "text/html": [
       "<div>\n",
       "<style scoped>\n",
       "    .dataframe tbody tr th:only-of-type {\n",
       "        vertical-align: middle;\n",
       "    }\n",
       "\n",
       "    .dataframe tbody tr th {\n",
       "        vertical-align: top;\n",
       "    }\n",
       "\n",
       "    .dataframe thead th {\n",
       "        text-align: right;\n",
       "    }\n",
       "</style>\n",
       "<table border=\"1\" class=\"dataframe\">\n",
       "  <thead>\n",
       "    <tr style=\"text-align: right;\">\n",
       "      <th></th>\n",
       "      <th>user_id</th>\n",
       "      <th>period</th>\n",
       "      <th>decision_id</th>\n",
       "    </tr>\n",
       "  </thead>\n",
       "  <tbody>\n",
       "    <tr>\n",
       "      <th>0</th>\n",
       "      <td>10625</td>\n",
       "      <td>1</td>\n",
       "      <td>409</td>\n",
       "    </tr>\n",
       "    <tr>\n",
       "      <th>1</th>\n",
       "      <td>10318</td>\n",
       "      <td>3</td>\n",
       "      <td>203</td>\n",
       "    </tr>\n",
       "    <tr>\n",
       "      <th>2</th>\n",
       "      <td>10775</td>\n",
       "      <td>4</td>\n",
       "      <td>420</td>\n",
       "    </tr>\n",
       "    <tr>\n",
       "      <th>3</th>\n",
       "      <td>10236</td>\n",
       "      <td>2</td>\n",
       "      <td>284</td>\n",
       "    </tr>\n",
       "    <tr>\n",
       "      <th>4</th>\n",
       "      <td>10130</td>\n",
       "      <td>3</td>\n",
       "      <td>72</td>\n",
       "    </tr>\n",
       "    <tr>\n",
       "      <th>...</th>\n",
       "      <td>...</td>\n",
       "      <td>...</td>\n",
       "      <td>...</td>\n",
       "    </tr>\n",
       "    <tr>\n",
       "      <th>60223</th>\n",
       "      <td>10312</td>\n",
       "      <td>3</td>\n",
       "      <td>329</td>\n",
       "    </tr>\n",
       "    <tr>\n",
       "      <th>60224</th>\n",
       "      <td>10189</td>\n",
       "      <td>1</td>\n",
       "      <td>33</td>\n",
       "    </tr>\n",
       "    <tr>\n",
       "      <th>60225</th>\n",
       "      <td>10346</td>\n",
       "      <td>3</td>\n",
       "      <td>123</td>\n",
       "    </tr>\n",
       "    <tr>\n",
       "      <th>60226</th>\n",
       "      <td>10424</td>\n",
       "      <td>2</td>\n",
       "      <td>140</td>\n",
       "    </tr>\n",
       "    <tr>\n",
       "      <th>60227</th>\n",
       "      <td>10050</td>\n",
       "      <td>3</td>\n",
       "      <td>405</td>\n",
       "    </tr>\n",
       "  </tbody>\n",
       "</table>\n",
       "<p>60228 rows × 3 columns</p>\n",
       "</div>"
      ],
      "text/plain": [
       "       user_id  period  decision_id\n",
       "0        10625       1          409\n",
       "1        10318       3          203\n",
       "2        10775       4          420\n",
       "3        10236       2          284\n",
       "4        10130       3           72\n",
       "...        ...     ...          ...\n",
       "60223    10312       3          329\n",
       "60224    10189       1           33\n",
       "60225    10346       3          123\n",
       "60226    10424       2          140\n",
       "60227    10050       3          405\n",
       "\n",
       "[60228 rows x 3 columns]"
      ]
     },
     "metadata": {},
     "output_type": "display_data"
    }
   ],
   "source": [
    "# Посмотрим на датасет user_decision.csv\n",
    "df_user_decision.info()\n",
    "display(df_user_decision)"
   ]
  },
  {
   "cell_type": "code",
   "execution_count": 9,
   "id": "314b0e66",
   "metadata": {},
   "outputs": [
    {
     "name": "stdout",
     "output_type": "stream",
     "text": [
      "<class 'pandas.core.frame.DataFrame'>\n",
      "RangeIndex: 973 entries, 0 to 972\n",
      "Data columns (total 3 columns):\n",
      " #   Column   Non-Null Count  Dtype\n",
      "---  ------   --------------  -----\n",
      " 0   user_id  973 non-null    int64\n",
      " 1   team_id  973 non-null    int64\n",
      " 2   game_id  973 non-null    int64\n",
      "dtypes: int64(3)\n",
      "memory usage: 22.9 KB\n"
     ]
    },
    {
     "data": {
      "text/html": [
       "<div>\n",
       "<style scoped>\n",
       "    .dataframe tbody tr th:only-of-type {\n",
       "        vertical-align: middle;\n",
       "    }\n",
       "\n",
       "    .dataframe tbody tr th {\n",
       "        vertical-align: top;\n",
       "    }\n",
       "\n",
       "    .dataframe thead th {\n",
       "        text-align: right;\n",
       "    }\n",
       "</style>\n",
       "<table border=\"1\" class=\"dataframe\">\n",
       "  <thead>\n",
       "    <tr style=\"text-align: right;\">\n",
       "      <th></th>\n",
       "      <th>user_id</th>\n",
       "      <th>team_id</th>\n",
       "      <th>game_id</th>\n",
       "    </tr>\n",
       "  </thead>\n",
       "  <tbody>\n",
       "    <tr>\n",
       "      <th>0</th>\n",
       "      <td>10189</td>\n",
       "      <td>1664</td>\n",
       "      <td>235</td>\n",
       "    </tr>\n",
       "    <tr>\n",
       "      <th>1</th>\n",
       "      <td>10018</td>\n",
       "      <td>1690</td>\n",
       "      <td>237</td>\n",
       "    </tr>\n",
       "    <tr>\n",
       "      <th>2</th>\n",
       "      <td>10580</td>\n",
       "      <td>1394</td>\n",
       "      <td>194</td>\n",
       "    </tr>\n",
       "    <tr>\n",
       "      <th>3</th>\n",
       "      <td>10600</td>\n",
       "      <td>1908</td>\n",
       "      <td>262</td>\n",
       "    </tr>\n",
       "    <tr>\n",
       "      <th>4</th>\n",
       "      <td>10112</td>\n",
       "      <td>1592</td>\n",
       "      <td>219</td>\n",
       "    </tr>\n",
       "    <tr>\n",
       "      <th>...</th>\n",
       "      <td>...</td>\n",
       "      <td>...</td>\n",
       "      <td>...</td>\n",
       "    </tr>\n",
       "    <tr>\n",
       "      <th>968</th>\n",
       "      <td>10205</td>\n",
       "      <td>1826</td>\n",
       "      <td>249</td>\n",
       "    </tr>\n",
       "    <tr>\n",
       "      <th>969</th>\n",
       "      <td>10325</td>\n",
       "      <td>1628</td>\n",
       "      <td>231</td>\n",
       "    </tr>\n",
       "    <tr>\n",
       "      <th>970</th>\n",
       "      <td>10527</td>\n",
       "      <td>1730</td>\n",
       "      <td>241</td>\n",
       "    </tr>\n",
       "    <tr>\n",
       "      <th>971</th>\n",
       "      <td>10371</td>\n",
       "      <td>1704</td>\n",
       "      <td>238</td>\n",
       "    </tr>\n",
       "    <tr>\n",
       "      <th>972</th>\n",
       "      <td>10471</td>\n",
       "      <td>1518</td>\n",
       "      <td>209</td>\n",
       "    </tr>\n",
       "  </tbody>\n",
       "</table>\n",
       "<p>973 rows × 3 columns</p>\n",
       "</div>"
      ],
      "text/plain": [
       "     user_id  team_id  game_id\n",
       "0      10189     1664      235\n",
       "1      10018     1690      237\n",
       "2      10580     1394      194\n",
       "3      10600     1908      262\n",
       "4      10112     1592      219\n",
       "..       ...      ...      ...\n",
       "968    10205     1826      249\n",
       "969    10325     1628      231\n",
       "970    10527     1730      241\n",
       "971    10371     1704      238\n",
       "972    10471     1518      209\n",
       "\n",
       "[973 rows x 3 columns]"
      ]
     },
     "metadata": {},
     "output_type": "display_data"
    }
   ],
   "source": [
    "# Посмотрим на датасет user.csv\n",
    "df_user.info() \n",
    "display(df_user)"
   ]
  },
  {
   "cell_type": "code",
   "execution_count": 10,
   "id": "ff72cb4f",
   "metadata": {},
   "outputs": [
    {
     "name": "stdout",
     "output_type": "stream",
     "text": [
      "<class 'pandas.core.frame.DataFrame'>\n",
      "RangeIndex: 293 entries, 0 to 292\n",
      "Data columns (total 5 columns):\n",
      " #   Column               Non-Null Count  Dtype\n",
      "---  ------               --------------  -----\n",
      " 0   id                   293 non-null    int64\n",
      " 1   Analytical thinking  293 non-null    int64\n",
      " 2   Systemic thinking    293 non-null    int64\n",
      " 3   Adaptability         293 non-null    int64\n",
      " 4   Focus                293 non-null    int64\n",
      "dtypes: int64(5)\n",
      "memory usage: 11.6 KB\n"
     ]
    },
    {
     "data": {
      "text/html": [
       "<div>\n",
       "<style scoped>\n",
       "    .dataframe tbody tr th:only-of-type {\n",
       "        vertical-align: middle;\n",
       "    }\n",
       "\n",
       "    .dataframe tbody tr th {\n",
       "        vertical-align: top;\n",
       "    }\n",
       "\n",
       "    .dataframe thead th {\n",
       "        text-align: right;\n",
       "    }\n",
       "</style>\n",
       "<table border=\"1\" class=\"dataframe\">\n",
       "  <thead>\n",
       "    <tr style=\"text-align: right;\">\n",
       "      <th></th>\n",
       "      <th>id</th>\n",
       "      <th>Analytical thinking</th>\n",
       "      <th>Systemic thinking</th>\n",
       "      <th>Adaptability</th>\n",
       "      <th>Focus</th>\n",
       "    </tr>\n",
       "  </thead>\n",
       "  <tbody>\n",
       "    <tr>\n",
       "      <th>0</th>\n",
       "      <td>10199</td>\n",
       "      <td>0</td>\n",
       "      <td>0</td>\n",
       "      <td>0</td>\n",
       "      <td>0</td>\n",
       "    </tr>\n",
       "    <tr>\n",
       "      <th>1</th>\n",
       "      <td>10539</td>\n",
       "      <td>0</td>\n",
       "      <td>0</td>\n",
       "      <td>0</td>\n",
       "      <td>0</td>\n",
       "    </tr>\n",
       "    <tr>\n",
       "      <th>2</th>\n",
       "      <td>10174</td>\n",
       "      <td>0</td>\n",
       "      <td>0</td>\n",
       "      <td>0</td>\n",
       "      <td>0</td>\n",
       "    </tr>\n",
       "    <tr>\n",
       "      <th>3</th>\n",
       "      <td>10465</td>\n",
       "      <td>0</td>\n",
       "      <td>0</td>\n",
       "      <td>0</td>\n",
       "      <td>0</td>\n",
       "    </tr>\n",
       "    <tr>\n",
       "      <th>4</th>\n",
       "      <td>10066</td>\n",
       "      <td>0</td>\n",
       "      <td>0</td>\n",
       "      <td>0</td>\n",
       "      <td>0</td>\n",
       "    </tr>\n",
       "    <tr>\n",
       "      <th>...</th>\n",
       "      <td>...</td>\n",
       "      <td>...</td>\n",
       "      <td>...</td>\n",
       "      <td>...</td>\n",
       "      <td>...</td>\n",
       "    </tr>\n",
       "    <tr>\n",
       "      <th>288</th>\n",
       "      <td>10433</td>\n",
       "      <td>0</td>\n",
       "      <td>0</td>\n",
       "      <td>0</td>\n",
       "      <td>0</td>\n",
       "    </tr>\n",
       "    <tr>\n",
       "      <th>289</th>\n",
       "      <td>10893</td>\n",
       "      <td>0</td>\n",
       "      <td>0</td>\n",
       "      <td>0</td>\n",
       "      <td>0</td>\n",
       "    </tr>\n",
       "    <tr>\n",
       "      <th>290</th>\n",
       "      <td>10909</td>\n",
       "      <td>0</td>\n",
       "      <td>0</td>\n",
       "      <td>0</td>\n",
       "      <td>0</td>\n",
       "    </tr>\n",
       "    <tr>\n",
       "      <th>291</th>\n",
       "      <td>10889</td>\n",
       "      <td>0</td>\n",
       "      <td>0</td>\n",
       "      <td>0</td>\n",
       "      <td>0</td>\n",
       "    </tr>\n",
       "    <tr>\n",
       "      <th>292</th>\n",
       "      <td>10613</td>\n",
       "      <td>0</td>\n",
       "      <td>0</td>\n",
       "      <td>0</td>\n",
       "      <td>0</td>\n",
       "    </tr>\n",
       "  </tbody>\n",
       "</table>\n",
       "<p>293 rows × 5 columns</p>\n",
       "</div>"
      ],
      "text/plain": [
       "        id  Analytical thinking  Systemic thinking  Adaptability  Focus\n",
       "0    10199                    0                  0             0      0\n",
       "1    10539                    0                  0             0      0\n",
       "2    10174                    0                  0             0      0\n",
       "3    10465                    0                  0             0      0\n",
       "4    10066                    0                  0             0      0\n",
       "..     ...                  ...                ...           ...    ...\n",
       "288  10433                    0                  0             0      0\n",
       "289  10893                    0                  0             0      0\n",
       "290  10909                    0                  0             0      0\n",
       "291  10889                    0                  0             0      0\n",
       "292  10613                    0                  0             0      0\n",
       "\n",
       "[293 rows x 5 columns]"
      ]
     },
     "metadata": {},
     "output_type": "display_data"
    }
   ],
   "source": [
    "# Посмотрим на датасет sample_solution.csv\n",
    "df_sample_solution.info()\n",
    "display(df_sample_solution)"
   ]
  },
  {
   "cell_type": "code",
   "execution_count": 11,
   "id": "04687abf",
   "metadata": {},
   "outputs": [],
   "source": [
    "# Проверим, есть ли пользователи, оценки которых надо предсказать, в обучающем датасете для избежания утечки данных при обучении\n",
    "#df_sample_solution\n",
    "\n",
    "#pd.Series(list(set(df_sample_solution['id']) & set(df_user_decision['user_id'])))"
   ]
  },
  {
   "cell_type": "code",
   "execution_count": 12,
   "id": "774c6064",
   "metadata": {},
   "outputs": [],
   "source": [
    "# Проверим, есть ли пользователи, оценки которых надо предсказать, в обучающем датасете (для избежания утечки данных при обучении)\n",
    "#coincidences = df_user_decision.merge(df_sample_solution, left_on = 'user_id', right_on = 'id', how = 'inner')\n",
    "#coincidences.info()\n",
    "#display(coincidences)\n",
    "#print(\"Наличие строк с ненулевыми оценками = \", coincidences['Analytical thinking'].sum() + coincidences['Systemic thinking'].sum() + coincidences['Adaptability'].sum() + coincidences['Focus'].sum())"
   ]
  },
  {
   "cell_type": "code",
   "execution_count": 13,
   "id": "063a7439",
   "metadata": {},
   "outputs": [
    {
     "name": "stdout",
     "output_type": "stream",
     "text": [
      "<class 'pandas.core.frame.DataFrame'>\n",
      "RangeIndex: 10986 entries, 0 to 10985\n",
      "Data columns (total 5 columns):\n",
      " #   Column       Non-Null Count  Dtype\n",
      "---  ------       --------------  -----\n",
      " 0   team_id      10986 non-null  int64\n",
      " 1   category_id  10986 non-null  int64\n",
      " 2   period       10986 non-null  int64\n",
      " 3   score        10986 non-null  int64\n",
      " 4   place        10986 non-null  int64\n",
      "dtypes: int64(5)\n",
      "memory usage: 429.3 KB\n"
     ]
    },
    {
     "data": {
      "text/html": [
       "<div>\n",
       "<style scoped>\n",
       "    .dataframe tbody tr th:only-of-type {\n",
       "        vertical-align: middle;\n",
       "    }\n",
       "\n",
       "    .dataframe tbody tr th {\n",
       "        vertical-align: top;\n",
       "    }\n",
       "\n",
       "    .dataframe thead th {\n",
       "        text-align: right;\n",
       "    }\n",
       "</style>\n",
       "<table border=\"1\" class=\"dataframe\">\n",
       "  <thead>\n",
       "    <tr style=\"text-align: right;\">\n",
       "      <th></th>\n",
       "      <th>team_id</th>\n",
       "      <th>category_id</th>\n",
       "      <th>period</th>\n",
       "      <th>score</th>\n",
       "      <th>place</th>\n",
       "    </tr>\n",
       "  </thead>\n",
       "  <tbody>\n",
       "    <tr>\n",
       "      <th>0</th>\n",
       "      <td>1948</td>\n",
       "      <td>2</td>\n",
       "      <td>0</td>\n",
       "      <td>16</td>\n",
       "      <td>2</td>\n",
       "    </tr>\n",
       "    <tr>\n",
       "      <th>1</th>\n",
       "      <td>1934</td>\n",
       "      <td>3</td>\n",
       "      <td>4</td>\n",
       "      <td>45</td>\n",
       "      <td>6</td>\n",
       "    </tr>\n",
       "    <tr>\n",
       "      <th>2</th>\n",
       "      <td>1894</td>\n",
       "      <td>4</td>\n",
       "      <td>8</td>\n",
       "      <td>24</td>\n",
       "      <td>4</td>\n",
       "    </tr>\n",
       "    <tr>\n",
       "      <th>3</th>\n",
       "      <td>1688</td>\n",
       "      <td>4</td>\n",
       "      <td>0</td>\n",
       "      <td>27</td>\n",
       "      <td>4</td>\n",
       "    </tr>\n",
       "    <tr>\n",
       "      <th>4</th>\n",
       "      <td>1592</td>\n",
       "      <td>4</td>\n",
       "      <td>2</td>\n",
       "      <td>21</td>\n",
       "      <td>5</td>\n",
       "    </tr>\n",
       "    <tr>\n",
       "      <th>...</th>\n",
       "      <td>...</td>\n",
       "      <td>...</td>\n",
       "      <td>...</td>\n",
       "      <td>...</td>\n",
       "      <td>...</td>\n",
       "    </tr>\n",
       "    <tr>\n",
       "      <th>10981</th>\n",
       "      <td>1312</td>\n",
       "      <td>4</td>\n",
       "      <td>1</td>\n",
       "      <td>32</td>\n",
       "      <td>4</td>\n",
       "    </tr>\n",
       "    <tr>\n",
       "      <th>10982</th>\n",
       "      <td>1974</td>\n",
       "      <td>1</td>\n",
       "      <td>0</td>\n",
       "      <td>4</td>\n",
       "      <td>6</td>\n",
       "    </tr>\n",
       "    <tr>\n",
       "      <th>10983</th>\n",
       "      <td>1822</td>\n",
       "      <td>1</td>\n",
       "      <td>4</td>\n",
       "      <td>31</td>\n",
       "      <td>1</td>\n",
       "    </tr>\n",
       "    <tr>\n",
       "      <th>10984</th>\n",
       "      <td>1390</td>\n",
       "      <td>2</td>\n",
       "      <td>0</td>\n",
       "      <td>16</td>\n",
       "      <td>2</td>\n",
       "    </tr>\n",
       "    <tr>\n",
       "      <th>10985</th>\n",
       "      <td>1406</td>\n",
       "      <td>4</td>\n",
       "      <td>2</td>\n",
       "      <td>28</td>\n",
       "      <td>6</td>\n",
       "    </tr>\n",
       "  </tbody>\n",
       "</table>\n",
       "<p>10986 rows × 5 columns</p>\n",
       "</div>"
      ],
      "text/plain": [
       "       team_id  category_id  period  score  place\n",
       "0         1948            2       0     16      2\n",
       "1         1934            3       4     45      6\n",
       "2         1894            4       8     24      4\n",
       "3         1688            4       0     27      4\n",
       "4         1592            4       2     21      5\n",
       "...        ...          ...     ...    ...    ...\n",
       "10981     1312            4       1     32      4\n",
       "10982     1974            1       0      4      6\n",
       "10983     1822            1       4     31      1\n",
       "10984     1390            2       0     16      2\n",
       "10985     1406            4       2     28      6\n",
       "\n",
       "[10986 rows x 5 columns]"
      ]
     },
     "metadata": {},
     "output_type": "display_data"
    }
   ],
   "source": [
    "# Посмотрим на датасет team_point.csv\n",
    "df_team_point.info()\n",
    "display(df_team_point)"
   ]
  },
  {
   "cell_type": "markdown",
   "id": "7ce1412d",
   "metadata": {},
   "source": [
    "decision.xlsx - данный файл с расшифровкой кодировки решений не будет использован в данном исследовании ввиду того, что все решения уже закодированы! "
   ]
  },
  {
   "cell_type": "code",
   "execution_count": 14,
   "id": "71425472",
   "metadata": {},
   "outputs": [
    {
     "name": "stdout",
     "output_type": "stream",
     "text": [
      "<class 'pandas.core.frame.DataFrame'>\n",
      "Int64Index: 60228 entries, 0 to 60227\n",
      "Data columns (total 7 columns):\n",
      " #   Column               Non-Null Count  Dtype  \n",
      "---  ------               --------------  -----  \n",
      " 0   user_id              60228 non-null  int64  \n",
      " 1   Analytical thinking  42447 non-null  float64\n",
      " 2   Systemic thinking    42447 non-null  float64\n",
      " 3   Adaptability         42447 non-null  float64\n",
      " 4   Focus                42447 non-null  float64\n",
      " 5   period               60228 non-null  int64  \n",
      " 6   decision_id          60228 non-null  int64  \n",
      "dtypes: float64(4), int64(3)\n",
      "memory usage: 3.7 MB\n"
     ]
    }
   ],
   "source": [
    "# объединим датасеты по индексу \"user_id\"\n",
    "df_train_user_decision = df_train.merge(df_user_decision, on='user_id', how='outer')\n",
    "df_train_user_decision.info()"
   ]
  },
  {
   "cell_type": "code",
   "execution_count": 15,
   "id": "1e31887d",
   "metadata": {},
   "outputs": [
    {
     "name": "stdout",
     "output_type": "stream",
     "text": [
      "<class 'pandas.core.frame.DataFrame'>\n",
      "Int64Index: 60228 entries, 0 to 60227\n",
      "Data columns (total 9 columns):\n",
      " #   Column               Non-Null Count  Dtype  \n",
      "---  ------               --------------  -----  \n",
      " 0   user_id              60228 non-null  int64  \n",
      " 1   Analytical thinking  42447 non-null  float64\n",
      " 2   Systemic thinking    42447 non-null  float64\n",
      " 3   Adaptability         42447 non-null  float64\n",
      " 4   Focus                42447 non-null  float64\n",
      " 5   period               60228 non-null  int64  \n",
      " 6   decision_id          60228 non-null  int64  \n",
      " 7   team_id              60228 non-null  int64  \n",
      " 8   game_id              60228 non-null  int64  \n",
      "dtypes: float64(4), int64(5)\n",
      "memory usage: 4.6 MB\n"
     ]
    }
   ],
   "source": [
    "# продолжим объединение датасетов по индексу \"user_id\"\n",
    "df_train_user_decision_user = df_train_user_decision.merge(df_user, on='user_id', how='outer')\n",
    "df_train_user_decision_user.info()"
   ]
  },
  {
   "cell_type": "code",
   "execution_count": 16,
   "id": "d1438385",
   "metadata": {},
   "outputs": [
    {
     "name": "stdout",
     "output_type": "stream",
     "text": [
      "<class 'pandas.core.frame.DataFrame'>\n",
      "Int64Index: 60228 entries, 0 to 60227\n",
      "Data columns (total 9 columns):\n",
      " #   Column               Non-Null Count  Dtype  \n",
      "---  ------               --------------  -----  \n",
      " 0   user_id              60228 non-null  int64  \n",
      " 1   Analytical thinking  42447 non-null  float64\n",
      " 2   Systemic thinking    42447 non-null  float64\n",
      " 3   Adaptability         42447 non-null  float64\n",
      " 4   Focus                42447 non-null  float64\n",
      " 5   period               60228 non-null  int64  \n",
      " 6   decision_id          60228 non-null  int64  \n",
      " 7   team_id              60228 non-null  int64  \n",
      " 8   game_id              60228 non-null  int64  \n",
      "dtypes: float64(4), int64(5)\n",
      "memory usage: 4.6 MB\n"
     ]
    }
   ],
   "source": [
    "# продолжим объединение датасетов по индексу \"user_id\"\n",
    "df_train_user_decision_user = df_train_user_decision.merge(df_user, on='user_id', how='outer')\n",
    "df_train_user_decision_user.info()"
   ]
  },
  {
   "cell_type": "code",
   "execution_count": 17,
   "id": "b5300a53",
   "metadata": {},
   "outputs": [
    {
     "name": "stdout",
     "output_type": "stream",
     "text": [
      "<class 'pandas.core.frame.DataFrame'>\n",
      "Int64Index: 1811406 entries, 0 to 1811405\n",
      "Data columns (total 13 columns):\n",
      " #   Column               Dtype  \n",
      "---  ------               -----  \n",
      " 0   user_id              float64\n",
      " 1   Analytical thinking  float64\n",
      " 2   Systemic thinking    float64\n",
      " 3   Adaptability         float64\n",
      " 4   Focus                float64\n",
      " 5   period_x             float64\n",
      " 6   decision_id          float64\n",
      " 7   team_id              int64  \n",
      " 8   game_id              float64\n",
      " 9   category_id          int64  \n",
      " 10  period_y             int64  \n",
      " 11  score                int64  \n",
      " 12  place                int64  \n",
      "dtypes: float64(8), int64(5)\n",
      "memory usage: 193.5 MB\n"
     ]
    }
   ],
   "source": [
    "# продолжим объединение датасетов по индексу \"team_id\"\n",
    "df_train_userdecision_user_teampoint = df_train_user_decision_user.merge(df_team_point, on='team_id', how='outer')\n",
    "df_train_userdecision_user_teampoint.info()"
   ]
  },
  {
   "cell_type": "code",
   "execution_count": 18,
   "id": "74e63578",
   "metadata": {},
   "outputs": [
    {
     "name": "stdout",
     "output_type": "stream",
     "text": [
      "Дубликатов выявлено: 162570\n"
     ]
    }
   ],
   "source": [
    "# Проверим на дубликаты\n",
    "print(\"Дубликатов выявлено:\", df_train_userdecision_user_teampoint.duplicated().sum())"
   ]
  },
  {
   "cell_type": "code",
   "execution_count": 19,
   "id": "0d7dccce",
   "metadata": {},
   "outputs": [
    {
     "name": "stdout",
     "output_type": "stream",
     "text": [
      "<class 'pandas.core.frame.DataFrame'>\n",
      "RangeIndex: 1648836 entries, 0 to 1648835\n",
      "Data columns (total 13 columns):\n",
      " #   Column               Non-Null Count    Dtype  \n",
      "---  ------               --------------    -----  \n",
      " 0   user_id              1644270 non-null  float64\n",
      " 1   Analytical thinking  1159050 non-null  float64\n",
      " 2   Systemic thinking    1159050 non-null  float64\n",
      " 3   Adaptability         1159050 non-null  float64\n",
      " 4   Focus                1159050 non-null  float64\n",
      " 5   period_x             1644270 non-null  float64\n",
      " 6   decision_id          1644270 non-null  float64\n",
      " 7   team_id              1648836 non-null  int64  \n",
      " 8   game_id              1644270 non-null  float64\n",
      " 9   category_id          1648836 non-null  int64  \n",
      " 10  period_y             1648836 non-null  int64  \n",
      " 11  score                1648836 non-null  int64  \n",
      " 12  place                1648836 non-null  int64  \n",
      "dtypes: float64(8), int64(5)\n",
      "memory usage: 163.5 MB\n"
     ]
    }
   ],
   "source": [
    "# Удалим дубликаты\n",
    "df_train_userdecision_user_teampoint_noduplicated = df_train_userdecision_user_teampoint.drop_duplicates().reset_index(drop=True)\n",
    "df_train_userdecision_user_teampoint_noduplicated.info()"
   ]
  },
  {
   "cell_type": "code",
   "execution_count": 20,
   "id": "720cfd9c",
   "metadata": {
    "scrolled": true
   },
   "outputs": [
    {
     "name": "stdout",
     "output_type": "stream",
     "text": [
      "Your selected dataframe has 13 columns and 1648836 Rows.\n",
      "There are 8 columns that have missing values.\n",
      "Number of rows that have at least one NaN 489786  or  29.7%\n"
     ]
    },
    {
     "data": {
      "text/html": [
       "<div>\n",
       "<style scoped>\n",
       "    .dataframe tbody tr th:only-of-type {\n",
       "        vertical-align: middle;\n",
       "    }\n",
       "\n",
       "    .dataframe tbody tr th {\n",
       "        vertical-align: top;\n",
       "    }\n",
       "\n",
       "    .dataframe thead th {\n",
       "        text-align: right;\n",
       "    }\n",
       "</style>\n",
       "<table border=\"1\" class=\"dataframe\">\n",
       "  <thead>\n",
       "    <tr style=\"text-align: right;\">\n",
       "      <th></th>\n",
       "      <th>Zero Values</th>\n",
       "      <th>Missing Values</th>\n",
       "      <th>% of Total Values</th>\n",
       "      <th>Total Zero and Missing Values</th>\n",
       "      <th>% Total Zero and Missing Values</th>\n",
       "      <th>Data Type</th>\n",
       "    </tr>\n",
       "  </thead>\n",
       "  <tbody>\n",
       "    <tr>\n",
       "      <th>Analytical thinking</th>\n",
       "      <td>0</td>\n",
       "      <td>489786</td>\n",
       "      <td>29.7</td>\n",
       "      <td>489786</td>\n",
       "      <td>29.7</td>\n",
       "      <td>float64</td>\n",
       "    </tr>\n",
       "    <tr>\n",
       "      <th>Systemic thinking</th>\n",
       "      <td>0</td>\n",
       "      <td>489786</td>\n",
       "      <td>29.7</td>\n",
       "      <td>489786</td>\n",
       "      <td>29.7</td>\n",
       "      <td>float64</td>\n",
       "    </tr>\n",
       "    <tr>\n",
       "      <th>Adaptability</th>\n",
       "      <td>0</td>\n",
       "      <td>489786</td>\n",
       "      <td>29.7</td>\n",
       "      <td>489786</td>\n",
       "      <td>29.7</td>\n",
       "      <td>float64</td>\n",
       "    </tr>\n",
       "    <tr>\n",
       "      <th>Focus</th>\n",
       "      <td>0</td>\n",
       "      <td>489786</td>\n",
       "      <td>29.7</td>\n",
       "      <td>489786</td>\n",
       "      <td>29.7</td>\n",
       "      <td>float64</td>\n",
       "    </tr>\n",
       "    <tr>\n",
       "      <th>user_id</th>\n",
       "      <td>0</td>\n",
       "      <td>4566</td>\n",
       "      <td>0.3</td>\n",
       "      <td>4566</td>\n",
       "      <td>0.3</td>\n",
       "      <td>float64</td>\n",
       "    </tr>\n",
       "    <tr>\n",
       "      <th>period_x</th>\n",
       "      <td>0</td>\n",
       "      <td>4566</td>\n",
       "      <td>0.3</td>\n",
       "      <td>4566</td>\n",
       "      <td>0.3</td>\n",
       "      <td>float64</td>\n",
       "    </tr>\n",
       "    <tr>\n",
       "      <th>decision_id</th>\n",
       "      <td>0</td>\n",
       "      <td>4566</td>\n",
       "      <td>0.3</td>\n",
       "      <td>4566</td>\n",
       "      <td>0.3</td>\n",
       "      <td>float64</td>\n",
       "    </tr>\n",
       "    <tr>\n",
       "      <th>game_id</th>\n",
       "      <td>0</td>\n",
       "      <td>4566</td>\n",
       "      <td>0.3</td>\n",
       "      <td>4566</td>\n",
       "      <td>0.3</td>\n",
       "      <td>float64</td>\n",
       "    </tr>\n",
       "  </tbody>\n",
       "</table>\n",
       "</div>"
      ],
      "text/plain": [
       "                     Zero Values  Missing Values  % of Total Values  \\\n",
       "Analytical thinking            0          489786               29.7   \n",
       "Systemic thinking              0          489786               29.7   \n",
       "Adaptability                   0          489786               29.7   \n",
       "Focus                          0          489786               29.7   \n",
       "user_id                        0            4566                0.3   \n",
       "period_x                       0            4566                0.3   \n",
       "decision_id                    0            4566                0.3   \n",
       "game_id                        0            4566                0.3   \n",
       "\n",
       "                     Total Zero and Missing Values  \\\n",
       "Analytical thinking                         489786   \n",
       "Systemic thinking                           489786   \n",
       "Adaptability                                489786   \n",
       "Focus                                       489786   \n",
       "user_id                                       4566   \n",
       "period_x                                      4566   \n",
       "decision_id                                   4566   \n",
       "game_id                                       4566   \n",
       "\n",
       "                     % Total Zero and Missing Values Data Type  \n",
       "Analytical thinking                             29.7   float64  \n",
       "Systemic thinking                               29.7   float64  \n",
       "Adaptability                                    29.7   float64  \n",
       "Focus                                           29.7   float64  \n",
       "user_id                                          0.3   float64  \n",
       "period_x                                         0.3   float64  \n",
       "decision_id                                      0.3   float64  \n",
       "game_id                                          0.3   float64  "
      ]
     },
     "execution_count": 20,
     "metadata": {},
     "output_type": "execute_result"
    }
   ],
   "source": [
    "# Посмотрим статистику датасета по пропускам\n",
    "ds.missing_zero_values_table(df_train_userdecision_user_teampoint_noduplicated)"
   ]
  },
  {
   "cell_type": "code",
   "execution_count": 21,
   "id": "ff701139",
   "metadata": {},
   "outputs": [
    {
     "data": {
      "text/html": [
       "<div>\n",
       "<style scoped>\n",
       "    .dataframe tbody tr th:only-of-type {\n",
       "        vertical-align: middle;\n",
       "    }\n",
       "\n",
       "    .dataframe tbody tr th {\n",
       "        vertical-align: top;\n",
       "    }\n",
       "\n",
       "    .dataframe thead th {\n",
       "        text-align: right;\n",
       "    }\n",
       "</style>\n",
       "<table border=\"1\" class=\"dataframe\">\n",
       "  <thead>\n",
       "    <tr style=\"text-align: right;\">\n",
       "      <th></th>\n",
       "      <th>user_id</th>\n",
       "      <th>Analytical thinking</th>\n",
       "      <th>Systemic thinking</th>\n",
       "      <th>Adaptability</th>\n",
       "      <th>Focus</th>\n",
       "      <th>period_x</th>\n",
       "      <th>decision_id</th>\n",
       "      <th>team_id</th>\n",
       "      <th>game_id</th>\n",
       "      <th>category_id</th>\n",
       "      <th>period_y</th>\n",
       "      <th>score</th>\n",
       "      <th>place</th>\n",
       "    </tr>\n",
       "  </thead>\n",
       "  <tbody>\n",
       "    <tr>\n",
       "      <th>0</th>\n",
       "      <td>10884.0</td>\n",
       "      <td>4.0</td>\n",
       "      <td>4.0</td>\n",
       "      <td>4.0</td>\n",
       "      <td>4.0</td>\n",
       "      <td>3.0</td>\n",
       "      <td>125.0</td>\n",
       "      <td>1440</td>\n",
       "      <td>202.0</td>\n",
       "      <td>3</td>\n",
       "      <td>1</td>\n",
       "      <td>82</td>\n",
       "      <td>6</td>\n",
       "    </tr>\n",
       "    <tr>\n",
       "      <th>1</th>\n",
       "      <td>10884.0</td>\n",
       "      <td>4.0</td>\n",
       "      <td>4.0</td>\n",
       "      <td>4.0</td>\n",
       "      <td>4.0</td>\n",
       "      <td>3.0</td>\n",
       "      <td>125.0</td>\n",
       "      <td>1440</td>\n",
       "      <td>202.0</td>\n",
       "      <td>3</td>\n",
       "      <td>0</td>\n",
       "      <td>103</td>\n",
       "      <td>3</td>\n",
       "    </tr>\n",
       "    <tr>\n",
       "      <th>2</th>\n",
       "      <td>10884.0</td>\n",
       "      <td>4.0</td>\n",
       "      <td>4.0</td>\n",
       "      <td>4.0</td>\n",
       "      <td>4.0</td>\n",
       "      <td>3.0</td>\n",
       "      <td>125.0</td>\n",
       "      <td>1440</td>\n",
       "      <td>202.0</td>\n",
       "      <td>5</td>\n",
       "      <td>2</td>\n",
       "      <td>19</td>\n",
       "      <td>2</td>\n",
       "    </tr>\n",
       "    <tr>\n",
       "      <th>3</th>\n",
       "      <td>10884.0</td>\n",
       "      <td>4.0</td>\n",
       "      <td>4.0</td>\n",
       "      <td>4.0</td>\n",
       "      <td>4.0</td>\n",
       "      <td>3.0</td>\n",
       "      <td>125.0</td>\n",
       "      <td>1440</td>\n",
       "      <td>202.0</td>\n",
       "      <td>4</td>\n",
       "      <td>0</td>\n",
       "      <td>27</td>\n",
       "      <td>3</td>\n",
       "    </tr>\n",
       "    <tr>\n",
       "      <th>4</th>\n",
       "      <td>10884.0</td>\n",
       "      <td>4.0</td>\n",
       "      <td>4.0</td>\n",
       "      <td>4.0</td>\n",
       "      <td>4.0</td>\n",
       "      <td>3.0</td>\n",
       "      <td>125.0</td>\n",
       "      <td>1440</td>\n",
       "      <td>202.0</td>\n",
       "      <td>2</td>\n",
       "      <td>4</td>\n",
       "      <td>9</td>\n",
       "      <td>4</td>\n",
       "    </tr>\n",
       "    <tr>\n",
       "      <th>...</th>\n",
       "      <td>...</td>\n",
       "      <td>...</td>\n",
       "      <td>...</td>\n",
       "      <td>...</td>\n",
       "      <td>...</td>\n",
       "      <td>...</td>\n",
       "      <td>...</td>\n",
       "      <td>...</td>\n",
       "      <td>...</td>\n",
       "      <td>...</td>\n",
       "      <td>...</td>\n",
       "      <td>...</td>\n",
       "      <td>...</td>\n",
       "    </tr>\n",
       "    <tr>\n",
       "      <th>1783555</th>\n",
       "      <td>10303.0</td>\n",
       "      <td>5.0</td>\n",
       "      <td>5.0</td>\n",
       "      <td>5.0</td>\n",
       "      <td>5.0</td>\n",
       "      <td>4.0</td>\n",
       "      <td>298.0</td>\n",
       "      <td>1836</td>\n",
       "      <td>251.0</td>\n",
       "      <td>2</td>\n",
       "      <td>0</td>\n",
       "      <td>16</td>\n",
       "      <td>1</td>\n",
       "    </tr>\n",
       "    <tr>\n",
       "      <th>1783556</th>\n",
       "      <td>10303.0</td>\n",
       "      <td>5.0</td>\n",
       "      <td>5.0</td>\n",
       "      <td>5.0</td>\n",
       "      <td>5.0</td>\n",
       "      <td>4.0</td>\n",
       "      <td>298.0</td>\n",
       "      <td>1836</td>\n",
       "      <td>251.0</td>\n",
       "      <td>6</td>\n",
       "      <td>3</td>\n",
       "      <td>217</td>\n",
       "      <td>2</td>\n",
       "    </tr>\n",
       "    <tr>\n",
       "      <th>1783557</th>\n",
       "      <td>10303.0</td>\n",
       "      <td>5.0</td>\n",
       "      <td>5.0</td>\n",
       "      <td>5.0</td>\n",
       "      <td>5.0</td>\n",
       "      <td>4.0</td>\n",
       "      <td>298.0</td>\n",
       "      <td>1836</td>\n",
       "      <td>251.0</td>\n",
       "      <td>1</td>\n",
       "      <td>2</td>\n",
       "      <td>1</td>\n",
       "      <td>5</td>\n",
       "    </tr>\n",
       "    <tr>\n",
       "      <th>1783558</th>\n",
       "      <td>10303.0</td>\n",
       "      <td>5.0</td>\n",
       "      <td>5.0</td>\n",
       "      <td>5.0</td>\n",
       "      <td>5.0</td>\n",
       "      <td>4.0</td>\n",
       "      <td>298.0</td>\n",
       "      <td>1836</td>\n",
       "      <td>251.0</td>\n",
       "      <td>3</td>\n",
       "      <td>1</td>\n",
       "      <td>56</td>\n",
       "      <td>5</td>\n",
       "    </tr>\n",
       "    <tr>\n",
       "      <th>1783559</th>\n",
       "      <td>10303.0</td>\n",
       "      <td>5.0</td>\n",
       "      <td>5.0</td>\n",
       "      <td>5.0</td>\n",
       "      <td>5.0</td>\n",
       "      <td>4.0</td>\n",
       "      <td>298.0</td>\n",
       "      <td>1836</td>\n",
       "      <td>251.0</td>\n",
       "      <td>3</td>\n",
       "      <td>3</td>\n",
       "      <td>82</td>\n",
       "      <td>3</td>\n",
       "    </tr>\n",
       "  </tbody>\n",
       "</table>\n",
       "<p>1273410 rows × 13 columns</p>\n",
       "</div>"
      ],
      "text/plain": [
       "         user_id  Analytical thinking  Systemic thinking  Adaptability  Focus  \\\n",
       "0        10884.0                  4.0                4.0           4.0    4.0   \n",
       "1        10884.0                  4.0                4.0           4.0    4.0   \n",
       "2        10884.0                  4.0                4.0           4.0    4.0   \n",
       "3        10884.0                  4.0                4.0           4.0    4.0   \n",
       "4        10884.0                  4.0                4.0           4.0    4.0   \n",
       "...          ...                  ...                ...           ...    ...   \n",
       "1783555  10303.0                  5.0                5.0           5.0    5.0   \n",
       "1783556  10303.0                  5.0                5.0           5.0    5.0   \n",
       "1783557  10303.0                  5.0                5.0           5.0    5.0   \n",
       "1783558  10303.0                  5.0                5.0           5.0    5.0   \n",
       "1783559  10303.0                  5.0                5.0           5.0    5.0   \n",
       "\n",
       "         period_x  decision_id  team_id  game_id  category_id  period_y  \\\n",
       "0             3.0        125.0     1440    202.0            3         1   \n",
       "1             3.0        125.0     1440    202.0            3         0   \n",
       "2             3.0        125.0     1440    202.0            5         2   \n",
       "3             3.0        125.0     1440    202.0            4         0   \n",
       "4             3.0        125.0     1440    202.0            2         4   \n",
       "...           ...          ...      ...      ...          ...       ...   \n",
       "1783555       4.0        298.0     1836    251.0            2         0   \n",
       "1783556       4.0        298.0     1836    251.0            6         3   \n",
       "1783557       4.0        298.0     1836    251.0            1         2   \n",
       "1783558       4.0        298.0     1836    251.0            3         1   \n",
       "1783559       4.0        298.0     1836    251.0            3         3   \n",
       "\n",
       "         score  place  \n",
       "0           82      6  \n",
       "1          103      3  \n",
       "2           19      2  \n",
       "3           27      3  \n",
       "4            9      4  \n",
       "...        ...    ...  \n",
       "1783555     16      1  \n",
       "1783556    217      2  \n",
       "1783557      1      5  \n",
       "1783558     56      5  \n",
       "1783559     82      3  \n",
       "\n",
       "[1273410 rows x 13 columns]"
      ]
     },
     "execution_count": 21,
     "metadata": {},
     "output_type": "execute_result"
    }
   ],
   "source": [
    "# Удалим строки, в которых оценки по четырем критериям отсутствуют, т.к. это те пользователи, \n",
    "# оценки которых необходимо предсказать\n",
    "# - эти пользователи появились после объединения датасета с \n",
    "# оценками и датасета с данными игроков\n",
    "df_train_userdecision_user_teampoint_nonan = df_train_userdecision_user_teampoint.dropna(subset = \n",
    "                                                                                         ['Analytical thinking', \n",
    "                                                                                          'Systemic thinking',\n",
    "                                                                                          'Adaptability',\n",
    "                                                                                          'Focus'])\n",
    "df_train_userdecision_user_teampoint_nonan"
   ]
  },
  {
   "cell_type": "code",
   "execution_count": 22,
   "id": "5855599f",
   "metadata": {},
   "outputs": [
    {
     "name": "stdout",
     "output_type": "stream",
     "text": [
      "Your selected dataframe has 13 columns and 1273410 Rows.\n",
      "There are 0 columns that have missing values.\n",
      "Number of rows that have at least one NaN 0  or  0.0%\n"
     ]
    },
    {
     "data": {
      "text/html": [
       "<div>\n",
       "<style scoped>\n",
       "    .dataframe tbody tr th:only-of-type {\n",
       "        vertical-align: middle;\n",
       "    }\n",
       "\n",
       "    .dataframe tbody tr th {\n",
       "        vertical-align: top;\n",
       "    }\n",
       "\n",
       "    .dataframe thead th {\n",
       "        text-align: right;\n",
       "    }\n",
       "</style>\n",
       "<table border=\"1\" class=\"dataframe\">\n",
       "  <thead>\n",
       "    <tr style=\"text-align: right;\">\n",
       "      <th></th>\n",
       "      <th>Zero Values</th>\n",
       "      <th>Missing Values</th>\n",
       "      <th>% of Total Values</th>\n",
       "      <th>Total Zero and Missing Values</th>\n",
       "      <th>% Total Zero and Missing Values</th>\n",
       "      <th>Data Type</th>\n",
       "    </tr>\n",
       "  </thead>\n",
       "  <tbody>\n",
       "  </tbody>\n",
       "</table>\n",
       "</div>"
      ],
      "text/plain": [
       "Empty DataFrame\n",
       "Columns: [Zero Values, Missing Values, % of Total Values, Total Zero and Missing Values, % Total Zero and Missing Values, Data Type]\n",
       "Index: []"
      ]
     },
     "execution_count": 22,
     "metadata": {},
     "output_type": "execute_result"
    }
   ],
   "source": [
    "# Проверим, что пропущенных значений в датасете не осталось \n",
    "ds.missing_zero_values_table(df_train_userdecision_user_teampoint_nonan)"
   ]
  },
  {
   "cell_type": "code",
   "execution_count": 23,
   "id": "8be60ce0",
   "metadata": {},
   "outputs": [],
   "source": [
    "# Приведем типы данных к необходимым:\n",
    "df_train_userdecision_user_teampoint_nonan = df_train_userdecision_user_teampoint_nonan.astype('int32')"
   ]
  },
  {
   "cell_type": "code",
   "execution_count": 24,
   "id": "d16e113e",
   "metadata": {},
   "outputs": [
    {
     "name": "stdout",
     "output_type": "stream",
     "text": [
      "<class 'pandas.core.frame.DataFrame'>\n",
      "Int64Index: 1273410 entries, 0 to 1783559\n",
      "Data columns (total 13 columns):\n",
      " #   Column               Non-Null Count    Dtype\n",
      "---  ------               --------------    -----\n",
      " 0   user_id              1273410 non-null  int32\n",
      " 1   Analytical thinking  1273410 non-null  int32\n",
      " 2   Systemic thinking    1273410 non-null  int32\n",
      " 3   Adaptability         1273410 non-null  int32\n",
      " 4   Focus                1273410 non-null  int32\n",
      " 5   period_x             1273410 non-null  int32\n",
      " 6   decision_id          1273410 non-null  int32\n",
      " 7   team_id              1273410 non-null  int32\n",
      " 8   game_id              1273410 non-null  int32\n",
      " 9   category_id          1273410 non-null  int32\n",
      " 10  period_y             1273410 non-null  int32\n",
      " 11  score                1273410 non-null  int32\n",
      " 12  place                1273410 non-null  int32\n",
      "dtypes: int32(13)\n",
      "memory usage: 72.9 MB\n"
     ]
    }
   ],
   "source": [
    "# Переименуем полученный датафрейм для избавления от длинных названий\n",
    "df = df_train_userdecision_user_teampoint_nonan\n",
    "df.info()"
   ]
  },
  {
   "cell_type": "code",
   "execution_count": 25,
   "id": "fddc37ac",
   "metadata": {},
   "outputs": [
    {
     "name": "stdout",
     "output_type": "stream",
     "text": [
      "<class 'pandas.core.frame.DataFrame'>\n",
      "Int64Index: 485220 entries, 14940 to 1644269\n",
      "Data columns (total 9 columns):\n",
      " #   Column       Non-Null Count   Dtype  \n",
      "---  ------       --------------   -----  \n",
      " 0   user_id      485220 non-null  float64\n",
      " 1   period_x     485220 non-null  float64\n",
      " 2   decision_id  485220 non-null  float64\n",
      " 3   team_id      485220 non-null  int64  \n",
      " 4   game_id      485220 non-null  float64\n",
      " 5   category_id  485220 non-null  int64  \n",
      " 6   period_y     485220 non-null  int64  \n",
      " 7   score        485220 non-null  int64  \n",
      " 8   place        485220 non-null  int64  \n",
      "dtypes: float64(4), int64(5)\n",
      "memory usage: 37.0 MB\n"
     ]
    }
   ],
   "source": [
    "# Создадим датасет, в котором будут все игроки для итогового предсказания: \n",
    "# выделим user_id, которые требуется предсказать в \"sample solution\"\n",
    "sample_solution_list = df_sample_solution['id']\n",
    "df_for_predict = df_train_userdecision_user_teampoint_noduplicated.loc[df_train_userdecision_user_teampoint_noduplicated['user_id'].isin(sample_solution_list)]\n",
    "df_for_predict = df_for_predict.drop(['Analytical thinking','Systemic thinking','Adaptability','Focus'], axis = 1)\n",
    "# display(df_for_predict)\n",
    "df_for_predict.info()"
   ]
  },
  {
   "cell_type": "code",
   "execution_count": 26,
   "id": "5e2793cb",
   "metadata": {},
   "outputs": [
    {
     "name": "stdout",
     "output_type": "stream",
     "text": [
      "<class 'pandas.core.frame.DataFrame'>\n",
      "Int64Index: 485220 entries, 14940 to 1644269\n",
      "Data columns (total 9 columns):\n",
      " #   Column       Non-Null Count   Dtype  \n",
      "---  ------       --------------   -----  \n",
      " 0   user_id      485220 non-null  float64\n",
      " 1   period_x     485220 non-null  float64\n",
      " 2   decision_id  485220 non-null  float64\n",
      " 3   team_id      485220 non-null  int64  \n",
      " 4   game_id      485220 non-null  float64\n",
      " 5   category_id  485220 non-null  int64  \n",
      " 6   period_y     485220 non-null  int64  \n",
      " 7   score        485220 non-null  int64  \n",
      " 8   place        485220 non-null  int64  \n",
      "dtypes: float64(4), int64(5)\n",
      "memory usage: 37.0 MB\n"
     ]
    }
   ],
   "source": [
    "# Заполним пропуски нулями в датасете, на котором будем предсказывать итоговое решение\n",
    "df_for_predict = df_for_predict.fillna(0)\n",
    "df_for_predict.info()"
   ]
  },
  {
   "cell_type": "code",
   "execution_count": 27,
   "id": "1fe7ebf2",
   "metadata": {},
   "outputs": [
    {
     "name": "stdout",
     "output_type": "stream",
     "text": [
      "<class 'pandas.core.frame.DataFrame'>\n",
      "Int64Index: 485220 entries, 14940 to 1644269\n",
      "Data columns (total 9 columns):\n",
      " #   Column       Non-Null Count   Dtype\n",
      "---  ------       --------------   -----\n",
      " 0   user_id      485220 non-null  int32\n",
      " 1   period_x     485220 non-null  int32\n",
      " 2   decision_id  485220 non-null  int32\n",
      " 3   team_id      485220 non-null  int32\n",
      " 4   game_id      485220 non-null  int32\n",
      " 5   category_id  485220 non-null  int32\n",
      " 6   period_y     485220 non-null  int32\n",
      " 7   score        485220 non-null  int32\n",
      " 8   place        485220 non-null  int32\n",
      "dtypes: int32(9)\n",
      "memory usage: 20.4 MB\n"
     ]
    }
   ],
   "source": [
    "# Приведем типы данных к необходимым значениям для датасета, который на котором будет итоговое предсказание:\n",
    "df_for_predict['user_id'] = df_for_predict['user_id'].astype('int32')\n",
    "#df_for_predict['Analytical thinking'] = df_for_predict['Analytical thinking'].astype('int32')\n",
    "#df_for_predict['Systemic thinking'] = df_for_predict['Systemic thinking'].astype('int32')\n",
    "#df_for_predict['Adaptability'] = df_for_predict['Adaptability'].astype('int32')\n",
    "#df_for_predict['Focus'] = df_for_predict['Focus'].astype('int32')\n",
    "df_for_predict['period_x'] = df_for_predict['period_x'].astype('int32')\n",
    "df_for_predict['decision_id'] = df_for_predict['decision_id'].astype('int32')\n",
    "df_for_predict['team_id'] = df_for_predict['team_id'].astype('int32')\n",
    "df_for_predict['game_id'] = df_for_predict['game_id'].astype('int32')\n",
    "df_for_predict['category_id'] = df_for_predict['category_id'].astype('int32')\n",
    "df_for_predict['period_y'] = df_for_predict['period_y'].astype('int32')\n",
    "df_for_predict['score'] = df_for_predict['score'].astype('int32')\n",
    "df_for_predict['place'] = df_for_predict['place'].astype('int32')\n",
    "df_for_predict.info()"
   ]
  },
  {
   "cell_type": "code",
   "execution_count": 28,
   "id": "b527a719",
   "metadata": {},
   "outputs": [],
   "source": [
    "# заполним пропуски в столбцах через цикл\n",
    "#   internet_service   5517 non-null   object \n",
    "#   online_security    5517 non-null   object \n",
    "#   online_backup      5517 non-null   object \n",
    "#   device_protection  5517 non-null   object \n",
    "#   tech_support       5517 non-null   object \n",
    "#   streaming_tv       5517 non-null   object \n",
    "#   streaming_movies   5517 non-null   object\n",
    "#   multiple_lines     6361 non-null   object \n",
    "#list_service = ['internet_service', 'online_security', 'online_backup', \n",
    "#                'device_protection', 'tech_support', 'streaming_tv', \n",
    "#                'streaming_movies', 'multiple_lines']\n",
    "#for column in list_service:\n",
    "#    df[column] = df[column].fillna(\"Service unavailable\")\n",
    "\n",
    "# проверим наличие пропусков после замены\n",
    "#df.info()"
   ]
  },
  {
   "cell_type": "code",
   "execution_count": 29,
   "id": "c25982df",
   "metadata": {},
   "outputs": [
    {
     "data": {
      "text/plain": [
       "'\\n# Построим матрицу корреляции через фи-корреляцию (phik), c помощью \\n# которой можно изучать корреляцию непрерывных категориальных признаков \\nphik_overview = df.phik_matrix()\\nphik_overview = phik_overview.round(2)\\n# визуализируем полученную матрицу фи-корреляции\\nplot_correlation_matrix(phik_overview.values, \\n                        x_labels=phik_overview.columns, \\n                        y_labels=phik_overview.index, \\n                        vmin=0, vmax=1, color_map=\"Greens\", \\n                        title=r\"correlation $\\\\phi_K$\", \\n                        fontsize_factor=1.5, \\n                        figsize=(15, 15))\\nplt.tight_layout()\\n'"
      ]
     },
     "execution_count": 29,
     "metadata": {},
     "output_type": "execute_result"
    }
   ],
   "source": [
    "'''\n",
    "# Построим матрицу корреляции через фи-корреляцию (phik), c помощью \n",
    "# которой можно изучать корреляцию непрерывных категориальных признаков \n",
    "phik_overview = df.phik_matrix()\n",
    "phik_overview = phik_overview.round(2)\n",
    "# визуализируем полученную матрицу фи-корреляции\n",
    "plot_correlation_matrix(phik_overview.values, \n",
    "                        x_labels=phik_overview.columns, \n",
    "                        y_labels=phik_overview.index, \n",
    "                        vmin=0, vmax=1, color_map=\"Greens\", \n",
    "                        title=r\"correlation $\\phi_K$\", \n",
    "                        fontsize_factor=1.5, \n",
    "                        figsize=(15, 15))\n",
    "plt.tight_layout()\n",
    "'''"
   ]
  },
  {
   "cell_type": "markdown",
   "id": "88de05ac",
   "metadata": {},
   "source": [
    "    Когда независимые переменные коррелируют друг с другом, то говорят о возникновении мультиколлинеарности. В машинном обучении (Machine Learning) мультиколлинеарность может стать причиной переобучаемости модели, что приведет к неверному результату. \n",
    "    \n",
    "    Среди целевых у нас есть четыре таких признака: это все оценки, которые и требуется предсказать! Удалить их не можем, т.к. это целевые признаки, но отметим, что наибольший коэффициент корреляции в паре Adaptability/Focus (0,95) и Systemic thinking/Analitical thinking (0.91)"
   ]
  },
  {
   "cell_type": "markdown",
   "id": "a27fba93",
   "metadata": {},
   "source": [
    "   По матрице корреляции видно, что period_y и category_id имеют нулевую корреляцию с целевыми признакими, т.е. никак не влияют на целевые оценки. Можно удалить эти признаки и сократить датафрейм для ускорения обучения модели.\n",
    "   \n",
    "   Признак 'game_id' и 'team_id' имеют коэффициент корреляции 99%, поэтому целесообразно также удалить один из этих столбцов для уменьшения датафрейма"
   ]
  },
  {
   "cell_type": "code",
   "execution_count": 30,
   "id": "67565310",
   "metadata": {},
   "outputs": [],
   "source": [
    "# Удалим выбранные столбцы для уменьшения размера датафрейма\n",
    "df = df.drop(['period_y','category_id', 'game_id'], axis = 1)\n",
    "df_for_predict = df_for_predict.drop(['period_y','category_id', 'game_id'], axis = 1)"
   ]
  },
  {
   "cell_type": "code",
   "execution_count": 31,
   "id": "548ba45d",
   "metadata": {},
   "outputs": [
    {
     "name": "stdout",
     "output_type": "stream",
     "text": [
      "Дубликатов выявлено: 162570\n"
     ]
    }
   ],
   "source": [
    "# Проверим на дубликаты\n",
    "print(\"Дубликатов выявлено:\", df_train_userdecision_user_teampoint.duplicated().sum())"
   ]
  },
  {
   "cell_type": "code",
   "execution_count": 32,
   "id": "abae8787",
   "metadata": {},
   "outputs": [],
   "source": [
    "# Удалим дубликаты\n",
    "df = df.drop_duplicates().reset_index(drop=True)\n",
    "df_for_predict = df_for_predict.drop_duplicates().reset_index(drop=True)"
   ]
  },
  {
   "cell_type": "code",
   "execution_count": 33,
   "id": "f7a2f8eb",
   "metadata": {},
   "outputs": [
    {
     "name": "stdout",
     "output_type": "stream",
     "text": [
      "<class 'pandas.core.frame.DataFrame'>\n",
      "RangeIndex: 1131569 entries, 0 to 1131568\n",
      "Data columns (total 10 columns):\n",
      " #   Column               Non-Null Count    Dtype\n",
      "---  ------               --------------    -----\n",
      " 0   user_id              1131569 non-null  int32\n",
      " 1   Analytical thinking  1131569 non-null  int32\n",
      " 2   Systemic thinking    1131569 non-null  int32\n",
      " 3   Adaptability         1131569 non-null  int32\n",
      " 4   Focus                1131569 non-null  int32\n",
      " 5   period_x             1131569 non-null  int32\n",
      " 6   decision_id          1131569 non-null  int32\n",
      " 7   team_id              1131569 non-null  int32\n",
      " 8   score                1131569 non-null  int32\n",
      " 9   place                1131569 non-null  int32\n",
      "dtypes: int32(10)\n",
      "memory usage: 43.2 MB\n",
      "<class 'pandas.core.frame.DataFrame'>\n",
      "RangeIndex: 472752 entries, 0 to 472751\n",
      "Data columns (total 6 columns):\n",
      " #   Column       Non-Null Count   Dtype\n",
      "---  ------       --------------   -----\n",
      " 0   user_id      472752 non-null  int32\n",
      " 1   period_x     472752 non-null  int32\n",
      " 2   decision_id  472752 non-null  int32\n",
      " 3   team_id      472752 non-null  int32\n",
      " 4   score        472752 non-null  int32\n",
      " 5   place        472752 non-null  int32\n",
      "dtypes: int32(6)\n",
      "memory usage: 10.8 MB\n"
     ]
    }
   ],
   "source": [
    "df.info()\n",
    "df_for_predict.info()"
   ]
  },
  {
   "cell_type": "code",
   "execution_count": null,
   "id": "cb022fee",
   "metadata": {},
   "outputs": [],
   "source": []
  },
  {
   "cell_type": "code",
   "execution_count": null,
   "id": "71f5eb72",
   "metadata": {},
   "outputs": [],
   "source": []
  },
  {
   "cell_type": "code",
   "execution_count": null,
   "id": "7073c232",
   "metadata": {},
   "outputs": [],
   "source": []
  },
  {
   "cell_type": "code",
   "execution_count": null,
   "id": "4d2de0be",
   "metadata": {},
   "outputs": [],
   "source": []
  },
  {
   "cell_type": "markdown",
   "id": "79793568",
   "metadata": {},
   "source": [
    "<div class=\"alert alert-danger\">\n",
    "<b>🚫  Комментарий тимлида:</b> К сожалению, не все модели адекватно работают с с порядковым кодированием. Такой способ подходит для моделей решающих деревьев. В бустинговых моделях кодирование похоже на порядковое, но лучше передавать категориальные признаки напрямую, например в моделях LGBM и CatBoost есть такие способы кодирования.\n",
    "    \n",
    "Когда категориальных признаков и уникальных значений немного, допустимо использовать кодирование OneHotEncoding.\n",
    "    \n",
    "Кодирование нужно выполнить после разделения на train и test, чтобы не было утечки из тестовой выборки в обучающую.\n",
    "</div>"
   ]
  },
  {
   "cell_type": "markdown",
   "id": "6c744794",
   "metadata": {},
   "source": [
    "<div class=\"alert alert-success\">\n",
    "<b>✔️ Комментарий ревьювера v2:</b> Да, в CatBoost действительно лучше передавать категориальные признаки напрямую, без кодирования. Это актуально, когда много уникальных категорий. Но при небольшом наборе признаков допускается применять OHE кодирование.\n",
    "    \n",
    "</div>"
   ]
  },
  {
   "cell_type": "code",
   "execution_count": null,
   "id": "712136cd",
   "metadata": {},
   "outputs": [],
   "source": []
  },
  {
   "cell_type": "code",
   "execution_count": 34,
   "id": "52f4f507",
   "metadata": {},
   "outputs": [
    {
     "data": {
      "text/plain": [
       "\"\\n# построим гистограмму распределения для целевого признака\\nsns.distplot(df['Analytical thinking'].values).set(title='Analytical thinking')\\nnp.median(df['Analytical thinking'].values)\\n\""
      ]
     },
     "execution_count": 34,
     "metadata": {},
     "output_type": "execute_result"
    }
   ],
   "source": [
    "'''\n",
    "# построим гистограмму распределения для целевого признака\n",
    "sns.distplot(df['Analytical thinking'].values).set(title='Analytical thinking')\n",
    "np.median(df['Analytical thinking'].values)\n",
    "'''"
   ]
  },
  {
   "cell_type": "code",
   "execution_count": 35,
   "id": "a50746f0",
   "metadata": {},
   "outputs": [
    {
     "data": {
      "text/plain": [
       "\"\\n# построим гистограмму распределения для целевого признака\\nsns.distplot(df['Systemic thinking'].values).set(title='Systemic thinking')\\nnp.median(df['Systemic thinking'].values)\\n\""
      ]
     },
     "execution_count": 35,
     "metadata": {},
     "output_type": "execute_result"
    }
   ],
   "source": [
    "'''\n",
    "# построим гистограмму распределения для целевого признака\n",
    "sns.distplot(df['Systemic thinking'].values).set(title='Systemic thinking')\n",
    "np.median(df['Systemic thinking'].values)\n",
    "'''"
   ]
  },
  {
   "cell_type": "code",
   "execution_count": 36,
   "id": "c037a137",
   "metadata": {},
   "outputs": [
    {
     "data": {
      "text/plain": [
       "\"\\n# построим гистограмму распределения для целевого признака\\nsns.distplot(df['Adaptability'].values).set(title='Adaptability')\\nnp.median(df['Adaptability'].values)\\n\""
      ]
     },
     "execution_count": 36,
     "metadata": {},
     "output_type": "execute_result"
    }
   ],
   "source": [
    "'''\n",
    "# построим гистограмму распределения для целевого признака\n",
    "sns.distplot(df['Adaptability'].values).set(title='Adaptability')\n",
    "np.median(df['Adaptability'].values)\n",
    "'''"
   ]
  },
  {
   "cell_type": "code",
   "execution_count": 37,
   "id": "b3ac7986",
   "metadata": {},
   "outputs": [
    {
     "data": {
      "text/plain": [
       "\"\\n# построим гистограмму распределения для целевого признака\\nsns.distplot(df['Focus'].values).set(title='Focus')\\nnp.median(df['Focus'].values)\\n\""
      ]
     },
     "execution_count": 37,
     "metadata": {},
     "output_type": "execute_result"
    }
   ],
   "source": [
    "'''\n",
    "# построим гистограмму распределения для целевого признака\n",
    "sns.distplot(df['Focus'].values).set(title='Focus')\n",
    "np.median(df['Focus'].values)\n",
    "'''"
   ]
  },
  {
   "cell_type": "markdown",
   "id": "c69d623d",
   "metadata": {},
   "source": [
    "По диаграммам видно, что распределение не является нормальным"
   ]
  },
  {
   "cell_type": "code",
   "execution_count": 38,
   "id": "a0b40761",
   "metadata": {},
   "outputs": [
    {
     "data": {
      "text/html": [
       "<div>\n",
       "<style scoped>\n",
       "    .dataframe tbody tr th:only-of-type {\n",
       "        vertical-align: middle;\n",
       "    }\n",
       "\n",
       "    .dataframe tbody tr th {\n",
       "        vertical-align: top;\n",
       "    }\n",
       "\n",
       "    .dataframe thead th {\n",
       "        text-align: right;\n",
       "    }\n",
       "</style>\n",
       "<table border=\"1\" class=\"dataframe\">\n",
       "  <thead>\n",
       "    <tr style=\"text-align: right;\">\n",
       "      <th></th>\n",
       "      <th>user_id</th>\n",
       "      <th>Analytical thinking</th>\n",
       "      <th>Systemic thinking</th>\n",
       "      <th>Adaptability</th>\n",
       "      <th>Focus</th>\n",
       "      <th>period_x</th>\n",
       "      <th>decision_id</th>\n",
       "      <th>team_id</th>\n",
       "      <th>score</th>\n",
       "      <th>place</th>\n",
       "    </tr>\n",
       "  </thead>\n",
       "  <tbody>\n",
       "    <tr>\n",
       "      <th>count</th>\n",
       "      <td>1.131569e+06</td>\n",
       "      <td>1.131569e+06</td>\n",
       "      <td>1.131569e+06</td>\n",
       "      <td>1.131569e+06</td>\n",
       "      <td>1.131569e+06</td>\n",
       "      <td>1.131569e+06</td>\n",
       "      <td>1.131569e+06</td>\n",
       "      <td>1.131569e+06</td>\n",
       "      <td>1.131569e+06</td>\n",
       "      <td>1.131569e+06</td>\n",
       "    </tr>\n",
       "    <tr>\n",
       "      <th>mean</th>\n",
       "      <td>1.050001e+04</td>\n",
       "      <td>4.386402e+00</td>\n",
       "      <td>4.184496e+00</td>\n",
       "      <td>4.581707e+00</td>\n",
       "      <td>4.435415e+00</td>\n",
       "      <td>2.634053e+00</td>\n",
       "      <td>2.078583e+02</td>\n",
       "      <td>1.610680e+03</td>\n",
       "      <td>5.336941e+01</td>\n",
       "      <td>3.368761e+00</td>\n",
       "    </tr>\n",
       "    <tr>\n",
       "      <th>std</th>\n",
       "      <td>2.812719e+02</td>\n",
       "      <td>6.618446e-01</td>\n",
       "      <td>6.005802e-01</td>\n",
       "      <td>6.550923e-01</td>\n",
       "      <td>6.053388e-01</td>\n",
       "      <td>1.024790e+00</td>\n",
       "      <td>1.287772e+02</td>\n",
       "      <td>1.862697e+02</td>\n",
       "      <td>6.374078e+01</td>\n",
       "      <td>1.732024e+00</td>\n",
       "    </tr>\n",
       "    <tr>\n",
       "      <th>min</th>\n",
       "      <td>1.000100e+04</td>\n",
       "      <td>1.000000e+00</td>\n",
       "      <td>1.000000e+00</td>\n",
       "      <td>1.000000e+00</td>\n",
       "      <td>1.000000e+00</td>\n",
       "      <td>1.000000e+00</td>\n",
       "      <td>1.000000e+00</td>\n",
       "      <td>1.248000e+03</td>\n",
       "      <td>-6.900000e+01</td>\n",
       "      <td>1.000000e+00</td>\n",
       "    </tr>\n",
       "    <tr>\n",
       "      <th>25%</th>\n",
       "      <td>1.024900e+04</td>\n",
       "      <td>4.000000e+00</td>\n",
       "      <td>4.000000e+00</td>\n",
       "      <td>4.000000e+00</td>\n",
       "      <td>4.000000e+00</td>\n",
       "      <td>2.000000e+00</td>\n",
       "      <td>9.300000e+01</td>\n",
       "      <td>1.460000e+03</td>\n",
       "      <td>1.400000e+01</td>\n",
       "      <td>2.000000e+00</td>\n",
       "    </tr>\n",
       "    <tr>\n",
       "      <th>50%</th>\n",
       "      <td>1.051600e+04</td>\n",
       "      <td>4.000000e+00</td>\n",
       "      <td>4.000000e+00</td>\n",
       "      <td>5.000000e+00</td>\n",
       "      <td>4.000000e+00</td>\n",
       "      <td>3.000000e+00</td>\n",
       "      <td>1.770000e+02</td>\n",
       "      <td>1.644000e+03</td>\n",
       "      <td>3.100000e+01</td>\n",
       "      <td>3.000000e+00</td>\n",
       "    </tr>\n",
       "    <tr>\n",
       "      <th>75%</th>\n",
       "      <td>1.073500e+04</td>\n",
       "      <td>5.000000e+00</td>\n",
       "      <td>4.000000e+00</td>\n",
       "      <td>5.000000e+00</td>\n",
       "      <td>5.000000e+00</td>\n",
       "      <td>3.000000e+00</td>\n",
       "      <td>3.220000e+02</td>\n",
       "      <td>1.764000e+03</td>\n",
       "      <td>7.400000e+01</td>\n",
       "      <td>5.000000e+00</td>\n",
       "    </tr>\n",
       "    <tr>\n",
       "      <th>max</th>\n",
       "      <td>1.097300e+04</td>\n",
       "      <td>6.000000e+00</td>\n",
       "      <td>6.000000e+00</td>\n",
       "      <td>6.000000e+00</td>\n",
       "      <td>6.000000e+00</td>\n",
       "      <td>4.000000e+00</td>\n",
       "      <td>4.370000e+02</td>\n",
       "      <td>1.926000e+03</td>\n",
       "      <td>4.360000e+02</td>\n",
       "      <td>6.000000e+00</td>\n",
       "    </tr>\n",
       "  </tbody>\n",
       "</table>\n",
       "</div>"
      ],
      "text/plain": [
       "            user_id  Analytical thinking  Systemic thinking  Adaptability  \\\n",
       "count  1.131569e+06         1.131569e+06       1.131569e+06  1.131569e+06   \n",
       "mean   1.050001e+04         4.386402e+00       4.184496e+00  4.581707e+00   \n",
       "std    2.812719e+02         6.618446e-01       6.005802e-01  6.550923e-01   \n",
       "min    1.000100e+04         1.000000e+00       1.000000e+00  1.000000e+00   \n",
       "25%    1.024900e+04         4.000000e+00       4.000000e+00  4.000000e+00   \n",
       "50%    1.051600e+04         4.000000e+00       4.000000e+00  5.000000e+00   \n",
       "75%    1.073500e+04         5.000000e+00       4.000000e+00  5.000000e+00   \n",
       "max    1.097300e+04         6.000000e+00       6.000000e+00  6.000000e+00   \n",
       "\n",
       "              Focus      period_x   decision_id       team_id         score  \\\n",
       "count  1.131569e+06  1.131569e+06  1.131569e+06  1.131569e+06  1.131569e+06   \n",
       "mean   4.435415e+00  2.634053e+00  2.078583e+02  1.610680e+03  5.336941e+01   \n",
       "std    6.053388e-01  1.024790e+00  1.287772e+02  1.862697e+02  6.374078e+01   \n",
       "min    1.000000e+00  1.000000e+00  1.000000e+00  1.248000e+03 -6.900000e+01   \n",
       "25%    4.000000e+00  2.000000e+00  9.300000e+01  1.460000e+03  1.400000e+01   \n",
       "50%    4.000000e+00  3.000000e+00  1.770000e+02  1.644000e+03  3.100000e+01   \n",
       "75%    5.000000e+00  3.000000e+00  3.220000e+02  1.764000e+03  7.400000e+01   \n",
       "max    6.000000e+00  4.000000e+00  4.370000e+02  1.926000e+03  4.360000e+02   \n",
       "\n",
       "              place  \n",
       "count  1.131569e+06  \n",
       "mean   3.368761e+00  \n",
       "std    1.732024e+00  \n",
       "min    1.000000e+00  \n",
       "25%    2.000000e+00  \n",
       "50%    3.000000e+00  \n",
       "75%    5.000000e+00  \n",
       "max    6.000000e+00  "
      ]
     },
     "execution_count": 38,
     "metadata": {},
     "output_type": "execute_result"
    }
   ],
   "source": [
    "# диаграммы и статистики по всему датасету\n",
    "df.describe()"
   ]
  },
  {
   "cell_type": "markdown",
   "id": "83278d71",
   "metadata": {},
   "source": [
    "  \n",
    "     Исследовать качество разных моделей, меняя гиперпараметры:\n",
    "     - исследовать баланс классов и сбалансировать в случае необходимости\n",
    "     - для обучающей и тестовой выборок сформировать столбец с целевым признаком (использовать для этого признак EndDate),\n",
    "     - разделить данные на обучающую и тестовую выборки,\n",
    "     - использовать OneHotEncoder для кодирования категориальных признаков, \n",
    "     - обучить модели LinearRegression, LightGBM (градиентный бустинг) и RandomForestClassifier (случайный лес), используя GridSearchCV и/или RandomizedSearchCV для подбора гиперпараметров во всех моделях, кроме LinearRegression, \n",
    "     - в случае недостижения требуемого результата метрики AUC-ROC обучить другие модели градиентного бустинга (CatBoostClassifier) и \"деревьев решений\" (DecisionTreeClassifier)"
   ]
  },
  {
   "cell_type": "markdown",
   "id": "edb1674a",
   "metadata": {},
   "source": [
    "## RandomForestClassifier"
   ]
  },
  {
   "cell_type": "markdown",
   "id": "47df0042",
   "metadata": {},
   "source": [
    "### Подготовка признаков"
   ]
  },
  {
   "cell_type": "markdown",
   "id": "f4a80cb8",
   "metadata": {},
   "source": [
    "Как ранее было исследовано, существует дисбаланс классов (оценок 4 и 5 подавляющее большинство, при других оценок крайне мало), поэтому применим стратификацию при разбивке датасета на обучающую и тестовую выручки"
   ]
  },
  {
   "cell_type": "code",
   "execution_count": 39,
   "id": "b7b25bae",
   "metadata": {},
   "outputs": [],
   "source": [
    "df_rfc = df\n",
    "df_for_predict_rfc = df_for_predict"
   ]
  },
  {
   "cell_type": "code",
   "execution_count": 40,
   "id": "93e00d5d",
   "metadata": {},
   "outputs": [],
   "source": [
    "# onehotencoder = OneHotEncoder(drop = 'first')\n",
    "# df_rfc = onehotencoder.fit_transform(df_rfc).toarray()\n"
   ]
  },
  {
   "cell_type": "code",
   "execution_count": 42,
   "id": "51d40849",
   "metadata": {},
   "outputs": [],
   "source": [
    "# выделим признаки для обучения моделей\n",
    "X_rfc = df.drop(['Analytical thinking','Systemic thinking','Adaptability','Focus'], axis = 1)\n",
    "y_rfc = df[['Analytical thinking','Systemic thinking','Adaptability','Focus']]"
   ]
  },
  {
   "cell_type": "code",
   "execution_count": 43,
   "id": "629cc54e",
   "metadata": {},
   "outputs": [
    {
     "name": "stdout",
     "output_type": "stream",
     "text": [
      "All is good: sample sizes are correct\n"
     ]
    },
    {
     "data": {
      "text/plain": [
       "((848676, 6), (282893, 6), (848676, 4), (282893, 4))"
      ]
     },
     "execution_count": 43,
     "metadata": {},
     "output_type": "execute_result"
    }
   ],
   "source": [
    "# разделим датафрейм на обучающую и тестовую выборки, при этом \n",
    "# используем стратификацию (параметр stratify), чтобы сбалансировать \n",
    "# выборки по классам\n",
    "X_train, X_test, y_train, y_test = train_test_split(X_rfc, y_rfc, test_size=TEST_SIZE, random_state=RANDOM_STATE, stratify=y_rfc)\n",
    "\n",
    "# Проверим правильность разделения и размеров выборок\n",
    "if X_train.shape[0]==y_train.shape[0] and X_test.shape[0]==y_test.shape[0]:\n",
    "    print('All is good: sample sizes are correct')\n",
    "else:\n",
    "    print('Error!!! Sample sizes are NOT correct')\n",
    "\n",
    "X_train.shape, X_test.shape, y_train.shape, y_test.shape"
   ]
  },
  {
   "cell_type": "code",
   "execution_count": null,
   "id": "ff135b79",
   "metadata": {},
   "outputs": [],
   "source": []
  },
  {
   "cell_type": "markdown",
   "id": "5aa3531b",
   "metadata": {},
   "source": [
    "### Обучение модели"
   ]
  },
  {
   "cell_type": "code",
   "execution_count": 46,
   "id": "35a46c4c",
   "metadata": {},
   "outputs": [
    {
     "name": "stdout",
     "output_type": "stream",
     "text": [
      "Fitting 5 folds for each of 16 candidates, totalling 80 fits\n",
      " --------------------------------------------------------------------------\n",
      " --------------------------------------------------------------------------\n",
      " Results from Grid Search \n",
      "\n",
      " The best estimator across ALL searched params:\n",
      " RandomForestClassifier(class_weight='balanced', criterion='entropy',\n",
      "                       max_depth=3, min_samples_leaf=2, min_samples_split=3,\n",
      "                       random_state=120922)\n",
      "\n",
      " The best score across ALL searched params:\n",
      " nan\n",
      "\n",
      " The best parameters across ALL searched params:\n",
      " {'criterion': 'entropy', 'max_depth': 3, 'max_features': 'sqrt', 'min_samples_leaf': 2, 'min_samples_split': 3, 'n_estimators': 100}\n"
     ]
    }
   ],
   "source": [
    "# подберем гиперпараметры методом GridSearchCV\n",
    "rfc = RandomForestClassifier(class_weight='balanced',\n",
    "                             bootstrap=True,\n",
    "                             random_state=RANDOM_STATE)\n",
    "\n",
    "rfc_params = {\n",
    "     'n_estimators': [200],\n",
    "     'max_depth': [2,3,5],\n",
    "     'criterion': ['entropy'],\n",
    "     'max_features': ['sqrt']     \n",
    "}\n",
    "\n",
    "grid_search_rfc = GridSearchCV(rfc,\n",
    "                               rfc_params, \n",
    "                               verbose=2,\n",
    "                               cv=5,\n",
    "                               #n_jobs=-1,\n",
    "                               scoring='recall')\n",
    "\n",
    "grid_search_rfc.fit(X_train, y_train)\n",
    "\n",
    "print(\" --------------------------------------------------------------------------\" )\n",
    "print(\" --------------------------------------------------------------------------\" )\n",
    "print(\" Results from Grid Search \" )\n",
    "print(\"\\n The best estimator across ALL searched params:\\n\", grid_search_rfc.best_estimator_)\n",
    "print(\"\\n The best score across ALL searched params:\\n\", grid_search_rfc.best_score_)\n",
    "print(\"\\n The best parameters across ALL searched params:\\n\", grid_search_rfc.best_params_)"
   ]
  },
  {
   "cell_type": "code",
   "execution_count": 61,
   "id": "d6ed2a1e",
   "metadata": {},
   "outputs": [
    {
     "data": {
      "text/html": [
       "<style>#sk-container-id-1 {color: black;background-color: white;}#sk-container-id-1 pre{padding: 0;}#sk-container-id-1 div.sk-toggleable {background-color: white;}#sk-container-id-1 label.sk-toggleable__label {cursor: pointer;display: block;width: 100%;margin-bottom: 0;padding: 0.3em;box-sizing: border-box;text-align: center;}#sk-container-id-1 label.sk-toggleable__label-arrow:before {content: \"▸\";float: left;margin-right: 0.25em;color: #696969;}#sk-container-id-1 label.sk-toggleable__label-arrow:hover:before {color: black;}#sk-container-id-1 div.sk-estimator:hover label.sk-toggleable__label-arrow:before {color: black;}#sk-container-id-1 div.sk-toggleable__content {max-height: 0;max-width: 0;overflow: hidden;text-align: left;background-color: #f0f8ff;}#sk-container-id-1 div.sk-toggleable__content pre {margin: 0.2em;color: black;border-radius: 0.25em;background-color: #f0f8ff;}#sk-container-id-1 input.sk-toggleable__control:checked~div.sk-toggleable__content {max-height: 200px;max-width: 100%;overflow: auto;}#sk-container-id-1 input.sk-toggleable__control:checked~label.sk-toggleable__label-arrow:before {content: \"▾\";}#sk-container-id-1 div.sk-estimator input.sk-toggleable__control:checked~label.sk-toggleable__label {background-color: #d4ebff;}#sk-container-id-1 div.sk-label input.sk-toggleable__control:checked~label.sk-toggleable__label {background-color: #d4ebff;}#sk-container-id-1 input.sk-hidden--visually {border: 0;clip: rect(1px 1px 1px 1px);clip: rect(1px, 1px, 1px, 1px);height: 1px;margin: -1px;overflow: hidden;padding: 0;position: absolute;width: 1px;}#sk-container-id-1 div.sk-estimator {font-family: monospace;background-color: #f0f8ff;border: 1px dotted black;border-radius: 0.25em;box-sizing: border-box;margin-bottom: 0.5em;}#sk-container-id-1 div.sk-estimator:hover {background-color: #d4ebff;}#sk-container-id-1 div.sk-parallel-item::after {content: \"\";width: 100%;border-bottom: 1px solid gray;flex-grow: 1;}#sk-container-id-1 div.sk-label:hover label.sk-toggleable__label {background-color: #d4ebff;}#sk-container-id-1 div.sk-serial::before {content: \"\";position: absolute;border-left: 1px solid gray;box-sizing: border-box;top: 0;bottom: 0;left: 50%;z-index: 0;}#sk-container-id-1 div.sk-serial {display: flex;flex-direction: column;align-items: center;background-color: white;padding-right: 0.2em;padding-left: 0.2em;position: relative;}#sk-container-id-1 div.sk-item {position: relative;z-index: 1;}#sk-container-id-1 div.sk-parallel {display: flex;align-items: stretch;justify-content: center;background-color: white;position: relative;}#sk-container-id-1 div.sk-item::before, #sk-container-id-1 div.sk-parallel-item::before {content: \"\";position: absolute;border-left: 1px solid gray;box-sizing: border-box;top: 0;bottom: 0;left: 50%;z-index: -1;}#sk-container-id-1 div.sk-parallel-item {display: flex;flex-direction: column;z-index: 1;position: relative;background-color: white;}#sk-container-id-1 div.sk-parallel-item:first-child::after {align-self: flex-end;width: 50%;}#sk-container-id-1 div.sk-parallel-item:last-child::after {align-self: flex-start;width: 50%;}#sk-container-id-1 div.sk-parallel-item:only-child::after {width: 0;}#sk-container-id-1 div.sk-dashed-wrapped {border: 1px dashed gray;margin: 0 0.4em 0.5em 0.4em;box-sizing: border-box;padding-bottom: 0.4em;background-color: white;}#sk-container-id-1 div.sk-label label {font-family: monospace;font-weight: bold;display: inline-block;line-height: 1.2em;}#sk-container-id-1 div.sk-label-container {text-align: center;}#sk-container-id-1 div.sk-container {/* jupyter's `normalize.less` sets `[hidden] { display: none; }` but bootstrap.min.css set `[hidden] { display: none !important; }` so we also need the `!important` here to be able to override the default hidden behavior on the sphinx rendered scikit-learn.org. See: https://github.com/scikit-learn/scikit-learn/issues/21755 */display: inline-block !important;position: relative;}#sk-container-id-1 div.sk-text-repr-fallback {display: none;}</style><div id=\"sk-container-id-1\" class=\"sk-top-container\"><div class=\"sk-text-repr-fallback\"><pre>RandomForestClassifier(class_weight=&#x27;balanced&#x27;, random_state=120922)</pre><b>In a Jupyter environment, please rerun this cell to show the HTML representation or trust the notebook. <br />On GitHub, the HTML representation is unable to render, please try loading this page with nbviewer.org.</b></div><div class=\"sk-container\" hidden><div class=\"sk-item\"><div class=\"sk-estimator sk-toggleable\"><input class=\"sk-toggleable__control sk-hidden--visually\" id=\"sk-estimator-id-1\" type=\"checkbox\" checked><label for=\"sk-estimator-id-1\" class=\"sk-toggleable__label sk-toggleable__label-arrow\">RandomForestClassifier</label><div class=\"sk-toggleable__content\"><pre>RandomForestClassifier(class_weight=&#x27;balanced&#x27;, random_state=120922)</pre></div></div></div></div></div>"
      ],
      "text/plain": [
       "RandomForestClassifier(class_weight='balanced', random_state=120922)"
      ]
     },
     "execution_count": 61,
     "metadata": {},
     "output_type": "execute_result"
    }
   ],
   "source": [
    "# обучение модели без подбора гиперпараметров\n",
    "rfc_no_grid = RandomForestClassifier(class_weight='balanced', random_state=RANDOM_STATE)\n",
    "rfc_no_grid.fit(X_train, y_train)"
   ]
  },
  {
   "cell_type": "code",
   "execution_count": 62,
   "id": "1f6a5858",
   "metadata": {},
   "outputs": [
    {
     "data": {
      "text/plain": [
       "'\\nrfc.fit(X_train, y_train)\\n'"
      ]
     },
     "execution_count": 62,
     "metadata": {},
     "output_type": "execute_result"
    }
   ],
   "source": [
    "'''\n",
    "rfc.fit(X_train, y_train)\n",
    "'''"
   ]
  },
  {
   "cell_type": "markdown",
   "id": "e430b853",
   "metadata": {},
   "source": [
    "### Оценка точности RandomForestClassifier"
   ]
  },
  {
   "cell_type": "code",
   "execution_count": 63,
   "id": "2d54a340",
   "metadata": {},
   "outputs": [],
   "source": [
    "pred_rfc = grid_search_rfc.predict(X_test)\n",
    "pred_rfc_no_grid = rfc_no_grid.predict(X_test)\n",
    "#pred_rfc.shape"
   ]
  },
  {
   "cell_type": "code",
   "execution_count": 64,
   "id": "1138e9fd",
   "metadata": {},
   "outputs": [
    {
     "data": {
      "text/html": [
       "<div>\n",
       "<style scoped>\n",
       "    .dataframe tbody tr th:only-of-type {\n",
       "        vertical-align: middle;\n",
       "    }\n",
       "\n",
       "    .dataframe tbody tr th {\n",
       "        vertical-align: top;\n",
       "    }\n",
       "\n",
       "    .dataframe thead th {\n",
       "        text-align: right;\n",
       "    }\n",
       "</style>\n",
       "<table border=\"1\" class=\"dataframe\">\n",
       "  <thead>\n",
       "    <tr style=\"text-align: right;\">\n",
       "      <th></th>\n",
       "      <th>period_1</th>\n",
       "      <th>period_2</th>\n",
       "      <th>period_3</th>\n",
       "      <th>period_4</th>\n",
       "    </tr>\n",
       "  </thead>\n",
       "  <tbody>\n",
       "    <tr>\n",
       "      <th>819143</th>\n",
       "      <td>6</td>\n",
       "      <td>5</td>\n",
       "      <td>5</td>\n",
       "      <td>5</td>\n",
       "    </tr>\n",
       "    <tr>\n",
       "      <th>252756</th>\n",
       "      <td>4</td>\n",
       "      <td>4</td>\n",
       "      <td>4</td>\n",
       "      <td>4</td>\n",
       "    </tr>\n",
       "    <tr>\n",
       "      <th>150185</th>\n",
       "      <td>5</td>\n",
       "      <td>4</td>\n",
       "      <td>4</td>\n",
       "      <td>4</td>\n",
       "    </tr>\n",
       "    <tr>\n",
       "      <th>768560</th>\n",
       "      <td>5</td>\n",
       "      <td>4</td>\n",
       "      <td>5</td>\n",
       "      <td>5</td>\n",
       "    </tr>\n",
       "    <tr>\n",
       "      <th>409511</th>\n",
       "      <td>5</td>\n",
       "      <td>5</td>\n",
       "      <td>5</td>\n",
       "      <td>4</td>\n",
       "    </tr>\n",
       "  </tbody>\n",
       "</table>\n",
       "</div>"
      ],
      "text/plain": [
       "        period_1  period_2  period_3  period_4\n",
       "819143         6         5         5         5\n",
       "252756         4         4         4         4\n",
       "150185         5         4         4         4\n",
       "768560         5         4         5         5\n",
       "409511         5         5         5         4"
      ]
     },
     "execution_count": 64,
     "metadata": {},
     "output_type": "execute_result"
    }
   ],
   "source": [
    "y_test.head()\n",
    "y_test_i = y_test.copy()\n",
    "y_test_i.rename(columns = {'Analytical thinking' : 'period_1', \n",
    "                          'Systemic thinking' : 'period_2',\n",
    "                          'Adaptability' : 'period_3',\n",
    "                          'Focus' : 'period_4',}, inplace = True)\n",
    "y_test_i.head()"
   ]
  },
  {
   "cell_type": "code",
   "execution_count": 65,
   "id": "2821f00e",
   "metadata": {},
   "outputs": [
    {
     "name": "stdout",
     "output_type": "stream",
     "text": [
      "Recall score 0.28592354572392603\n"
     ]
    }
   ],
   "source": [
    "result = 0\n",
    "for i in range(4):\n",
    "    result += recall_score(y_test_i[\"period_\" + str(i+1)], pred_rfc[:,i], average='macro', zero_division=True)\n",
    "\n",
    "print(\"Recall score\",result/4)"
   ]
  },
  {
   "cell_type": "code",
   "execution_count": 66,
   "id": "c6b5b271",
   "metadata": {},
   "outputs": [
    {
     "name": "stdout",
     "output_type": "stream",
     "text": [
      "Recall score 0.9999860501688163\n"
     ]
    }
   ],
   "source": [
    "result = 0\n",
    "for i in range(4):\n",
    "    result += recall_score(y_test_i[\"period_\" + str(i+1)], pred_rfc_no_grid[:,i], average='macro', zero_division=True)\n",
    "\n",
    "print(\"Recall score\",result/4)"
   ]
  },
  {
   "cell_type": "code",
   "execution_count": 67,
   "id": "39502b7d",
   "metadata": {},
   "outputs": [
    {
     "data": {
      "text/html": [
       "<div>\n",
       "<style scoped>\n",
       "    .dataframe tbody tr th:only-of-type {\n",
       "        vertical-align: middle;\n",
       "    }\n",
       "\n",
       "    .dataframe tbody tr th {\n",
       "        vertical-align: top;\n",
       "    }\n",
       "\n",
       "    .dataframe thead th {\n",
       "        text-align: right;\n",
       "    }\n",
       "</style>\n",
       "<table border=\"1\" class=\"dataframe\">\n",
       "  <thead>\n",
       "    <tr style=\"text-align: right;\">\n",
       "      <th></th>\n",
       "      <th>Analytical thinking</th>\n",
       "      <th>Systemic thinking</th>\n",
       "      <th>Adaptability</th>\n",
       "      <th>Focus</th>\n",
       "    </tr>\n",
       "  </thead>\n",
       "  <tbody>\n",
       "    <tr>\n",
       "      <th>0</th>\n",
       "      <td>1</td>\n",
       "      <td>1</td>\n",
       "      <td>3</td>\n",
       "      <td>1</td>\n",
       "    </tr>\n",
       "    <tr>\n",
       "      <th>1</th>\n",
       "      <td>1</td>\n",
       "      <td>1</td>\n",
       "      <td>1</td>\n",
       "      <td>1</td>\n",
       "    </tr>\n",
       "    <tr>\n",
       "      <th>2</th>\n",
       "      <td>1</td>\n",
       "      <td>1</td>\n",
       "      <td>1</td>\n",
       "      <td>1</td>\n",
       "    </tr>\n",
       "    <tr>\n",
       "      <th>3</th>\n",
       "      <td>1</td>\n",
       "      <td>1</td>\n",
       "      <td>1</td>\n",
       "      <td>1</td>\n",
       "    </tr>\n",
       "    <tr>\n",
       "      <th>4</th>\n",
       "      <td>1</td>\n",
       "      <td>1</td>\n",
       "      <td>1</td>\n",
       "      <td>1</td>\n",
       "    </tr>\n",
       "    <tr>\n",
       "      <th>...</th>\n",
       "      <td>...</td>\n",
       "      <td>...</td>\n",
       "      <td>...</td>\n",
       "      <td>...</td>\n",
       "    </tr>\n",
       "    <tr>\n",
       "      <th>282888</th>\n",
       "      <td>1</td>\n",
       "      <td>1</td>\n",
       "      <td>1</td>\n",
       "      <td>1</td>\n",
       "    </tr>\n",
       "    <tr>\n",
       "      <th>282889</th>\n",
       "      <td>1</td>\n",
       "      <td>1</td>\n",
       "      <td>3</td>\n",
       "      <td>1</td>\n",
       "    </tr>\n",
       "    <tr>\n",
       "      <th>282890</th>\n",
       "      <td>1</td>\n",
       "      <td>1</td>\n",
       "      <td>1</td>\n",
       "      <td>1</td>\n",
       "    </tr>\n",
       "    <tr>\n",
       "      <th>282891</th>\n",
       "      <td>1</td>\n",
       "      <td>1</td>\n",
       "      <td>3</td>\n",
       "      <td>1</td>\n",
       "    </tr>\n",
       "    <tr>\n",
       "      <th>282892</th>\n",
       "      <td>1</td>\n",
       "      <td>1</td>\n",
       "      <td>3</td>\n",
       "      <td>1</td>\n",
       "    </tr>\n",
       "  </tbody>\n",
       "</table>\n",
       "<p>282893 rows × 4 columns</p>\n",
       "</div>"
      ],
      "text/plain": [
       "        Analytical thinking  Systemic thinking  Adaptability  Focus\n",
       "0                         1                  1             3      1\n",
       "1                         1                  1             1      1\n",
       "2                         1                  1             1      1\n",
       "3                         1                  1             1      1\n",
       "4                         1                  1             1      1\n",
       "...                     ...                ...           ...    ...\n",
       "282888                    1                  1             1      1\n",
       "282889                    1                  1             3      1\n",
       "282890                    1                  1             1      1\n",
       "282891                    1                  1             3      1\n",
       "282892                    1                  1             3      1\n",
       "\n",
       "[282893 rows x 4 columns]"
      ]
     },
     "metadata": {},
     "output_type": "display_data"
    }
   ],
   "source": [
    "df_rfc_pred = pd.DataFrame(pred_rfc, columns = ['Analytical thinking','Systemic thinking','Adaptability', 'Focus'])\n",
    "display(df_rfc_pred)"
   ]
  },
  {
   "cell_type": "code",
   "execution_count": 70,
   "id": "bde8c69a",
   "metadata": {},
   "outputs": [
    {
     "data": {
      "text/html": [
       "<div>\n",
       "<style scoped>\n",
       "    .dataframe tbody tr th:only-of-type {\n",
       "        vertical-align: middle;\n",
       "    }\n",
       "\n",
       "    .dataframe tbody tr th {\n",
       "        vertical-align: top;\n",
       "    }\n",
       "\n",
       "    .dataframe thead th {\n",
       "        text-align: right;\n",
       "    }\n",
       "</style>\n",
       "<table border=\"1\" class=\"dataframe\">\n",
       "  <thead>\n",
       "    <tr style=\"text-align: right;\">\n",
       "      <th></th>\n",
       "      <th>Analytical thinking</th>\n",
       "      <th>Systemic thinking</th>\n",
       "      <th>Adaptability</th>\n",
       "      <th>Focus</th>\n",
       "    </tr>\n",
       "  </thead>\n",
       "  <tbody>\n",
       "    <tr>\n",
       "      <th>0</th>\n",
       "      <td>6</td>\n",
       "      <td>5</td>\n",
       "      <td>5</td>\n",
       "      <td>5</td>\n",
       "    </tr>\n",
       "    <tr>\n",
       "      <th>1</th>\n",
       "      <td>4</td>\n",
       "      <td>4</td>\n",
       "      <td>4</td>\n",
       "      <td>4</td>\n",
       "    </tr>\n",
       "    <tr>\n",
       "      <th>2</th>\n",
       "      <td>5</td>\n",
       "      <td>4</td>\n",
       "      <td>4</td>\n",
       "      <td>4</td>\n",
       "    </tr>\n",
       "    <tr>\n",
       "      <th>3</th>\n",
       "      <td>5</td>\n",
       "      <td>4</td>\n",
       "      <td>5</td>\n",
       "      <td>5</td>\n",
       "    </tr>\n",
       "    <tr>\n",
       "      <th>4</th>\n",
       "      <td>5</td>\n",
       "      <td>5</td>\n",
       "      <td>5</td>\n",
       "      <td>4</td>\n",
       "    </tr>\n",
       "    <tr>\n",
       "      <th>...</th>\n",
       "      <td>...</td>\n",
       "      <td>...</td>\n",
       "      <td>...</td>\n",
       "      <td>...</td>\n",
       "    </tr>\n",
       "    <tr>\n",
       "      <th>282888</th>\n",
       "      <td>5</td>\n",
       "      <td>4</td>\n",
       "      <td>4</td>\n",
       "      <td>4</td>\n",
       "    </tr>\n",
       "    <tr>\n",
       "      <th>282889</th>\n",
       "      <td>4</td>\n",
       "      <td>4</td>\n",
       "      <td>5</td>\n",
       "      <td>5</td>\n",
       "    </tr>\n",
       "    <tr>\n",
       "      <th>282890</th>\n",
       "      <td>5</td>\n",
       "      <td>4</td>\n",
       "      <td>5</td>\n",
       "      <td>5</td>\n",
       "    </tr>\n",
       "    <tr>\n",
       "      <th>282891</th>\n",
       "      <td>5</td>\n",
       "      <td>5</td>\n",
       "      <td>5</td>\n",
       "      <td>5</td>\n",
       "    </tr>\n",
       "    <tr>\n",
       "      <th>282892</th>\n",
       "      <td>4</td>\n",
       "      <td>4</td>\n",
       "      <td>4</td>\n",
       "      <td>4</td>\n",
       "    </tr>\n",
       "  </tbody>\n",
       "</table>\n",
       "<p>282893 rows × 4 columns</p>\n",
       "</div>"
      ],
      "text/plain": [
       "        Analytical thinking  Systemic thinking  Adaptability  Focus\n",
       "0                         6                  5             5      5\n",
       "1                         4                  4             4      4\n",
       "2                         5                  4             4      4\n",
       "3                         5                  4             5      5\n",
       "4                         5                  5             5      4\n",
       "...                     ...                ...           ...    ...\n",
       "282888                    5                  4             4      4\n",
       "282889                    4                  4             5      5\n",
       "282890                    5                  4             5      5\n",
       "282891                    5                  5             5      5\n",
       "282892                    4                  4             4      4\n",
       "\n",
       "[282893 rows x 4 columns]"
      ]
     },
     "metadata": {},
     "output_type": "display_data"
    }
   ],
   "source": [
    "df_pred_rfc_no_grid = pd.DataFrame(pred_rfc_no_grid, columns = ['Analytical thinking','Systemic thinking','Adaptability', 'Focus'])\n",
    "display(df_pred_rfc_no_grid)"
   ]
  },
  {
   "cell_type": "code",
   "execution_count": 71,
   "id": "a1527fa7",
   "metadata": {},
   "outputs": [],
   "source": [
    "# выбор модели для предсказания на sample_solution.csv и сохранение ее в переменной rfc\n",
    "rfc = rfc_no_grid"
   ]
  },
  {
   "cell_type": "markdown",
   "id": "a12f77bc",
   "metadata": {},
   "source": [
    "### Предсказание для sample_solution.csv"
   ]
  },
  {
   "cell_type": "code",
   "execution_count": 72,
   "id": "30bb9020",
   "metadata": {},
   "outputs": [
    {
     "data": {
      "text/plain": [
       "array([[5, 4, 5, 4],\n",
       "       [5, 4, 5, 4],\n",
       "       [5, 4, 5, 4],\n",
       "       ...,\n",
       "       [4, 4, 4, 4],\n",
       "       [4, 4, 4, 4],\n",
       "       [4, 4, 4, 4]])"
      ]
     },
     "metadata": {},
     "output_type": "display_data"
    },
    {
     "data": {
      "text/html": [
       "<div>\n",
       "<style scoped>\n",
       "    .dataframe tbody tr th:only-of-type {\n",
       "        vertical-align: middle;\n",
       "    }\n",
       "\n",
       "    .dataframe tbody tr th {\n",
       "        vertical-align: top;\n",
       "    }\n",
       "\n",
       "    .dataframe thead th {\n",
       "        text-align: right;\n",
       "    }\n",
       "</style>\n",
       "<table border=\"1\" class=\"dataframe\">\n",
       "  <thead>\n",
       "    <tr style=\"text-align: right;\">\n",
       "      <th></th>\n",
       "      <th>Analytical thinking</th>\n",
       "      <th>Systemic thinking</th>\n",
       "      <th>Adaptability</th>\n",
       "      <th>Focus</th>\n",
       "    </tr>\n",
       "  </thead>\n",
       "  <tbody>\n",
       "    <tr>\n",
       "      <th>0</th>\n",
       "      <td>5</td>\n",
       "      <td>4</td>\n",
       "      <td>5</td>\n",
       "      <td>4</td>\n",
       "    </tr>\n",
       "    <tr>\n",
       "      <th>1</th>\n",
       "      <td>5</td>\n",
       "      <td>4</td>\n",
       "      <td>5</td>\n",
       "      <td>4</td>\n",
       "    </tr>\n",
       "    <tr>\n",
       "      <th>2</th>\n",
       "      <td>5</td>\n",
       "      <td>4</td>\n",
       "      <td>5</td>\n",
       "      <td>4</td>\n",
       "    </tr>\n",
       "    <tr>\n",
       "      <th>3</th>\n",
       "      <td>5</td>\n",
       "      <td>4</td>\n",
       "      <td>5</td>\n",
       "      <td>4</td>\n",
       "    </tr>\n",
       "    <tr>\n",
       "      <th>4</th>\n",
       "      <td>5</td>\n",
       "      <td>4</td>\n",
       "      <td>5</td>\n",
       "      <td>4</td>\n",
       "    </tr>\n",
       "    <tr>\n",
       "      <th>...</th>\n",
       "      <td>...</td>\n",
       "      <td>...</td>\n",
       "      <td>...</td>\n",
       "      <td>...</td>\n",
       "    </tr>\n",
       "    <tr>\n",
       "      <th>472747</th>\n",
       "      <td>4</td>\n",
       "      <td>4</td>\n",
       "      <td>4</td>\n",
       "      <td>4</td>\n",
       "    </tr>\n",
       "    <tr>\n",
       "      <th>472748</th>\n",
       "      <td>4</td>\n",
       "      <td>4</td>\n",
       "      <td>4</td>\n",
       "      <td>4</td>\n",
       "    </tr>\n",
       "    <tr>\n",
       "      <th>472749</th>\n",
       "      <td>4</td>\n",
       "      <td>4</td>\n",
       "      <td>4</td>\n",
       "      <td>4</td>\n",
       "    </tr>\n",
       "    <tr>\n",
       "      <th>472750</th>\n",
       "      <td>4</td>\n",
       "      <td>4</td>\n",
       "      <td>4</td>\n",
       "      <td>4</td>\n",
       "    </tr>\n",
       "    <tr>\n",
       "      <th>472751</th>\n",
       "      <td>4</td>\n",
       "      <td>4</td>\n",
       "      <td>4</td>\n",
       "      <td>4</td>\n",
       "    </tr>\n",
       "  </tbody>\n",
       "</table>\n",
       "<p>472752 rows × 4 columns</p>\n",
       "</div>"
      ],
      "text/plain": [
       "        Analytical thinking  Systemic thinking  Adaptability  Focus\n",
       "0                         5                  4             5      4\n",
       "1                         5                  4             5      4\n",
       "2                         5                  4             5      4\n",
       "3                         5                  4             5      4\n",
       "4                         5                  4             5      4\n",
       "...                     ...                ...           ...    ...\n",
       "472747                    4                  4             4      4\n",
       "472748                    4                  4             4      4\n",
       "472749                    4                  4             4      4\n",
       "472750                    4                  4             4      4\n",
       "472751                    4                  4             4      4\n",
       "\n",
       "[472752 rows x 4 columns]"
      ]
     },
     "metadata": {},
     "output_type": "display_data"
    }
   ],
   "source": [
    "pred_sample_solution = rfc.predict(df_for_predict)\n",
    "display(pred_sample_solution)\n",
    "df_pred_sample_solution = pd.DataFrame(pred_sample_solution, columns = ['Analytical thinking','Systemic thinking','Adaptability', 'Focus'])\n",
    "display(df_pred_sample_solution)"
   ]
  },
  {
   "cell_type": "code",
   "execution_count": 73,
   "id": "a20acf4b",
   "metadata": {},
   "outputs": [
    {
     "name": "stdout",
     "output_type": "stream",
     "text": [
      "<class 'pandas.core.frame.DataFrame'>\n",
      "RangeIndex: 472752 entries, 0 to 472751\n",
      "Data columns (total 6 columns):\n",
      " #   Column               Non-Null Count   Dtype\n",
      "---  ------               --------------   -----\n",
      " 0   index                472752 non-null  int64\n",
      " 1   Analytical thinking  472752 non-null  int32\n",
      " 2   Systemic thinking    472752 non-null  int32\n",
      " 3   Adaptability         472752 non-null  int32\n",
      " 4   Focus                472752 non-null  int32\n",
      " 5   id                   472752 non-null  int32\n",
      "dtypes: int32(5), int64(1)\n",
      "memory usage: 12.6 MB\n"
     ]
    }
   ],
   "source": [
    "# К полученным предсказаниям добавим user_id и переименуем user_id в 'id':\n",
    "\n",
    "# Для этого сбросим индексы в обоих датасетах, затем вставим столбец с 'user_id'\n",
    "df_for_predict_resetindex = df_for_predict.reset_index()\n",
    "df_pred_sample_solution_resetindex = df_pred_sample_solution.reset_index()\n",
    "df_pred_sample_solution_with_id = df_pred_sample_solution_resetindex\n",
    "\n",
    "# В полученном датасете заменим название столбца с 'user_id' на 'id' - так требует форма итогового решения (sample_solution)\n",
    "df_pred_sample_solution_with_id['user_id'] = df_for_predict_resetindex['user_id']\n",
    "df_pred_sample_solution_with_id_final = df_pred_sample_solution_with_id\n",
    "df_pred_sample_solution_with_id_final.rename(columns = {'user_id' : 'id'}, inplace = True)\n",
    "df_pred_sample_solution_with_id_final.info()"
   ]
  },
  {
   "cell_type": "code",
   "execution_count": 75,
   "id": "e0671dba",
   "metadata": {},
   "outputs": [
    {
     "data": {
      "text/html": [
       "<div>\n",
       "<style scoped>\n",
       "    .dataframe tbody tr th:only-of-type {\n",
       "        vertical-align: middle;\n",
       "    }\n",
       "\n",
       "    .dataframe tbody tr th {\n",
       "        vertical-align: top;\n",
       "    }\n",
       "\n",
       "    .dataframe thead th {\n",
       "        text-align: right;\n",
       "    }\n",
       "</style>\n",
       "<table border=\"1\" class=\"dataframe\">\n",
       "  <thead>\n",
       "    <tr style=\"text-align: right;\">\n",
       "      <th></th>\n",
       "      <th>Analytical thinking</th>\n",
       "      <th>Systemic thinking</th>\n",
       "      <th>Adaptability</th>\n",
       "      <th>Focus</th>\n",
       "    </tr>\n",
       "    <tr>\n",
       "      <th>id</th>\n",
       "      <th></th>\n",
       "      <th></th>\n",
       "      <th></th>\n",
       "      <th></th>\n",
       "    </tr>\n",
       "  </thead>\n",
       "  <tbody>\n",
       "    <tr>\n",
       "      <th>10002</th>\n",
       "      <td>5</td>\n",
       "      <td>4</td>\n",
       "      <td>5</td>\n",
       "      <td>5</td>\n",
       "    </tr>\n",
       "    <tr>\n",
       "      <th>10005</th>\n",
       "      <td>5</td>\n",
       "      <td>4</td>\n",
       "      <td>5</td>\n",
       "      <td>5</td>\n",
       "    </tr>\n",
       "    <tr>\n",
       "      <th>10007</th>\n",
       "      <td>5</td>\n",
       "      <td>5</td>\n",
       "      <td>5</td>\n",
       "      <td>5</td>\n",
       "    </tr>\n",
       "    <tr>\n",
       "      <th>10010</th>\n",
       "      <td>4</td>\n",
       "      <td>4</td>\n",
       "      <td>5</td>\n",
       "      <td>4</td>\n",
       "    </tr>\n",
       "    <tr>\n",
       "      <th>10023</th>\n",
       "      <td>4</td>\n",
       "      <td>4</td>\n",
       "      <td>5</td>\n",
       "      <td>4</td>\n",
       "    </tr>\n",
       "    <tr>\n",
       "      <th>...</th>\n",
       "      <td>...</td>\n",
       "      <td>...</td>\n",
       "      <td>...</td>\n",
       "      <td>...</td>\n",
       "    </tr>\n",
       "    <tr>\n",
       "      <th>10963</th>\n",
       "      <td>4</td>\n",
       "      <td>4</td>\n",
       "      <td>4</td>\n",
       "      <td>4</td>\n",
       "    </tr>\n",
       "    <tr>\n",
       "      <th>10968</th>\n",
       "      <td>5</td>\n",
       "      <td>4</td>\n",
       "      <td>5</td>\n",
       "      <td>4</td>\n",
       "    </tr>\n",
       "    <tr>\n",
       "      <th>10969</th>\n",
       "      <td>5</td>\n",
       "      <td>4</td>\n",
       "      <td>5</td>\n",
       "      <td>5</td>\n",
       "    </tr>\n",
       "    <tr>\n",
       "      <th>10971</th>\n",
       "      <td>5</td>\n",
       "      <td>4</td>\n",
       "      <td>5</td>\n",
       "      <td>4</td>\n",
       "    </tr>\n",
       "    <tr>\n",
       "      <th>10972</th>\n",
       "      <td>4</td>\n",
       "      <td>4</td>\n",
       "      <td>5</td>\n",
       "      <td>4</td>\n",
       "    </tr>\n",
       "  </tbody>\n",
       "</table>\n",
       "<p>293 rows × 4 columns</p>\n",
       "</div>"
      ],
      "text/plain": [
       "       Analytical thinking  Systemic thinking  Adaptability  Focus\n",
       "id                                                                \n",
       "10002                    5                  4             5      5\n",
       "10005                    5                  4             5      5\n",
       "10007                    5                  5             5      5\n",
       "10010                    4                  4             5      4\n",
       "10023                    4                  4             5      4\n",
       "...                    ...                ...           ...    ...\n",
       "10963                    4                  4             4      4\n",
       "10968                    5                  4             5      4\n",
       "10969                    5                  4             5      5\n",
       "10971                    5                  4             5      4\n",
       "10972                    4                  4             5      4\n",
       "\n",
       "[293 rows x 4 columns]"
      ]
     },
     "metadata": {},
     "output_type": "display_data"
    }
   ],
   "source": [
    "# Создадим сводную таблицу, в которой посчитаем среднее значение по каждой оценке для всех игроков\n",
    "# Такой способ является грубым и может не соответствовать системе оценок в игре, но иного варианта нет, \n",
    "# т.к. датасет, на котором необходимо предсказывать, не содержит никаких допоплнительных признаков (например, номер решения и т.д.)\n",
    "# а следовательно, могут быть предсказаны только средние оценки\n",
    "df_pred_sample_solution_with_id_final_pivot = pd.pivot_table(df_pred_sample_solution_with_id_final, values=['Analytical thinking','Systemic thinking','Adaptability', 'Focus'], index=\"id\", columns=None, aggfunc='mean')\n",
    "df_pred_sample_solution_with_id_final_pivot = df_pred_sample_solution_with_id_final_pivot.round({'Analytical thinking':0,'Systemic thinking':0,'Adaptability':0, 'Focus':0})\n",
    "df_pred_sample_solution_with_id_final_pivot = df_pred_sample_solution_with_id_final_pivot.astype(int)\n",
    "df_pred_sample_solution_with_id_final_pivot_column_order_rfc = df_pred_sample_solution_with_id_final_pivot[['Analytical thinking','Systemic thinking','Adaptability', 'Focus']]\n",
    "display(df_pred_sample_solution_with_id_final_pivot_column_order_rfc)"
   ]
  },
  {
   "cell_type": "code",
   "execution_count": 76,
   "id": "075a58f3",
   "metadata": {},
   "outputs": [
    {
     "data": {
      "text/plain": [
       "array([5, 6, 4, 3, 1])"
      ]
     },
     "execution_count": 76,
     "metadata": {},
     "output_type": "execute_result"
    }
   ],
   "source": [
    "y_train['Analytical thinking'].unique()"
   ]
  },
  {
   "cell_type": "code",
   "execution_count": 77,
   "id": "fe6b0ca8",
   "metadata": {},
   "outputs": [
    {
     "data": {
      "text/plain": [
       "array([5, 4, 3, 6, 1])"
      ]
     },
     "execution_count": 77,
     "metadata": {},
     "output_type": "execute_result"
    }
   ],
   "source": [
    "y_train['Systemic thinking'].unique()"
   ]
  },
  {
   "cell_type": "code",
   "execution_count": 78,
   "id": "11187949",
   "metadata": {},
   "outputs": [
    {
     "data": {
      "text/plain": [
       "array([4, 5, 6, 3, 1, 2])"
      ]
     },
     "execution_count": 78,
     "metadata": {},
     "output_type": "execute_result"
    }
   ],
   "source": [
    "y_train['Adaptability'].unique()"
   ]
  },
  {
   "cell_type": "code",
   "execution_count": 79,
   "id": "c302603e",
   "metadata": {},
   "outputs": [
    {
     "data": {
      "text/plain": [
       "array([5, 4, 3, 6, 1, 2])"
      ]
     },
     "execution_count": 79,
     "metadata": {},
     "output_type": "execute_result"
    }
   ],
   "source": [
    "y_train['Focus'].unique()"
   ]
  },
  {
   "cell_type": "code",
   "execution_count": 80,
   "id": "fc6f5289",
   "metadata": {},
   "outputs": [
    {
     "data": {
      "text/html": [
       "<div>\n",
       "<style scoped>\n",
       "    .dataframe tbody tr th:only-of-type {\n",
       "        vertical-align: middle;\n",
       "    }\n",
       "\n",
       "    .dataframe tbody tr th {\n",
       "        vertical-align: top;\n",
       "    }\n",
       "\n",
       "    .dataframe thead th {\n",
       "        text-align: right;\n",
       "    }\n",
       "</style>\n",
       "<table border=\"1\" class=\"dataframe\">\n",
       "  <thead>\n",
       "    <tr style=\"text-align: right;\">\n",
       "      <th></th>\n",
       "      <th>Analytical thinking</th>\n",
       "      <th>Systemic thinking</th>\n",
       "      <th>Adaptability</th>\n",
       "      <th>Focus</th>\n",
       "    </tr>\n",
       "  </thead>\n",
       "  <tbody>\n",
       "    <tr>\n",
       "      <th>count</th>\n",
       "      <td>848676.000000</td>\n",
       "      <td>848676.000000</td>\n",
       "      <td>848676.000000</td>\n",
       "      <td>848676.000000</td>\n",
       "    </tr>\n",
       "    <tr>\n",
       "      <th>mean</th>\n",
       "      <td>4.386397</td>\n",
       "      <td>4.184492</td>\n",
       "      <td>4.581705</td>\n",
       "      <td>4.435412</td>\n",
       "    </tr>\n",
       "    <tr>\n",
       "      <th>std</th>\n",
       "      <td>0.661854</td>\n",
       "      <td>0.600585</td>\n",
       "      <td>0.655098</td>\n",
       "      <td>0.605343</td>\n",
       "    </tr>\n",
       "    <tr>\n",
       "      <th>min</th>\n",
       "      <td>1.000000</td>\n",
       "      <td>1.000000</td>\n",
       "      <td>1.000000</td>\n",
       "      <td>1.000000</td>\n",
       "    </tr>\n",
       "    <tr>\n",
       "      <th>25%</th>\n",
       "      <td>4.000000</td>\n",
       "      <td>4.000000</td>\n",
       "      <td>4.000000</td>\n",
       "      <td>4.000000</td>\n",
       "    </tr>\n",
       "    <tr>\n",
       "      <th>50%</th>\n",
       "      <td>4.000000</td>\n",
       "      <td>4.000000</td>\n",
       "      <td>5.000000</td>\n",
       "      <td>4.000000</td>\n",
       "    </tr>\n",
       "    <tr>\n",
       "      <th>75%</th>\n",
       "      <td>5.000000</td>\n",
       "      <td>4.000000</td>\n",
       "      <td>5.000000</td>\n",
       "      <td>5.000000</td>\n",
       "    </tr>\n",
       "    <tr>\n",
       "      <th>max</th>\n",
       "      <td>6.000000</td>\n",
       "      <td>6.000000</td>\n",
       "      <td>6.000000</td>\n",
       "      <td>6.000000</td>\n",
       "    </tr>\n",
       "  </tbody>\n",
       "</table>\n",
       "</div>"
      ],
      "text/plain": [
       "       Analytical thinking  Systemic thinking   Adaptability          Focus\n",
       "count        848676.000000      848676.000000  848676.000000  848676.000000\n",
       "mean              4.386397           4.184492       4.581705       4.435412\n",
       "std               0.661854           0.600585       0.655098       0.605343\n",
       "min               1.000000           1.000000       1.000000       1.000000\n",
       "25%               4.000000           4.000000       4.000000       4.000000\n",
       "50%               4.000000           4.000000       5.000000       4.000000\n",
       "75%               5.000000           4.000000       5.000000       5.000000\n",
       "max               6.000000           6.000000       6.000000       6.000000"
      ]
     },
     "execution_count": 80,
     "metadata": {},
     "output_type": "execute_result"
    }
   ],
   "source": [
    "y_train.describe()"
   ]
  },
  {
   "cell_type": "code",
   "execution_count": 81,
   "id": "0e102728",
   "metadata": {},
   "outputs": [
    {
     "data": {
      "text/html": [
       "<div>\n",
       "<style scoped>\n",
       "    .dataframe tbody tr th:only-of-type {\n",
       "        vertical-align: middle;\n",
       "    }\n",
       "\n",
       "    .dataframe tbody tr th {\n",
       "        vertical-align: top;\n",
       "    }\n",
       "\n",
       "    .dataframe thead th {\n",
       "        text-align: right;\n",
       "    }\n",
       "</style>\n",
       "<table border=\"1\" class=\"dataframe\">\n",
       "  <thead>\n",
       "    <tr style=\"text-align: right;\">\n",
       "      <th></th>\n",
       "      <th>Analytical thinking</th>\n",
       "      <th>Systemic thinking</th>\n",
       "      <th>Adaptability</th>\n",
       "      <th>Focus</th>\n",
       "    </tr>\n",
       "  </thead>\n",
       "  <tbody>\n",
       "    <tr>\n",
       "      <th>count</th>\n",
       "      <td>282893.000000</td>\n",
       "      <td>282893.000000</td>\n",
       "      <td>282893.000000</td>\n",
       "      <td>282893.000000</td>\n",
       "    </tr>\n",
       "    <tr>\n",
       "      <th>mean</th>\n",
       "      <td>4.386418</td>\n",
       "      <td>4.184508</td>\n",
       "      <td>4.581715</td>\n",
       "      <td>4.435423</td>\n",
       "    </tr>\n",
       "    <tr>\n",
       "      <th>std</th>\n",
       "      <td>0.661818</td>\n",
       "      <td>0.600566</td>\n",
       "      <td>0.655077</td>\n",
       "      <td>0.605327</td>\n",
       "    </tr>\n",
       "    <tr>\n",
       "      <th>min</th>\n",
       "      <td>1.000000</td>\n",
       "      <td>1.000000</td>\n",
       "      <td>1.000000</td>\n",
       "      <td>1.000000</td>\n",
       "    </tr>\n",
       "    <tr>\n",
       "      <th>25%</th>\n",
       "      <td>4.000000</td>\n",
       "      <td>4.000000</td>\n",
       "      <td>4.000000</td>\n",
       "      <td>4.000000</td>\n",
       "    </tr>\n",
       "    <tr>\n",
       "      <th>50%</th>\n",
       "      <td>4.000000</td>\n",
       "      <td>4.000000</td>\n",
       "      <td>5.000000</td>\n",
       "      <td>4.000000</td>\n",
       "    </tr>\n",
       "    <tr>\n",
       "      <th>75%</th>\n",
       "      <td>5.000000</td>\n",
       "      <td>4.000000</td>\n",
       "      <td>5.000000</td>\n",
       "      <td>5.000000</td>\n",
       "    </tr>\n",
       "    <tr>\n",
       "      <th>max</th>\n",
       "      <td>6.000000</td>\n",
       "      <td>6.000000</td>\n",
       "      <td>6.000000</td>\n",
       "      <td>6.000000</td>\n",
       "    </tr>\n",
       "  </tbody>\n",
       "</table>\n",
       "</div>"
      ],
      "text/plain": [
       "       Analytical thinking  Systemic thinking   Adaptability          Focus\n",
       "count        282893.000000      282893.000000  282893.000000  282893.000000\n",
       "mean              4.386418           4.184508       4.581715       4.435423\n",
       "std               0.661818           0.600566       0.655077       0.605327\n",
       "min               1.000000           1.000000       1.000000       1.000000\n",
       "25%               4.000000           4.000000       4.000000       4.000000\n",
       "50%               4.000000           4.000000       5.000000       4.000000\n",
       "75%               5.000000           4.000000       5.000000       5.000000\n",
       "max               6.000000           6.000000       6.000000       6.000000"
      ]
     },
     "execution_count": 81,
     "metadata": {},
     "output_type": "execute_result"
    }
   ],
   "source": [
    "y_test.describe()"
   ]
  },
  {
   "cell_type": "code",
   "execution_count": 83,
   "id": "2eed70c4",
   "metadata": {},
   "outputs": [],
   "source": [
    "df_pred_sample_solution_with_id_final_pivot_column_order_rfc.to_csv('df_pred_sample_solution_rfc_no_grid.csv')"
   ]
  },
  {
   "cell_type": "code",
   "execution_count": null,
   "id": "eb1d2eb3",
   "metadata": {},
   "outputs": [],
   "source": [
    "абыр"
   ]
  },
  {
   "cell_type": "code",
   "execution_count": null,
   "id": "9407738c",
   "metadata": {},
   "outputs": [],
   "source": []
  },
  {
   "cell_type": "code",
   "execution_count": null,
   "id": "f26ab256",
   "metadata": {},
   "outputs": [],
   "source": []
  },
  {
   "cell_type": "code",
   "execution_count": null,
   "id": "3391b004",
   "metadata": {},
   "outputs": [],
   "source": []
  },
  {
   "cell_type": "markdown",
   "id": "929a3fca",
   "metadata": {},
   "source": [
    "**Кодирование признаков для features_train через OneHotEncoder**"
   ]
  },
  {
   "cell_type": "code",
   "execution_count": null,
   "id": "32c426f1",
   "metadata": {},
   "outputs": [],
   "source": [
    "#создаем список категориальных колонок cat_columns - они у нас все с типом 'object'\n",
    "cat_columns = df.select_dtypes('object').columns\n",
    "\n",
    "# применим кодирование OneHotEncoder:\n",
    "ohe_enc = OneHotEncoder(drop = 'first')\n",
    "ohe_enc.fit(features_train[cat_columns])\n",
    "new_columns = ohe_enc.get_feature_names(cat_columns)\n",
    "features_train_ohe = pd.DataFrame(ohe_enc.transform(features_train[cat_columns]).toarray(), columns = new_columns)\n",
    "\n",
    "# сбросим индекс, чтобы можно было соединить таблицы по индексу\n",
    "features_train = features_train.reset_index()\n",
    "\n",
    "# выберем незакодированные столбцы в отдельный датафрейм\n",
    "features_train_for_join = features_train[['monthly_charges', 'loyalty_period']]\n",
    "\n",
    "# присоединим числовые столбцы, которые не были закодированы, к выборке features_train, \n",
    "features_train_ohe_all = features_train_ohe.join(features_train_for_join)"
   ]
  },
  {
   "cell_type": "markdown",
   "id": "0e39473b",
   "metadata": {},
   "source": [
    "**Кодирование признаков для features_test через OneHotEncoder**"
   ]
  },
  {
   "cell_type": "code",
   "execution_count": null,
   "id": "362aea3a",
   "metadata": {},
   "outputs": [],
   "source": [
    "#создаем список категориальных колонок cat_columns - они у нас все с типом 'object'\n",
    "cat_columns = df.select_dtypes('object').columns\n",
    "\n",
    "# применим кодирование OneHotEncoder:\n",
    "ohe_enc = OneHotEncoder(drop = 'first')\n",
    "ohe_enc.fit(features_test[cat_columns])\n",
    "new_columns = ohe_enc.get_feature_names(cat_columns)\n",
    "features_test_ohe = pd.DataFrame(ohe_enc.transform(features_test[cat_columns]).toarray(), columns = new_columns)\n",
    "\n",
    "# сбросим индекс, чтобы можно было соединить таблицы\n",
    "features_test = features_test.reset_index()\n",
    "\n",
    "# выберем незакодированные столбцы в отдельный датафрейм\n",
    "features_test_for_join = features_test[['monthly_charges', 'loyalty_period']]\n",
    "\n",
    "# присоединим числовые столбцы, которые не были закодированы, к выборке features_test, \n",
    "features_test_ohe_all = features_test_ohe.join(features_test_for_join)"
   ]
  },
  {
   "cell_type": "markdown",
   "id": "84ea95d1",
   "metadata": {},
   "source": [
    "**Масштабирование (стандартизация) признаков через StandardScaler для линейной модели**"
   ]
  },
  {
   "cell_type": "code",
   "execution_count": null,
   "id": "57516738",
   "metadata": {},
   "outputs": [],
   "source": [
    "# создадим объект структуры  StandardScaler и настроим его на обучающих данных. \n",
    "# настройка — это вычисление среднего и дисперсии:\n",
    "numeric = ['monthly_charges', 'loyalty_period']\n",
    "scaler = StandardScaler()\n",
    "scaler.fit(features_train_ohe_all[numeric]) # список всех численных признаков (если не передать, то будет ошибка типов)\n",
    "scaler.fit(features_test_ohe_all[numeric])\n",
    "\n",
    "# Преобразуем обучающую и тестовую выборки функцией transform(). \n",
    "# Изменённые наборы сохраним в новых переменных\n",
    "features_train_ohe_all_for_linear = features_train_ohe_all\n",
    "features_test_ohe_all_for_linear = features_test_ohe_all\n",
    "\n",
    "features_train_ohe_all_for_linear[numeric] = scaler.transform(features_train_ohe_all[numeric])\n",
    "features_test_ohe_all_for_linear[numeric] = scaler.transform(features_test_ohe_all[numeric]) "
   ]
  },
  {
   "cell_type": "code",
   "execution_count": null,
   "id": "ff3cc6f6",
   "metadata": {},
   "outputs": [],
   "source": [
    "# убедимся, что масштабирование прошло успешно\n",
    "display(features_train_ohe_all_for_linear.head())"
   ]
  },
  {
   "cell_type": "code",
   "execution_count": null,
   "id": "28c3ffbe",
   "metadata": {},
   "outputs": [],
   "source": [
    "display(features_test_ohe_all_for_linear.head())"
   ]
  },
  {
   "cell_type": "markdown",
   "id": "5e667da1",
   "metadata": {},
   "source": [
    "<div class=\"alert alert-success\">\n",
    "<b>✔️ Комментарий ревьювера:</b> Разделение на обучающую и тестовую выборки выполнено правильно.\n",
    "      \n",
    "</div>"
   ]
  },
  {
   "cell_type": "markdown",
   "id": "937108e2",
   "metadata": {},
   "source": [
    "<div class=\"alert alert-success\">\n",
    "<b>✔️ Комментарий ревьювера:</b> Хорошо, что обращаешь внимание на дисбаланс классов, это нужно учитывать при обучении моделей.\n",
    "      \n",
    "</div>"
   ]
  },
  {
   "cell_type": "markdown",
   "id": "6da18ee5",
   "metadata": {},
   "source": [
    "<div class=\"alert alert-danger\">\n",
    "<b>🚫 Комментарий ревьювера:</b> Для линейных моделей необходимо добавить масштабирование числовых признаков.\n",
    "      \n",
    "</div>"
   ]
  },
  {
   "cell_type": "markdown",
   "id": "de4b01d5",
   "metadata": {},
   "source": [
    "<div class=\"alert alert-info\"> <b>ℹ️ Комментарий студента: </b> Провел масштабирование признаков для всех моделей</div>"
   ]
  },
  {
   "cell_type": "markdown",
   "id": "bfd6e50c",
   "metadata": {},
   "source": [
    "<div class=\"alert alert-success\">\n",
    "<b>✔️ Комментарий ревьювера v2:</b> Отлично!\n",
    "    \n",
    "</div>"
   ]
  },
  {
   "cell_type": "markdown",
   "id": "1af1b110",
   "metadata": {},
   "source": [
    "### LogisticRegression"
   ]
  },
  {
   "cell_type": "markdown",
   "id": "574552af",
   "metadata": {},
   "source": [
    "Обучим, получим предсказания и проверим качество модели LinearRegression с замером времени"
   ]
  },
  {
   "cell_type": "code",
   "execution_count": null,
   "id": "c9a38ce3",
   "metadata": {},
   "outputs": [],
   "source": [
    "model_lr = LogisticRegression(class_weight='balanced')"
   ]
  },
  {
   "cell_type": "code",
   "execution_count": null,
   "id": "cdc368c5",
   "metadata": {},
   "outputs": [],
   "source": [
    "%%time\n",
    "model_lr.fit(features_train_ohe_all_for_linear, target_train)"
   ]
  },
  {
   "cell_type": "code",
   "execution_count": null,
   "id": "89d9f35e",
   "metadata": {},
   "outputs": [],
   "source": [
    "%%time\n",
    "predicted_lr = model_lr.predict(features_train_ohe_all_for_linear)"
   ]
  },
  {
   "cell_type": "code",
   "execution_count": null,
   "id": "64a58a08",
   "metadata": {},
   "outputs": [],
   "source": [
    "# получим предсказания модели LogisticRegression\n",
    "probabilities_valid = model_lr.predict_proba(features_train_ohe_all_for_linear)\n",
    "probabilities_one_valid = probabilities_valid[:, 1]\n",
    "\n",
    "fpr, tpr, thresholds = roc_curve(target_train, probabilities_one_valid)\n",
    "\n",
    "plt.figure()\n",
    "plt.plot(fpr, tpr)\n",
    "\n",
    "# рассчитаем метрику roc_auc для модели LogisticRegression\n",
    "roc_auc_lr = cross_val_score(model_lr, features_train_ohe_all_for_linear, target_train, cv=5, scoring = 'roc_auc').mean()\n",
    "print(\"ROC_AUC модели LogisticRegression =\", roc_auc_lr)\n",
    "\n",
    "# рассчитаем метрику accuracy для модели LogisticRegression\n",
    "accuracy = cross_val_score(model_lr, features_train_ohe_all_for_linear, target_train, cv=5, scoring = 'accuracy').mean()\n",
    "print(\"accuracy модели LogisticRegression =\", accuracy)\n",
    "\n",
    "# ROC-кривая случайной модели (выглядит как прямая)\n",
    "plt.plot([0, 1], [0, 1], linestyle='--')\n",
    "\n",
    "# < примените функции plt.xlim() и plt.ylim(), чтобы\n",
    "#   установить границы осей от 0 до 1 >\n",
    "plt.ylim([0.0, 1.0])\n",
    "plt.xlim([0.0, 1.0])\n",
    "\n",
    "# < примените функции plt.xlabel() и plt.ylabel(), чтобы\n",
    "#   подписать оси \"False Positive Rate\" и \"True Positive Rate\" >\n",
    "plt.xlabel('False Positive Rate')\n",
    "plt.ylabel('True Positive Rate')\n",
    "\n",
    "# < добавьте к графику заголовок \"ROC-кривая\" функцией plt.title() >\n",
    "plt.title('ROC-кривая')\n",
    "#plt.figure(figsize=(6, 6))\n",
    "#plt.step(recall, precision, where='post')\n",
    "\n",
    "plt.show()"
   ]
  },
  {
   "cell_type": "markdown",
   "id": "2b7ed44e",
   "metadata": {},
   "source": [
    "<div class=\"alert alert-danger\">\n",
    "<b>🚫 Комментарий ревьювера:</b> Поскольку в модели логистической регрессии не использовалась функция GridSearchCV, не совсем правильно проверять качество модели на выборке train — нужно использовать оценку на кросс-валидации cross_val_score:\n",
    "    \n",
    "https://scikit-learn.org/stable/modules/generated/sklearn.model_selection.cross_val_score.html\n",
    "    \n",
    "Если проверять таким образом, оценки модели не будут завышенными =)\n",
    "    \n",
    "    roc_auc_lr = cross_val_score(model_lr, features_train, target_train, cv=5, scoring = 'roc_auc').mean()\n",
    "\n",
    "Для accuracy также можно посчитать через функцию cross_val_score.\n",
    "\n",
    "Все дело в том, что модель уже «видела» выборку train, поэтому качество предсказания выше. В случае линейных моделей это не сильно сказывается, но решающие деревья и бустинги показывают слишком оптимистичные результаты.\n",
    "    \n",
    "</div>"
   ]
  },
  {
   "cell_type": "markdown",
   "id": "e667b193",
   "metadata": {},
   "source": [
    "<div class=\"alert alert-info\"> <b>ℹ️ Комментарий студента: </b> Провел расчет метрик ROC_AUC и accuracy через оценку на кросс-валидации</div>"
   ]
  },
  {
   "cell_type": "markdown",
   "id": "d3a3221c",
   "metadata": {},
   "source": [
    "<div class=\"alert alert-success\">\n",
    "<b>✔️ Комментарий ревьювера v2:</b> Хорошая работа!\n",
    "    \n",
    "</div>"
   ]
  },
  {
   "cell_type": "markdown",
   "id": "20f18c17",
   "metadata": {},
   "source": [
    "### RandomForestClassifier"
   ]
  },
  {
   "cell_type": "code",
   "execution_count": null,
   "id": "04b355cd",
   "metadata": {},
   "outputs": [],
   "source": [
    "rfc = RandomForestClassifier(class_weight='balanced',\n",
    "                             bootstrap=True,\n",
    "                             random_state=42)\n",
    "\n",
    "rfc_params = {\n",
    "     'n_estimators': [50,400],\n",
    "     'max_depth': [2,20],\n",
    "     'criterion': ['entropy'],\n",
    "     'max_features': ['sqrt']\n",
    "\n",
    "}\n",
    "\n",
    "grid_search_rfc = GridSearchCV(rfc,\n",
    "                               rfc_params, \n",
    "                               verbose=2,\n",
    "                               cv=5,\n",
    "                               n_jobs=-1,\n",
    "                               scoring='roc_auc')\n",
    "\n",
    "grid_search_rfc.fit(features_train_ohe_all_for_linear, target_train)\n",
    "\n",
    "print(\" --------------------------------------------------------------------------\" )\n",
    "print(\" --------------------------------------------------------------------------\" )\n",
    "print(\" Results from Grid Search \" )\n",
    "print(\"\\n The best estimator across ALL searched params:\\n\", grid_search_rfc.best_estimator_)\n",
    "print(\"\\n The best score across ALL searched params:\\n\", grid_search_rfc.best_score_)\n",
    "print(\"\\n The best parameters across ALL searched params:\\n\", grid_search_rfc.best_params_)"
   ]
  },
  {
   "cell_type": "markdown",
   "id": "cd9c2ce8",
   "metadata": {},
   "source": [
    "### LightGBM"
   ]
  },
  {
   "cell_type": "code",
   "execution_count": null,
   "id": "566ba3e8",
   "metadata": {
    "scrolled": true
   },
   "outputs": [],
   "source": [
    "pipe_lgbm = Pipeline(steps=[('scaler', StandardScaler()),\n",
    "                            ('lgbm', LGBMClassifier(random_state=RANDOM_STATE,\n",
    "                                                    objective='binary',\n",
    "                                                    class_weight='balanced',\n",
    "                                                    silent=True))])\n",
    "\n",
    "lgbm_params = {\n",
    " 'lgbm__max_depth': [2, 12, 2],\n",
    " 'lgbm__n_estimators': [200, 800, 10],\n",
    " 'lgbm__learning_rate': [0.1, 0.9, 0.05]\n",
    "}\n",
    "\n",
    "grid_search_lgbm = GridSearchCV(pipe_lgbm,\n",
    "                                lgbm_params, \n",
    "                                verbose=2,\n",
    "                                cv=5,\n",
    "                                n_jobs=-1,\n",
    "                                scoring='roc_auc')\n",
    "\n",
    "grid_search_lgbm.fit(features_train_ohe_all, target_train)\n",
    "\n",
    "print(\" --------------------------------------------------------------------------\" )\n",
    "print(\" --------------------------------------------------------------------------\" )\n",
    "print(\" Results from Grid Search \" )\n",
    "print(\"\\n The best estimator across ALL searched params:\\n\", grid_search_lgbm.best_estimator_)\n",
    "print(\"\\n The best score across ALL searched params:\\n\", grid_search_lgbm.best_score_)\n",
    "print(\"\\n The best parameters across ALL searched params:\\n\", grid_search_lgbm.best_params_)"
   ]
  },
  {
   "cell_type": "markdown",
   "id": "84a37ad2",
   "metadata": {},
   "source": [
    "<div class=\"alert alert-success\">\n",
    "<b>✔️ Комментарий ревьювера:</b> Отличный результат на кросс-валидации для модели LGBM!\n",
    "      \n",
    "</div>"
   ]
  },
  {
   "cell_type": "markdown",
   "id": "87a480ea",
   "metadata": {},
   "source": [
    "### CatBoostClassifier: вариант №1 (признаки подготовлены через OneHotEncoder и StandartScaller)"
   ]
  },
  {
   "cell_type": "code",
   "execution_count": null,
   "id": "0ffa201f",
   "metadata": {},
   "outputs": [],
   "source": [
    "catboost = CatBoostClassifier(loss_function='Logloss', random_seed=RANDOM_STATE, silent=True)\n",
    "\n",
    "catboost_params = {\n",
    " 'depth': [2, 6],\n",
    " 'iterations': [400, 700, 50],\n",
    " 'learning_rate': [0.1, 0.7],\n",
    " 'l2_leaf_reg':[1, 3],\n",
    "}\n",
    "\n",
    "grid_search_catboost = GridSearchCV(catboost,\n",
    "                                   catboost_params, \n",
    "                                   verbose=2,\n",
    "                                   cv=5,\n",
    "                                   n_jobs=-1,\n",
    "                                   scoring='roc_auc')\n",
    "\n",
    "grid_search_catboost.fit(features_train_ohe_all, target_train)\n",
    "\n",
    "print(\" --------------------------------------------------------------------------\" )\n",
    "print(\" --------------------------------------------------------------------------\" )\n",
    "print(\" Results from Grid Search \" )\n",
    "print(\"\\n The best score across ALL searched params:\\n\", grid_search_catboost.best_score_)\n",
    "print(\"\\n The best parameters across ALL searched params:\\n\", grid_search_catboost.best_params_)"
   ]
  },
  {
   "cell_type": "markdown",
   "id": "ca1c1ac0",
   "metadata": {},
   "source": [
    "### CatBoostClassifier: вариант №2 (категориальные признаки переданы через встроенный метод \"cat_features=categories\")"
   ]
  },
  {
   "cell_type": "code",
   "execution_count": null,
   "id": "4c3616b9",
   "metadata": {},
   "outputs": [],
   "source": [
    "# выделим признаки для обучения моделей\n",
    "features_catboost = df.drop(['client_status'], axis = 1)\n",
    "target_catboost = df['client_status']"
   ]
  },
  {
   "cell_type": "code",
   "execution_count": null,
   "id": "1ff521d8",
   "metadata": {},
   "outputs": [],
   "source": [
    "# разделим датафрейм на обучающую и тестовую выборки, при этом \n",
    "# используем стратификацию (параметр stratify), чтобы сбалансировать \n",
    "# выборки по классам (для целевого признака target)\n",
    "\n",
    "features_train_catboost, features_test_catboost, target_train_catboost, target_test_catboost = train_test_split(\n",
    "    features_catboost, target_catboost, test_size=TEST_SIZE, random_state=RANDOM_STATE, stratify=target)\n",
    "\n",
    "if features_train_catboost.shape[0]==target_train_catboost.shape[0] and features_test_catboost.shape[0]==target_test_catboost.shape[0]:\n",
    "    print('All is good: sample sizes are correct')\n",
    "else:\n",
    "    print('Error!!! Sample sizes are NOT correct')\n",
    "\n",
    "features_train_catboost.shape, target_train_catboost.shape, features_test_catboost.shape, target_test_catboost.shape"
   ]
  },
  {
   "cell_type": "code",
   "execution_count": null,
   "id": "276d09ab",
   "metadata": {},
   "outputs": [],
   "source": [
    "# получим список категориальных признаков в \n",
    "cat_features_categories = list(features_train_catboost.select_dtypes('object').columns)\n",
    "display(cat_features_categories)"
   ]
  },
  {
   "cell_type": "code",
   "execution_count": null,
   "id": "4eb20f5a",
   "metadata": {},
   "outputs": [],
   "source": [
    "catboost = CatBoostClassifier(loss_function='Logloss', random_seed=RANDOM_STATE, silent=True)\n",
    "\n",
    "catboost_params = {\n",
    " 'depth': [2, 6],\n",
    " 'iterations': [400, 700, 50],\n",
    " 'learning_rate': [0.1, 0.7],\n",
    " 'l2_leaf_reg':[1, 3]\n",
    "}\n",
    "\n",
    "grid_search_catboost = GridSearchCV(catboost,\n",
    "                                   catboost_params,                                   \n",
    "                                   verbose=2,\n",
    "                                   cv=5,\n",
    "                                   n_jobs=-1,\n",
    "                                   scoring='roc_auc')\n",
    "\n",
    "grid_search_catboost.fit(features_train_catboost, target_train_catboost, cat_features=cat_features_categories)\n",
    "\n",
    "print(\" --------------------------------------------------------------------------\" )\n",
    "print(\" --------------------------------------------------------------------------\" )\n",
    "print(\" Results from Grid Search \" )\n",
    "print(\"\\n The best score across ALL searched params:\\n\", grid_search_catboost.best_score_)\n",
    "print(\"\\n The best parameters across ALL searched params:\\n\", grid_search_catboost.best_params_)"
   ]
  },
  {
   "cell_type": "markdown",
   "id": "98d9368e",
   "metadata": {},
   "source": [
    "CatBoostClassifier c прямой передачей категориальных признаков для встроенного в модель метода \"cat_features=categories\" показал практически такой же результат (хуже на 0,001), как и при кодировании признаков через OneHotEncoder и стандартизации признаков через StandartScaller, но подбор гиперпараметров при таком методе осуществляется немного дольше! Важно, что требуемые гиперпараметры найдены - они одинаковы для обоих методов передачи признаков!"
   ]
  },
  {
   "cell_type": "markdown",
   "id": "3ea436ea",
   "metadata": {},
   "source": [
    "<div class=\"alert alert-success\">\n",
    "<b>✔️ Комментарий ревьювера v2:</b> Внутреннее кодирование в модели CatBoost действительно занимает дополнительное время.\n",
    "    \n",
    "</div>"
   ]
  },
  {
   "cell_type": "markdown",
   "id": "26159b2c",
   "metadata": {},
   "source": [
    "## Тестирование "
   ]
  },
  {
   "cell_type": "markdown",
   "id": "0d5543a2",
   "metadata": {},
   "source": [
    "### Тестирование лучшей модели"
   ]
  },
  {
   "cell_type": "markdown",
   "id": "02491bd5",
   "metadata": {},
   "source": [
    "По результатам подбора параметров лучший результат основной метрики (ROC-AUC) показала модель CatBoostClassifier. Дальнейшее тестирование будем проводить с этой моделью!"
   ]
  },
  {
   "cell_type": "code",
   "execution_count": null,
   "id": "06e004bc",
   "metadata": {
    "scrolled": true
   },
   "outputs": [],
   "source": [
    "# рассчитаем метрику ROC-AUC на тестовой выборке, чтобы убедиться в том, \n",
    "# что модель не переобучилась (значения ROC-AUC метрики на train и test выборках должны быть приблизительно одинаковые)\n",
    "\n",
    "predict_proba = grid_search_catboost.predict_proba(features_test_catboost)[:, 1]\n",
    "roc_auc_score(target_test_catboost, predict_proba)"
   ]
  },
  {
   "cell_type": "markdown",
   "id": "05c431ca",
   "metadata": {},
   "source": [
    "<div class=\"alert alert-success\">\n",
    "<b>✔️ Комментарий ревьювера:</b> Хорошо, что рассмотрел несколько моделей и сделал перебор гиперпараметров! Правильно, что выбрал лучшую модель на кросс-валидации, т.к. в реальной практике тестовая выборка нам недоступна. \n",
    "   \n",
    "Ты получил очень хороший результат на тестировании. Метрика ROC-AUC > 0.88, значит по работе ты получаешь максимальный балл, поздравляю!    \n",
    "    \n",
    "Здорово, что добавил визуализацию ROC-кривой.\n",
    "\n",
    "    \n",
    "</div>"
   ]
  },
  {
   "cell_type": "code",
   "execution_count": null,
   "id": "b46ba5c3",
   "metadata": {},
   "outputs": [],
   "source": [
    "# строим ROC-кривую и смотрим предсказания\n",
    "def ROC_AUC_diagramm(target, predict_proba):\n",
    "    fpr, tpr, thresholds = roc_curve(target, predict_proba, pos_label=1)\n",
    "    plt.figure(figsize=(12, 10))\n",
    "    plt.plot(fpr, tpr)\n",
    "    plt.xlim([0.0, 1.0])\n",
    "    plt.ylim([0.0, 1.0])\n",
    "    plt.xlabel('False Positive Rate')\n",
    "    plt.ylabel('True Positive Rate')\n",
    "    plt.title('ROC-кривая')\n",
    "    plt.plot([0, 1], [0, 1], linestyle='--')\n",
    "    plt.show()\n",
    "\n",
    "ROC_AUC_diagramm(target_test_catboost, predict_proba)    "
   ]
  },
  {
   "cell_type": "markdown",
   "id": "56001598",
   "metadata": {},
   "source": [
    "По кривой видно, что модель предсказывала не случайно"
   ]
  },
  {
   "cell_type": "code",
   "execution_count": null,
   "id": "efe72c56",
   "metadata": {},
   "outputs": [],
   "source": [
    "# предскажем на тестовой выборке, чтобы получить значение точности модели (accuracy - дополнительная метрика)\n",
    "predicted_test_catboost = grid_search_catboost.predict(features_test_catboost)\n",
    "accuracy_score(target_test_catboost, predicted_test_catboost)"
   ]
  },
  {
   "cell_type": "code",
   "execution_count": null,
   "id": "5696af3d",
   "metadata": {},
   "outputs": [],
   "source": [
    "# построим матрицу ошибок\n",
    "plt.figure(figsize=(5, 5))\n",
    "sns.heatmap(confusion_matrix(target_test_catboost, predicted_test_catboost),annot=True,fmt='3.0f',cmap=\"plasma\")\n",
    "plt.title('CatBoost: матрица ошибок', y=1, size=18)"
   ]
  },
  {
   "cell_type": "markdown",
   "id": "8aedf04d",
   "metadata": {},
   "source": [
    "<div class=\"alert alert-success\">\n",
    "<b>✔️ Комментарий ревьювера:</b> Здорово, что добавил визуализацию матрицы ошибок =)\n",
    "\n",
    "    \n",
    "</div>"
   ]
  },
  {
   "cell_type": "markdown",
   "id": "014633a9",
   "metadata": {},
   "source": [
    "<div class=\"alert alert-warning\">\n",
    "<b>⚠️ Комментарий ревьювера:</b> Как рекомендация, можно посмотреть важность признаков для лучшей модели.\n",
    "    \n",
    "Анализ важности признаков позволяет не только построить лучшую модель и уменьшить число признаков для обучения. Мы также можем выдать рекомендации бизнесу, изучив влияние признаков на отток, тем самым можно повысить качество определенных услуг, например онлайн-платежи или оптоволоконный интернет.\n",
    "    \n",
    "</div>"
   ]
  },
  {
   "cell_type": "markdown",
   "id": "e6e91ec1",
   "metadata": {},
   "source": [
    "<div class=\"alert alert-info\"> <b>ℹ️ Комментарий студента: </b> Визуализировал важность признаков при обучении CatBoostClassifier ниже и написал краткий вывод</div>"
   ]
  },
  {
   "cell_type": "markdown",
   "id": "dca01c74",
   "metadata": {},
   "source": [
    "<div class=\"alert alert-success\">\n",
    "<b>✔️ Комментарий ревьювера v2:</b> Хорошо.\n",
    "    \n",
    "</div>"
   ]
  },
  {
   "cell_type": "code",
   "execution_count": null,
   "id": "c612d254",
   "metadata": {},
   "outputs": [],
   "source": [
    "# посмотрим, какие признаки модель CatBoostClassifier оценила как наиболее важные\n",
    "catboost = CatBoostClassifier(random_seed=RANDOM_STATE, silent=True).fit(features_train_catboost, target_train_catboost, cat_features=cat_features_categories)\n",
    "features_importance = catboost.get_feature_importance()\n",
    "pd.DataFrame(features_importance, index=features_train_catboost.dtypes.index, columns=['Важность признаков для CatBoostClassifier'])\\\n",
    "    .sort_values(by='Важность признаков для CatBoostClassifier', ascending = False).style.bar()"
   ]
  },
  {
   "cell_type": "markdown",
   "id": "fe13f7a2",
   "metadata": {},
   "source": [
    "Видно, что на обучающей выборке самым важным для CatBoostClassifier был признак loyalty_period (длительность лояльности клиента), затем с отставанием почти в 5 раз идет type (регулярность платежей). На данные признаки необходимо обратить внимание при формировании стратегий удержания клиентов! Все прочие признаки меньше влияют на лояльность клиентов, но также могут быть учтены в порядке убывания полезности!"
   ]
  },
  {
   "cell_type": "markdown",
   "id": "4e6fbddc",
   "metadata": {},
   "source": [
    "<div class=\"alert alert-success\">\n",
    "<b>✔️ Комментарий ревьювера:</b> Вот небольшие статьи по метрикам в машинном обучении, если заинтересует:\n",
    "\n",
    "https://habr.com/ru/company/ods/blog/328372/ \n",
    "    \n",
    "https://habr.com/ru/company/jetinfosystems/blog/420261/\n",
    "\n",
    "</div>"
   ]
  },
  {
   "cell_type": "markdown",
   "id": "7b1a1e3e",
   "metadata": {},
   "source": [
    "### Дополнительно: Тестирование лучшей модели по параметрам, подобранным через CatBoost _ optuna"
   ]
  },
  {
   "cell_type": "code",
   "execution_count": null,
   "id": "ab973c17",
   "metadata": {},
   "outputs": [],
   "source": [
    "\"\"\"\n",
    "Optuna example that demonstrates a pruner for CatBoost.\n",
    "In this example, we optimize the validation accuracy of cancer detection using CatBoost.\n",
    "We optimize both the choice of booster models and their hyperparameters. Throughout\n",
    "training of models, a pruner observes intermediate results and stop unpromising trials.\n",
    "You can run this example as follows:\n",
    "    $ python catboost_pruning.py\n",
    "\"\"\"\n",
    "\n",
    "import numpy as np\n",
    "\n",
    "import optuna\n",
    "from optuna.integration import CatBoostPruningCallback\n",
    "\n",
    "import catboost as cb\n",
    "from sklearn.datasets import load_breast_cancer\n",
    "from sklearn.metrics import accuracy_score\n",
    "from sklearn.model_selection import train_test_split\n",
    "\n",
    "\n",
    "def objective(trial: optuna.Trial) -> float:\n",
    "    #train_x, valid_x, train_y, valid_y = train_test_split(features, target, test_size=TEST_SIZE, random_state=RANDOM_STATE)\n",
    "    train_x = features_train_ohe_all\n",
    "    valid_x = features_test_ohe_all\n",
    "    train_y = target_train\n",
    "    valid_y = target_test\n",
    "\n",
    "    param = {\n",
    "        \"objective\": trial.suggest_categorical(\"objective\", [\"Logloss\", \"CrossEntropy\"]),\n",
    "        \"colsample_bylevel\": trial.suggest_float(\"colsample_bylevel\", 0.01, 0.1, log=True),\n",
    "        \"depth\": trial.suggest_int(\"depth\", 1, 12),\n",
    "        \"boosting_type\": trial.suggest_categorical(\"boosting_type\", [\"Ordered\", \"Plain\"]),\n",
    "        \"bootstrap_type\": trial.suggest_categorical(\n",
    "            \"bootstrap_type\", [\"Bayesian\", \"Bernoulli\", \"MVS\"]\n",
    "        ),\n",
    "        \"used_ram_limit\": \"3gb\",\n",
    "        \"eval_metric\": \"AUC\",\n",
    "    }\n",
    "\n",
    "    if param[\"bootstrap_type\"] == \"Bayesian\":\n",
    "        param[\"bagging_temperature\"] = trial.suggest_float(\"bagging_temperature\", 0, 10)\n",
    "    elif param[\"bootstrap_type\"] == \"Bernoulli\":\n",
    "        param[\"subsample\"] = trial.suggest_float(\"subsample\", 0.1, 1, log=True)\n",
    "\n",
    "    gbm = cb.CatBoostClassifier(**param)\n",
    "\n",
    "    pruning_callback = CatBoostPruningCallback(trial, \"AUC\")\n",
    "    gbm.fit(\n",
    "        train_x,\n",
    "        train_y,\n",
    "        eval_set=[(valid_x, valid_y)],\n",
    "        verbose=0,\n",
    "        early_stopping_rounds=100,\n",
    "        callbacks=[pruning_callback],\n",
    "    )\n",
    "\n",
    "    # evoke pruning manually.\n",
    "    pruning_callback.check_pruned()\n",
    "\n",
    "    preds = gbm.predict(valid_x)\n",
    "    pred_labels = np.rint(preds)\n",
    "    accuracy = accuracy_score(valid_y, pred_labels)\n",
    "\n",
    "    return accuracy\n",
    "\n",
    "\n",
    "if __name__ == \"__main__\":\n",
    "    study = optuna.create_study(\n",
    "        pruner=optuna.pruners.MedianPruner(n_warmup_steps=5), direction=\"maximize\"\n",
    "    )\n",
    "    study.optimize(objective, n_trials=100, timeout=600)\n",
    "\n",
    "    print(\"Number of finished trials: {}\".format(len(study.trials)))\n",
    "\n",
    "    print(\"Best trial:\")\n",
    "    trial = study.best_trial\n",
    "\n",
    "    print(\"  Value: {}\".format(trial.value))\n",
    "\n",
    "    print(\"  Params: \")\n",
    "    for key, value in trial.params.items():\n",
    "        print(\"    {}: {}\".format(key, value))"
   ]
  },
  {
   "cell_type": "code",
   "execution_count": null,
   "id": "af7e25be",
   "metadata": {},
   "outputs": [],
   "source": [
    "# применим полученные лучшие параметры, найденные через CatBoost _ optuna\n",
    "cat_model_optuna = CatBoostClassifier(objective='Logloss', \n",
    "                                      colsample_bylevel=0.09490214001842687, \n",
    "                                      depth=7, \n",
    "                                      boosting_type='Ordered',\n",
    "                                      bootstrap_type='Bayesian',\n",
    "                                      bagging_temperature=0.39639683218914645)"
   ]
  },
  {
   "cell_type": "code",
   "execution_count": null,
   "id": "071a6520",
   "metadata": {},
   "outputs": [],
   "source": [
    "%%time\n",
    "cat_model_optuna.fit(features_train_ohe_all, target_train)"
   ]
  },
  {
   "cell_type": "markdown",
   "id": "f6edfc19",
   "metadata": {},
   "source": [
    "**Проверка на тестовой выборке**"
   ]
  },
  {
   "cell_type": "code",
   "execution_count": null,
   "id": "287660cb",
   "metadata": {},
   "outputs": [],
   "source": [
    "#%%time\n",
    "# предскажем на тестовой выборке, чтобы получить значение точности модели (accuracy - дополнительная метрика)\n",
    "#predicted_test_catboost_optuna = cat_model_optuna.predict(features_test_ohe_all)\n",
    "#accuracy_score(target_test, predicted_test_catboost_optuna)"
   ]
  },
  {
   "cell_type": "code",
   "execution_count": null,
   "id": "292436c4",
   "metadata": {},
   "outputs": [],
   "source": [
    "# рассчитаем метрику ROC-AUC на тестовой выборке, чтобы убедиться в том, \n",
    "# что модель не переобучилась (значения ROC-AUC метрики на train и test выборках должны быть приблизительно одинаковые) \n",
    "#predict_proba_optuna = cat_model_optuna.predict_proba(features_test_ohe_all)[:, 1]\n",
    "#roc_auc_score(target_test, predict_proba_optuna)"
   ]
  },
  {
   "cell_type": "markdown",
   "id": "750cabef",
   "metadata": {},
   "source": [
    "**Проверка на обучающей выборке**"
   ]
  },
  {
   "cell_type": "code",
   "execution_count": null,
   "id": "1716db07",
   "metadata": {},
   "outputs": [],
   "source": [
    "%%time\n",
    "# предскажем на тестовой выборке, чтобы получить значение точности модели (accuracy - дополнительная метрика)\n",
    "predicted_train_catboost_optuna = cat_model_optuna.predict(features_train_ohe_all)\n",
    "accuracy_score(target_train, predicted_train_catboost_optuna)"
   ]
  },
  {
   "cell_type": "code",
   "execution_count": null,
   "id": "0f43d35d",
   "metadata": {},
   "outputs": [],
   "source": [
    "# рассчитаем метрику ROC-AUC на тестовой выборке, чтобы убедиться в том, \n",
    "# что модель не переобучилась (значения ROC-AUC метрики на train и test выборках должны быть приблизительно одинаковые) \n",
    "predict_proba_optuna = cat_model_optuna.predict_proba(features_train_ohe_all)[:, 1]\n",
    "roc_auc_score(target_train, predict_proba_optuna)"
   ]
  },
  {
   "cell_type": "markdown",
   "id": "f7fd3ba7",
   "metadata": {},
   "source": [
    "При использовании optuna не удалось подобрать гиперпараметры, при которых значение метрики ROC-AUC было бы больше, чем при подборе через GridSearchCV. Оставляем гиперпараметры, найденные с помощью GridSearchCV для CatBoostClassifier"
   ]
  },
  {
   "cell_type": "markdown",
   "id": "a915fe39",
   "metadata": {},
   "source": [
    "<div class=\"alert alert-info\"> <b>ℹ️ Комментарий студента: </b> Метод optuna каждый раз дает разные гиперпараметры, метрика качества при этом не высокая. Если я применил правильно этот метод, то насколько часто он применяется на практике? Есть подозрение, что метод должен показывать более высокие результаты</div>"
   ]
  },
  {
   "cell_type": "markdown",
   "id": "3c3b0b26",
   "metadata": {},
   "source": [
    "<div class=\"alert alert-success\">\n",
    "<b>✔️ Комментарий ревьювера:</b> Дмитрий, я более подробно посмотрю твое решение с Optuna и дам ответ на следующей итерации, а также добавлю ссылки по Optuna. \n",
    "    \n",
    "Вообще должны получаться неплохие результаты =)\n",
    "    \n",
    "Пока что отправлю проект для ознакомления с проверкой.\n",
    "    \n",
    "Если решишь в проекте оставить блок кода с Optuna, то нужно делать проверку также на выборке train, т.к. на тестовой выборке проводится проверка только одной модели.\n",
    "      \n",
    "</div>"
   ]
  },
  {
   "cell_type": "markdown",
   "id": "d3ba4155",
   "metadata": {},
   "source": [
    "<div class=\"alert alert-info\"> <b>ℹ️ Комментарий студента: </b> \"Если решишь в проекте оставить блок кода с Optuna, то нужно делать проверку также на выборке train, т.к. на тестовой выборке проводится проверка только одной модели\". Здесь не совсем понял, что значит проверка только одной модели на тестовой? Гиперпараметры единственной модели указал в выводах проекта, этот блок как дополнительный сделал, чтобы опробовать метод, но метрика не получилась высокой, поэтому буду благодарен, если сможешь подсказать, что я сделал не так в optuna! Спасибо! </div>"
   ]
  },
  {
   "cell_type": "markdown",
   "id": "442b6c44",
   "metadata": {},
   "source": [
    "<div class=\"alert alert-success\">\n",
    "<b>✔️ Комментарий ревьювера v2:</b> Дмитрий, согласен с тобой, это пробный блок, вне основной работы, все хорошо 👍\n",
    "      \n",
    "По поводу Optuna: \n",
    "    \n",
    "- данная библиотека довольно успешно применяется на практике. Я посмотрел твой пример, но к сожалению с  CatBoostPruningCallback еще не доводилось работать, поэтому мне нужно детальнее изучить пример. \n",
    "    \n",
    "Можешь попробовать примеры с Optuna по ссылкам, которые я добавил ниже.\n",
    "    \n",
    "</div>"
   ]
  },
  {
   "cell_type": "markdown",
   "id": "e07ba501",
   "metadata": {},
   "source": [
    "### Проверка модели на адекватность"
   ]
  },
  {
   "cell_type": "markdown",
   "id": "12884633",
   "metadata": {},
   "source": [
    "Проверим модель на адекватность, сравнив с dummy значениями (случайные предсказания)"
   ]
  },
  {
   "cell_type": "code",
   "execution_count": null,
   "id": "7d6c3568",
   "metadata": {},
   "outputs": [],
   "source": [
    "# предсказания для DummyClassifier\n",
    "dummy_model = DummyClassifier(strategy='stratified', random_state=RANDOM_STATE)\n",
    "dummy_model.fit(features_train_ohe_all,target_train)\n",
    "dummy_pred_proba = dummy_model.predict_proba(features_test_ohe_all)[:, 1]\n",
    "dummy_pred = dummy_model.predict(features_test_ohe_all)"
   ]
  },
  {
   "cell_type": "code",
   "execution_count": null,
   "id": "fae0eaea",
   "metadata": {},
   "outputs": [],
   "source": [
    "# расчет метрики roc_auc для DummyClassifier\n",
    "roc_auc_score(target_test, dummy_pred_proba)"
   ]
  },
  {
   "cell_type": "code",
   "execution_count": null,
   "id": "9e1bdbcc",
   "metadata": {},
   "outputs": [],
   "source": [
    "# расчет метрики accurasy для DummyClassifier\n",
    "accuracy_score(target_test, dummy_pred)"
   ]
  },
  {
   "cell_type": "markdown",
   "id": "83f975ca",
   "metadata": {},
   "source": [
    "Модель CatBoostClassifier предсказывает не случайно, т.к. в результате сравнения метрик CatBoostClassifier с моделью DummyClassifier (средние значения) существенно более высокое качество показывает CatBoostClassifier"
   ]
  },
  {
   "cell_type": "markdown",
   "id": "10e5e154",
   "metadata": {},
   "source": [
    "## Вывод"
   ]
  },
  {
   "cell_type": "markdown",
   "id": "e622c369",
   "metadata": {},
   "source": [
    "### Вывод по исследованию\n",
    "В результате проведения исследования достигнута цель проекта - обучена модель, которая способна прогнозировать отток клиентов у оператора связи «Ниединогоразрыва.ком», что в свою очередь позволит принимать решения, направленные на повышение лояльности клиентов, путем заблаговременного (предугаданного) предложения таким клиентам промокодов и специальных условий.\n",
    "\n",
    "**Описание модели: CatBoostClassifier с гиперпараметрами: {'depth': 2, 'iterations': 400, 'l2_leaf_reg': 1, 'learning_rate': 0.7}**\n",
    "\n",
    "    Итоговая основная метрика качества ROC-AUC = 0,944\n",
    "    Итоговая дополнительная метрика качества accuracy (точность) = 0.902"
   ]
  },
  {
   "cell_type": "markdown",
   "id": "ffb9db16",
   "metadata": {},
   "source": [
    "<font color=blue>\n",
    "<b> ✔️ 👍Заключение ревьювера:</b> Дмитрий, было приятно проверять твою работу, она выполнена на хорошем уровне! \n",
    "    \n",
    "В целом, тебе удалось справиться с выпускным проектом, поздравляю! Данные из разных таблиц собраны в один датафрейм, удалены аномалии, заполнены пропуски, получены новые признаки, а ненужные признаки удалены. Рассмотрено несколько моделей и сделан перебор параметров. Могу отметить самостоятельность и аналитический подход в выполнении проекта!\n",
    "   \n",
    "Положительные моменты: \n",
    "    \n",
    "- грамотное и понятное оформление кода;\n",
    "    \n",
    "- аналитический подход — при удалении признаков и формировании новых написано соответствующее обоснование;\n",
    "    \n",
    "- проведен анализ данных и корреляции признаков;\n",
    "    \n",
    "- новые признаки сгенерированы правильно, лишние удалены;\n",
    "    \n",
    "- использован перебор гиперпараметров в моделях, удалось достичь высокого значения метрики ROC-AUC.\n",
    "    \n",
    "Сейчас есть некоторые замечания по проекту, но их недолго поправить:\n",
    "    \n",
    "- кодирование признаков нужно выполнить после разделения на train и test;\n",
    "    \n",
    "- необходимо использовать кодирование One Hot Encoding. Если используется метод get_dummies, тож необходимо убедиться, что названия признаков на выборках train и test совпадают;\n",
    "    \n",
    "- для линейной модели нужно выполнить масштабирование числовых признаков;\n",
    "    \n",
    "- качество на кросс-валидации в модели логистической регрессии нужно посчитать с помощью функции cross_val_score (написал подробнее в комментарии).\n",
    "    \n",
    "Есть также спорный момент при заполнении пропусков, а также я отметил рекомендации.\n",
    "    \n",
    "Поскольку ты быстро подготовил проект, у нас есть запас по времени — я отправлю его, чтобы ты мог ознакомиться с проверкой, внести исправления и возможно задать вопросы =)\n",
    "    \n",
    "Также на будущее стоит иметь ввиду, что метрика ROC-AUC является не единственной, всегда нужно прислушиваться к требованиями бизнеса. Обычно одной метрикой не ограничиваются, смотрят также Precision, Recall, и выбирают те, которые наиболее подходят для конкретных задач. \n",
    "    \n",
    "Еще нужно смотреть на важность признаков в модели, чтобы понимать, какие параметры влияют на отток.\n",
    "    \n",
    "Проверка важности признаков по модели это только один из способов (корреляция в том числе). Используют также аналитические методы проверки гипотез.\n",
    "    \n",
    "</font>"
   ]
  },
  {
   "cell_type": "markdown",
   "id": "1a606092",
   "metadata": {},
   "source": [
    "<div class=\"alert alert-info\"> <b>ℹ️ Комментарий студента: </b> Арсен, можно ли обучать CatBoost сразу на GPU параметром task_type='GPU' в методе fit (хотя это может сказаться на качестве). Увидел в статье https://habr.com/ru/company/ods/blog/645887/  , попробовал в GridSarchCV, получил ошибку. Можешь сказать, правда ли это и почему у меня не получиль? Или еще проще: как обучать CatBoost без переписывания кода?  </div>"
   ]
  },
  {
   "cell_type": "markdown",
   "id": "590e7145",
   "metadata": {},
   "source": [
    "<div class=\"alert alert-info\"> <b>ℹ️ Комментарий студента: </b> Арсен, можно ли добавить в GridSearch параметр типа %%time , чтобы был виден прогресс, а то не понятно, зависла модель или считается? </div>"
   ]
  },
  {
   "cell_type": "markdown",
   "id": "ee5333ad",
   "metadata": {},
   "source": [
    "<div class=\"alert alert-success\">\n",
    "<b>✔️ Комментарий ревьювера v2:</b> Да, можно обучать на GPU. Рекомендую посмотреть данное видео по работе и настройке модели CatBoost: \n",
    "    \n",
    "https://www.youtube.com/watch?v=xl1fwCza9C8   \n",
    "    \n",
    "Чтобы обучение на GPU было доступно, нужно подключить графическое ядро. Видеокарта должна поддерживать ядро Cuda, но если нет хорошей видеокарты, можно в GoogleColab запустить.\n",
    "    \n",
    "Здесь я добавлю интересные материалы по optuna и CatBoost:\n",
    "    \n",
    "Пример с optuna: \n",
    "https://zen.yandex.ru/media/id/5ee6f73b7cadb75a66e4c7e3/nastraivaem-kondicii-modeli-s-optuna-6133134e71c877674778071f \n",
    "    \n",
    "Еще по Optuna: https://teletype.in/@dt_analytic/DoR552QoG4q\n",
    "    \n",
    " \n",
    "    \n",
    "Градиентный бустинг с Catboost:\n",
    "    \n",
    "https://habr.com/ru/post/594077/\n",
    "    \n",
    "https://habr.com/ru/post/599827/\n",
    "    \n",
    "https://habr.com/ru/post/648939/\n",
    "    \n",
    "Сейчас у тебя установлен параметр silent = True в модели CatBoost. Этот параметр можно отключить.\n",
    "    \n",
    "За частоту обновления информации отвечает параметр verbose, например verbose = 100 будет означать, что каждые 100 итераций будет выводиться информация об обучении. По умолчанию verbose = 1.\n",
    "</div>"
   ]
  },
  {
   "cell_type": "markdown",
   "id": "c051798e",
   "metadata": {},
   "source": [
    "<div class=\"alert alert-success\">\n",
    "<b>✔️ Комментарий ревьювера v2:</b> Поздравляю с выполнением основной части проекта!\n",
    "    \n",
    "Ты можешь потом, для портфолио, поработать над рекомендациями.\n",
    "    \n",
    "Буду ждать отчет по выпускному проекту. Пожалуйста, сохрани наши с тобой комментарии в этом проекте, а отчет продолжай выполнять ниже, в этом файле Jupyter Notebook.\n",
    "    \n",
    "В отчете не забудь указать все пункты по предорбработке данных, параметрам модели, набору признаков для обучения — чтобы была возможность воспроизвести твою работу, изучив только отчет (нужно добавить список признаков для обучения, список гиперпараметров модели).\n",
    "    \n",
    "Я принимаю работу и буду ждать отчет на проверку!\n",
    "    \n",
    "</div>"
   ]
  },
  {
   "cell_type": "markdown",
   "id": "023660d6",
   "metadata": {},
   "source": [
    "<div class=\"alert alert-warning\">\n",
    "<b>⚠️ Комментарий тимлида v2:</b> По отчету все хорошо, нужно только добавить несколько пунктов:\n",
    "    \n",
    "- список признаков, которые использовались в обучении;\n",
    "    \n",
    "- размер тестовой выборки.\n",
    "    \n",
    "</div>"
   ]
  },
  {
   "cell_type": "markdown",
   "id": "f70b8451",
   "metadata": {},
   "source": [
    "## Отчёт по проекту"
   ]
  },
  {
   "cell_type": "markdown",
   "id": "7ccacd15",
   "metadata": {},
   "source": [
    "### Сравнение плановых и фактических работ по проекту\n",
    "\n",
    "Перед выполнением исследования и разработки модели был написан план, в соответствии с которым выполнялась работа. План не всегда может быть выполнен абсолютно точно, т.к. при выполнении проекта могут возникать новые идеи или дополнительные трудности. Такую ситуацию можно кратко описать с помощью афоризма \"если бы можно было все предусмотреть, то капитан корабля был бы не нужен\"! Разберем детально, что конкретно было выполнено по плану, а где были вынужденные действия вне плана.\n",
    "\n",
    "**План по выполнению проекта** был такой:\n",
    "\n",
    "**1. Загрузка данных** <span style=\"color:blue\">Выполнено по плану</span>\n",
    " \n",
    "    Открыть файлы с данными и изучить их по следующим пунктам: \n",
    "    - изучить датасеты методом info() \n",
    "\n",
    "**2. Исследовательский анализ данных** <span style=\"color:blue\">Выполнено с учетом комментариев</span>\n",
    "\n",
    "    Провести исследовательский анализ данных по следующим пунктам: \n",
    "    - объединить таблицы по customerID (первичный ключ для всех таблиц),\n",
    "    - изучить полученный датасет методом info(),\n",
    "    - проверить наличие дубликатов, в случае необходимости - удалить,\n",
    "    \n",
    "    - заполнить пропуски соответствующим методом, \n",
    "<span style=\"color:blue\"> После объединения датасетов неизбежно возникнут пропуски в соответствующих признаках для объектов, которые отсутствовали в любой из таблиц, кроме `contract.csv`. В данном пункте имеется минимум два способа заполнения таких пропусков: 1) можно заполнить пропуски для признаков `OnlineSecurity`, `OnlineBackup`, `DeviceProtection`, `TechSupport`, `StreamingTV`, `StreamingMovies` значением 'No', т.к. при отсутствии подключенного интернета (`InternetService`= 'No') по этим сервисам также будет 'No', 2) заполнить пропуски в данных признаках третьей категорией (например, 'Service unavailable'), чтобы модель сама определяла, имеется ли разница между понятием \"не подключил услугу, но могу это сделать (No)\" и понятием \"для подключения этой услуги мне надо подключить еще интернет (Service unavailable)\". В проекте был выбран второй способ, этот выбор допустимый, что подтверждается высокой итоговой метрикой лучшей модели </span>\n",
    "     \n",
    "    - преобразовать данные в нужные типы (в т.ч. для экономии памяти),  \n",
    "    - сгенерировать дополнительные признаки (например, количество дней с момента заключения контракта),\n",
    "    - посмотреть статистики методом describe(),\n",
    "    - проверить корреляцию библиотекой phik,\n",
    "    - построить гистограммы распределения / boxplot для выбранных признаков (в случае небольшого количества объектов удалять аномалии не рекомендуется)\n",
    "    \n",
    "<span style=\"color:blue\"> Был проведен экспресс-анализ клиентов в разрезе статуса (текущий/ушедший) по параметру MonthlyCharges. Данный анализ может быть расширен и углублен при необходимости  </span>\n",
    "\n",
    "<span style=\"color:blue\">  В проекте был исследован и учтен в работе дисбаланс классов, чего не было в изначальном плане </span>\n",
    "\n",
    "\n",
    "**3. Обучение моделей** <span style=\"color:blue\">Выполнено с учетом комментариев</span>\n",
    "     \n",
    "     Исследовать качество разных моделей, меняя гиперпараметры: \n",
    "     - исследовать баланс классов и сбалансировать в случае необходимости\n",
    "     - для обучающей и тестовой выборок сформировать столбец с целевым признаком (использовать для этого признак EndDate),\n",
    "     \n",
    "<span style=\"color:blue\"> Были удалены лишние признаки, которые могут быть вычислены на основании других признаков (даты, сумма всех платежей). Итоговый набор признаков, которые использовались для обучения моделей, выглядит так: </span>\n",
    "     \n",
    "     - разделить данные на обучающую и тестовую выборки, \n",
    "<span style=\"color:blue\"> Для исключения переобучения модели разделение на обучающую и тестовую выборки было выполнено после кодирования признаков </span>\n",
    "        \n",
    "     - использовать OneHotEncoder для кодирования категориальных признаков,\n",
    "      \n",
    " <span style=\"color:blue\"> Изначально было использовано категориальное кодирование вразрез с планом (каждому значению признака присваивается число в зависимости от количества уникальных категорий в признаке). Такой способ не приемлем для линейных моделей. В итоге был использован OneHotEncoder </span>\n",
    " \n",
    "  <span style=\"color:blue\">  Для линейных моделей важна стандартизация признаков, что не было учтено в плане. В результате выполнения работы стандартизация была выполнена </span>\n",
    "  \n",
    "     \n",
    "     - обучить модели LinearRegression, LightGBM (градиентный бустинг) и RandomForestClassifier (случайный лес), используя GridSearchCV и/или RandomizedSearchCV для подбора гиперпараметров во всех моделях, кроме LinearRegression, \n",
    "     - в случае недостижения требуемого результата метрики AUC-ROC обучить другие модели градиентного бустинга (CatBoostClassifier) и \"деревьев решений\" (DecisionTreeClassifier) \n",
    "     \n",
    "<span style=\"color:blue\"> В результате выполнения проекта метрика ROC-AUC, достаточная для достижения отличной оценки проекта, была найдена после GridSearchCV с Pipeline, но сразу была попробована и модель CatBoostClassifier, которая в итоге показала наивысший результат и была признана лучшей. Выполнять проект, предвосхищая ожидания заказчика - это хорошая практика при наличии времени, при условии, что это не требует существенных дополнительных ресурсов. Также в проекте была сдалана попытка поиска лучших гиперпараметров через \"from optuna.integration import CatBoostPruningCallback\", что позволило получить высокую метрику ROC-AUC (0,8997), но метрика модели, гиперпараметры которой подобраны через GridSearchCV, оказалась выше </span>\n",
    "\n",
    "<span style=\"color:blue\"> Лучшая модель была обучена на признаках, подготовленных разными способами: CatBoostClassifier: вариант №1 (признаки подготовлены через OneHotEncoder и StandartScaller) и CatBoostClassifier: вариант №2 (категориальные признаки переданы через встроенный метод \"cat_features=categories\")</span>\n",
    "\n",
    "\n",
    "**4. Тестирование лучшей по метрике AUC-ROC модели** <span style=\"color:blue\">Выполнено с учетом комментариев</span> \n",
    "     \n",
    "     Провести тестирование лучшей модели\n",
    "    - выбрать лучшую по метрике AUC-ROC модель и протестировать ее на тестовой выборке по подобранным в п. 3 гиперпараметрам\n",
    "    - убедиться, что значение метрики AUC-ROC существенно не отличается на обучающей и тестовой выборке (переобучение модели!)\n",
    "\n",
    "<span style=\"color:blue\"> Что еще было сделано в проекте по пункту №4 дополнительно к плану: \n",
    "1) Визуализированы графиками различные данные, в том числе метрики, матрица ошибок\n",
    "2) Проведена проверка модели на адекватность через сравнение со случайными предсказаниями\n",
    "3) Построена таблица \"Важность признаков для CatBoostClassifier\" для выявления факторов, которые в большей степени влияют на результаты предсказания моделью </span>    \n",
    "\n",
    "\n",
    "**5. Сформулировать выводы по проекту** <span style=\"color:blue\">Выполнено по плану </span>\n",
    "    \n",
    "    - убедиться, что задача проекта выполнена\n",
    "    - указать модель и гиперпараметры, при которых достигнута максимальная метрика AUC-ROC\n",
    "    - отметить в выводе иные важные детали, полученные в результате работы над проектом"
   ]
  },
  {
   "cell_type": "markdown",
   "id": "e672596c",
   "metadata": {},
   "source": [
    "### Трудности, возникшие при выполнении проекта, и способы их преодоления\n",
    "\n",
    "    Основные трудности, которые возникли при выполнении проекта:\n",
    "        1) Недостаточный анализ каждого признака. В признаке `TotalCharges` могут быть не пропуски, а \"пробелы\", означающие, что клиенты еще не внесли ни одного платежа, произошло уже на этапе работы с моделями, что вызвало ошибку. Пришлось возвращаться к анализу данных заново\n",
    "        2) Использование OneHotEncoder после доработки проекта. Надо было сразу делать по плану\n",
    "        3) Разделение выборки до кодирования признаков. Также надо было делать по плану сразу"
   ]
  },
  {
   "cell_type": "markdown",
   "id": "2039c810",
   "metadata": {},
   "source": [
    "### Ключевые шаги\n",
    "\n",
    "    Основной шаг - не отступать от плана там, где план правильный! В остальном ключевые шаги описаны в план-фактном анализе отчета по проекту"
   ]
  },
  {
   "cell_type": "markdown",
   "id": "318ece9d",
   "metadata": {},
   "source": [
    "### Итоговая модель\n",
    "\n",
    "   **Описание модели: CatBoostClassifier с гиперпараметрами: {'depth': 2, 'iterations': 400, 'l2_leaf_reg': 1, 'learning_rate': 0.7}**\n",
    "\n",
    "    Итоговая основная метрика качества ROC-AUC = 0,944\n",
    "    Итоговая дополнительная метрика качества accuracy (точность) = 0.902"
   ]
  }
 ],
 "metadata": {
  "ExecuteTimeLog": [
   {
    "duration": 1118,
    "start_time": "2022-09-16T09:42:52.218Z"
   },
   {
    "duration": 11,
    "start_time": "2022-09-16T09:42:54.737Z"
   },
   {
    "duration": 81,
    "start_time": "2022-09-16T09:43:08.401Z"
   },
   {
    "duration": 1161,
    "start_time": "2022-09-16T09:43:19.572Z"
   },
   {
    "duration": 10,
    "start_time": "2022-09-16T09:43:20.736Z"
   },
   {
    "duration": 10,
    "start_time": "2022-09-16T09:43:20.748Z"
   },
   {
    "duration": 314,
    "start_time": "2022-09-16T09:43:22.033Z"
   },
   {
    "duration": 156,
    "start_time": "2022-09-16T09:43:35.128Z"
   },
   {
    "duration": 173,
    "start_time": "2022-09-16T09:43:42.240Z"
   },
   {
    "duration": 140,
    "start_time": "2022-09-16T09:43:50.320Z"
   },
   {
    "duration": 18,
    "start_time": "2022-09-16T09:43:56.104Z"
   },
   {
    "duration": 43,
    "start_time": "2022-09-16T09:43:56.599Z"
   },
   {
    "duration": 1147,
    "start_time": "2022-09-19T16:56:01.996Z"
   },
   {
    "duration": 69,
    "start_time": "2022-09-19T16:56:16.434Z"
   },
   {
    "duration": 2490,
    "start_time": "2022-09-19T16:56:37.010Z"
   },
   {
    "duration": 821,
    "start_time": "2022-09-19T16:56:42.354Z"
   },
   {
    "duration": 2642,
    "start_time": "2022-09-19T16:56:50.762Z"
   },
   {
    "duration": 19,
    "start_time": "2022-09-19T16:56:55.370Z"
   },
   {
    "duration": 3,
    "start_time": "2022-09-19T16:56:59.289Z"
   },
   {
    "duration": 12,
    "start_time": "2022-09-19T16:57:00.602Z"
   },
   {
    "duration": 2,
    "start_time": "2022-09-19T16:57:02.417Z"
   },
   {
    "duration": 401,
    "start_time": "2022-09-19T16:57:12.319Z"
   },
   {
    "duration": 536,
    "start_time": "2022-09-19T16:57:13.171Z"
   },
   {
    "duration": 150,
    "start_time": "2022-09-19T16:57:18.044Z"
   },
   {
    "duration": 221,
    "start_time": "2022-09-19T16:57:23.651Z"
   },
   {
    "duration": 159,
    "start_time": "2022-09-19T16:57:30.581Z"
   },
   {
    "duration": 15,
    "start_time": "2022-09-19T16:57:33.091Z"
   },
   {
    "duration": 22,
    "start_time": "2022-09-19T16:57:33.420Z"
   },
   {
    "duration": 14,
    "start_time": "2022-09-19T16:57:33.540Z"
   },
   {
    "duration": 5,
    "start_time": "2022-09-19T16:57:34.027Z"
   },
   {
    "duration": 3,
    "start_time": "2022-09-19T16:57:34.339Z"
   },
   {
    "duration": 2,
    "start_time": "2022-09-19T16:57:34.491Z"
   },
   {
    "duration": 41,
    "start_time": "2022-09-19T16:57:34.651Z"
   },
   {
    "duration": 6,
    "start_time": "2022-09-19T16:57:34.963Z"
   },
   {
    "duration": 9,
    "start_time": "2022-09-19T16:57:35.132Z"
   },
   {
    "duration": 20,
    "start_time": "2022-09-19T16:57:35.436Z"
   },
   {
    "duration": 20,
    "start_time": "2022-09-19T16:57:35.588Z"
   },
   {
    "duration": 8,
    "start_time": "2022-09-19T16:57:35.931Z"
   },
   {
    "duration": 44,
    "start_time": "2022-09-19T16:57:36.076Z"
   },
   {
    "duration": 1170,
    "start_time": "2022-09-19T16:57:36.828Z"
   },
   {
    "duration": 3178,
    "start_time": "2022-09-19T16:57:38.000Z"
   },
   {
    "duration": 22,
    "start_time": "2022-09-19T16:57:41.180Z"
   },
   {
    "duration": 4,
    "start_time": "2022-09-19T16:57:41.203Z"
   },
   {
    "duration": 121,
    "start_time": "2022-09-19T16:57:41.209Z"
   },
   {
    "duration": 806,
    "start_time": "2022-09-19T16:57:41.331Z"
   },
   {
    "duration": 2523,
    "start_time": "2022-09-19T16:57:42.139Z"
   },
   {
    "duration": 20,
    "start_time": "2022-09-19T16:57:47.700Z"
   },
   {
    "duration": 1774,
    "start_time": "2022-09-19T17:03:37.121Z"
   },
   {
    "duration": 3,
    "start_time": "2022-09-19T17:03:38.897Z"
   },
   {
    "duration": 20,
    "start_time": "2022-09-19T17:03:38.901Z"
   },
   {
    "duration": 2,
    "start_time": "2022-09-19T17:03:39.478Z"
   },
   {
    "duration": 159,
    "start_time": "2022-09-19T17:03:39.927Z"
   },
   {
    "duration": 124,
    "start_time": "2022-09-19T17:03:40.199Z"
   },
   {
    "duration": 118,
    "start_time": "2022-09-19T17:03:40.671Z"
   },
   {
    "duration": 696,
    "start_time": "2022-09-19T17:03:40.887Z"
   },
   {
    "duration": 16,
    "start_time": "2022-09-19T17:03:41.584Z"
   },
   {
    "duration": 25,
    "start_time": "2022-09-19T17:03:41.821Z"
   },
   {
    "duration": 16,
    "start_time": "2022-09-19T17:03:42.037Z"
   },
   {
    "duration": 5,
    "start_time": "2022-09-19T17:03:43.078Z"
   },
   {
    "duration": 3,
    "start_time": "2022-09-19T17:03:43.653Z"
   },
   {
    "duration": 4,
    "start_time": "2022-09-19T17:03:44.038Z"
   },
   {
    "duration": 43,
    "start_time": "2022-09-19T17:03:44.206Z"
   },
   {
    "duration": 7,
    "start_time": "2022-09-19T17:03:44.565Z"
   },
   {
    "duration": 8,
    "start_time": "2022-09-19T17:03:44.782Z"
   },
   {
    "duration": 20,
    "start_time": "2022-09-19T17:03:45.134Z"
   },
   {
    "duration": 19,
    "start_time": "2022-09-19T17:03:45.367Z"
   },
   {
    "duration": 8,
    "start_time": "2022-09-19T17:03:45.742Z"
   },
   {
    "duration": 43,
    "start_time": "2022-09-19T17:03:46.103Z"
   },
   {
    "duration": 1174,
    "start_time": "2022-09-19T17:03:47.063Z"
   },
   {
    "duration": 3098,
    "start_time": "2022-09-19T17:03:48.239Z"
   },
   {
    "duration": 22,
    "start_time": "2022-09-19T17:03:51.339Z"
   },
   {
    "duration": 4,
    "start_time": "2022-09-19T17:03:51.377Z"
   },
   {
    "duration": 109,
    "start_time": "2022-09-19T17:03:51.383Z"
   },
   {
    "duration": 790,
    "start_time": "2022-09-19T17:03:51.624Z"
   },
   {
    "duration": 2543,
    "start_time": "2022-09-19T17:03:52.415Z"
   },
   {
    "duration": 27,
    "start_time": "2022-09-19T17:03:54.960Z"
   },
   {
    "duration": 151,
    "start_time": "2022-09-19T17:03:55.125Z"
   },
   {
    "duration": 73,
    "start_time": "2022-09-19T17:03:55.685Z"
   },
   {
    "duration": 142,
    "start_time": "2022-09-19T17:03:56.637Z"
   },
   {
    "duration": 71,
    "start_time": "2022-09-19T17:03:57.054Z"
   },
   {
    "duration": 8,
    "start_time": "2022-09-19T17:03:58.758Z"
   },
   {
    "duration": 135,
    "start_time": "2022-09-19T17:03:59.310Z"
   },
   {
    "duration": 10,
    "start_time": "2022-09-19T17:03:59.710Z"
   },
   {
    "duration": 126,
    "start_time": "2022-09-19T17:04:00.150Z"
   },
   {
    "duration": 21,
    "start_time": "2022-09-19T17:04:00.943Z"
   },
   {
    "duration": 142,
    "start_time": "2022-09-19T17:04:01.406Z"
   },
   {
    "duration": 5,
    "start_time": "2022-09-19T17:04:02.062Z"
   },
   {
    "duration": 61,
    "start_time": "2022-09-19T17:04:02.430Z"
   },
   {
    "duration": 60,
    "start_time": "2022-09-19T17:04:02.862Z"
   },
   {
    "duration": 55,
    "start_time": "2022-09-19T17:04:03.254Z"
   },
   {
    "duration": 10,
    "start_time": "2022-09-19T17:09:52.449Z"
   },
   {
    "duration": 12,
    "start_time": "2022-09-19T17:10:05.897Z"
   },
   {
    "duration": 11,
    "start_time": "2022-09-19T17:10:31.187Z"
   },
   {
    "duration": 297,
    "start_time": "2022-09-21T15:03:45.279Z"
   },
   {
    "duration": 14371,
    "start_time": "2022-09-21T15:03:55.562Z"
   },
   {
    "duration": 1632,
    "start_time": "2022-09-21T15:04:58.451Z"
   },
   {
    "duration": 406,
    "start_time": "2022-09-21T15:05:10.654Z"
   },
   {
    "duration": 3,
    "start_time": "2022-09-21T15:05:11.062Z"
   },
   {
    "duration": 13,
    "start_time": "2022-09-21T15:05:11.090Z"
   },
   {
    "duration": 4,
    "start_time": "2022-09-21T15:05:11.261Z"
   },
   {
    "duration": 187,
    "start_time": "2022-09-21T15:05:11.718Z"
   },
   {
    "duration": 132,
    "start_time": "2022-09-21T15:05:11.908Z"
   },
   {
    "duration": 120,
    "start_time": "2022-09-21T15:05:12.043Z"
   },
   {
    "duration": 134,
    "start_time": "2022-09-21T15:05:12.166Z"
   },
   {
    "duration": 18,
    "start_time": "2022-09-21T15:05:12.483Z"
   },
   {
    "duration": 26,
    "start_time": "2022-09-21T15:05:12.611Z"
   },
   {
    "duration": 18,
    "start_time": "2022-09-21T15:05:13.266Z"
   },
   {
    "duration": 5,
    "start_time": "2022-09-21T15:05:13.987Z"
   },
   {
    "duration": 3,
    "start_time": "2022-09-21T15:05:14.275Z"
   },
   {
    "duration": 4,
    "start_time": "2022-09-21T15:05:14.420Z"
   },
   {
    "duration": 46,
    "start_time": "2022-09-21T15:05:14.571Z"
   },
   {
    "duration": 7,
    "start_time": "2022-09-21T15:05:14.859Z"
   },
   {
    "duration": 11,
    "start_time": "2022-09-21T15:05:15.003Z"
   },
   {
    "duration": 24,
    "start_time": "2022-09-21T15:05:15.563Z"
   },
   {
    "duration": 24,
    "start_time": "2022-09-21T15:05:15.743Z"
   },
   {
    "duration": 8,
    "start_time": "2022-09-21T15:05:16.043Z"
   },
   {
    "duration": 53,
    "start_time": "2022-09-21T15:05:16.188Z"
   },
   {
    "duration": 1630,
    "start_time": "2022-09-21T15:05:16.492Z"
   },
   {
    "duration": 4215,
    "start_time": "2022-09-21T15:05:18.124Z"
   },
   {
    "duration": 4,
    "start_time": "2022-09-21T15:05:22.341Z"
   },
   {
    "duration": 1449,
    "start_time": "2022-09-21T15:05:22.347Z"
   },
   {
    "duration": 3836,
    "start_time": "2022-09-21T15:05:23.798Z"
   },
   {
    "duration": 60,
    "start_time": "2022-09-21T15:05:27.636Z"
   },
   {
    "duration": 189,
    "start_time": "2022-09-21T15:05:27.698Z"
   },
   {
    "duration": 110,
    "start_time": "2022-09-21T15:05:27.889Z"
   },
   {
    "duration": 194,
    "start_time": "2022-09-21T15:05:28.001Z"
   },
   {
    "duration": 99,
    "start_time": "2022-09-21T15:05:28.198Z"
   },
   {
    "duration": 10,
    "start_time": "2022-09-21T15:05:28.299Z"
   },
   {
    "duration": 202,
    "start_time": "2022-09-21T15:05:28.310Z"
   },
   {
    "duration": 12,
    "start_time": "2022-09-21T15:05:28.514Z"
   },
   {
    "duration": 177,
    "start_time": "2022-09-21T15:05:28.528Z"
   },
   {
    "duration": 29,
    "start_time": "2022-09-21T15:05:28.708Z"
   },
   {
    "duration": 99,
    "start_time": "2022-09-21T15:05:28.738Z"
   },
   {
    "duration": 6,
    "start_time": "2022-09-21T15:05:28.839Z"
   },
   {
    "duration": 98,
    "start_time": "2022-09-21T15:05:28.847Z"
   },
   {
    "duration": 93,
    "start_time": "2022-09-21T15:05:28.947Z"
   },
   {
    "duration": 74,
    "start_time": "2022-09-21T15:05:29.043Z"
   },
   {
    "duration": 16,
    "start_time": "2022-09-21T15:05:36.188Z"
   },
   {
    "duration": 36,
    "start_time": "2022-09-21T15:05:36.650Z"
   },
   {
    "duration": 5,
    "start_time": "2022-09-21T15:05:38.271Z"
   },
   {
    "duration": 14,
    "start_time": "2022-09-21T15:05:38.588Z"
   },
   {
    "duration": 44,
    "start_time": "2022-09-21T15:05:40.804Z"
   },
   {
    "duration": 22,
    "start_time": "2022-09-21T15:05:42.565Z"
   },
   {
    "duration": 21,
    "start_time": "2022-09-21T15:05:44.364Z"
   },
   {
    "duration": 27,
    "start_time": "2022-09-21T15:05:45.765Z"
   },
   {
    "duration": 27,
    "start_time": "2022-09-21T15:05:45.943Z"
   },
   {
    "duration": 3,
    "start_time": "2022-09-21T15:05:50.358Z"
   },
   {
    "duration": 3,
    "start_time": "2022-09-21T15:05:50.788Z"
   },
   {
    "duration": 451,
    "start_time": "2022-09-21T15:05:52.450Z"
   },
   {
    "duration": 94,
    "start_time": "2022-09-21T15:05:52.903Z"
   },
   {
    "duration": 3,
    "start_time": "2022-09-21T15:05:55.468Z"
   },
   {
    "duration": 4665,
    "start_time": "2022-09-21T15:05:55.646Z"
   },
   {
    "duration": 112874,
    "start_time": "2022-09-21T15:06:19.071Z"
   },
   {
    "duration": 100286,
    "start_time": "2022-09-21T15:11:25.311Z"
   }
  ],
  "kernelspec": {
   "display_name": "Python 3 (ipykernel)",
   "language": "python",
   "name": "python3"
  },
  "language_info": {
   "codemirror_mode": {
    "name": "ipython",
    "version": 3
   },
   "file_extension": ".py",
   "mimetype": "text/x-python",
   "name": "python",
   "nbconvert_exporter": "python",
   "pygments_lexer": "ipython3",
   "version": "3.9.10"
  },
  "toc": {
   "base_numbering": 1,
   "nav_menu": {
    "height": "342px",
    "width": "292px"
   },
   "number_sections": true,
   "sideBar": true,
   "skip_h1_title": true,
   "title_cell": "Table of Contents",
   "title_sidebar": "Contents",
   "toc_cell": true,
   "toc_position": {},
   "toc_section_display": true,
   "toc_window_display": false
  }
 },
 "nbformat": 4,
 "nbformat_minor": 5
}
